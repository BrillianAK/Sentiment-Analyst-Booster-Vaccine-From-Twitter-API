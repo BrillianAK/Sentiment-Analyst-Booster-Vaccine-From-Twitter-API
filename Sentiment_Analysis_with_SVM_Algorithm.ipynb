{
  "nbformat": 4,
  "nbformat_minor": 0,
  "metadata": {
    "colab": {
      "provenance": [],
      "toc_visible": true
    },
    "kernelspec": {
      "name": "python3",
      "display_name": "Python 3"
    },
    "language_info": {
      "name": "python"
    },
    "widgets": {
      "application/vnd.jupyter.widget-state+json": {
        "9450768e963a4b4a9c3de451c2b92aa9": {
          "model_module": "@jupyter-widgets/controls",
          "model_name": "HBoxModel",
          "model_module_version": "1.5.0",
          "state": {
            "_dom_classes": [],
            "_model_module": "@jupyter-widgets/controls",
            "_model_module_version": "1.5.0",
            "_model_name": "HBoxModel",
            "_view_count": null,
            "_view_module": "@jupyter-widgets/controls",
            "_view_module_version": "1.5.0",
            "_view_name": "HBoxView",
            "box_style": "",
            "children": [
              "IPY_MODEL_83782234fc034fb7be83feb36614327d",
              "IPY_MODEL_4db4e49c0dfc41569d9f7c9720da7d13",
              "IPY_MODEL_189daa4316694931a03ea33b761748a8"
            ],
            "layout": "IPY_MODEL_30a6839896c244aeb32d8233bf323988"
          }
        },
        "83782234fc034fb7be83feb36614327d": {
          "model_module": "@jupyter-widgets/controls",
          "model_name": "HTMLModel",
          "model_module_version": "1.5.0",
          "state": {
            "_dom_classes": [],
            "_model_module": "@jupyter-widgets/controls",
            "_model_module_version": "1.5.0",
            "_model_name": "HTMLModel",
            "_view_count": null,
            "_view_module": "@jupyter-widgets/controls",
            "_view_module_version": "1.5.0",
            "_view_name": "HTMLView",
            "description": "",
            "description_tooltip": null,
            "layout": "IPY_MODEL_fa72f788b5f24ddf9a35a1a33e22167b",
            "placeholder": "​",
            "style": "IPY_MODEL_d7b0bf556ee2498c99342140abb72579",
            "value": "Pandas Apply: 100%"
          }
        },
        "4db4e49c0dfc41569d9f7c9720da7d13": {
          "model_module": "@jupyter-widgets/controls",
          "model_name": "FloatProgressModel",
          "model_module_version": "1.5.0",
          "state": {
            "_dom_classes": [],
            "_model_module": "@jupyter-widgets/controls",
            "_model_module_version": "1.5.0",
            "_model_name": "FloatProgressModel",
            "_view_count": null,
            "_view_module": "@jupyter-widgets/controls",
            "_view_module_version": "1.5.0",
            "_view_name": "ProgressView",
            "bar_style": "success",
            "description": "",
            "description_tooltip": null,
            "layout": "IPY_MODEL_567d9e8a2381451a95b4c88330cbba36",
            "max": 165,
            "min": 0,
            "orientation": "horizontal",
            "style": "IPY_MODEL_82ece69bd30a413b9b4ef68dc9016d5d",
            "value": 165
          }
        },
        "189daa4316694931a03ea33b761748a8": {
          "model_module": "@jupyter-widgets/controls",
          "model_name": "HTMLModel",
          "model_module_version": "1.5.0",
          "state": {
            "_dom_classes": [],
            "_model_module": "@jupyter-widgets/controls",
            "_model_module_version": "1.5.0",
            "_model_name": "HTMLModel",
            "_view_count": null,
            "_view_module": "@jupyter-widgets/controls",
            "_view_module_version": "1.5.0",
            "_view_name": "HTMLView",
            "description": "",
            "description_tooltip": null,
            "layout": "IPY_MODEL_77f73559665d459391a18d465122c339",
            "placeholder": "​",
            "style": "IPY_MODEL_0f044a35593249fcb6dbb5cdf583032e",
            "value": " 165/165 [00:00&lt;00:00, 4543.22it/s]"
          }
        },
        "30a6839896c244aeb32d8233bf323988": {
          "model_module": "@jupyter-widgets/base",
          "model_name": "LayoutModel",
          "model_module_version": "1.2.0",
          "state": {
            "_model_module": "@jupyter-widgets/base",
            "_model_module_version": "1.2.0",
            "_model_name": "LayoutModel",
            "_view_count": null,
            "_view_module": "@jupyter-widgets/base",
            "_view_module_version": "1.2.0",
            "_view_name": "LayoutView",
            "align_content": null,
            "align_items": null,
            "align_self": null,
            "border": null,
            "bottom": null,
            "display": null,
            "flex": null,
            "flex_flow": null,
            "grid_area": null,
            "grid_auto_columns": null,
            "grid_auto_flow": null,
            "grid_auto_rows": null,
            "grid_column": null,
            "grid_gap": null,
            "grid_row": null,
            "grid_template_areas": null,
            "grid_template_columns": null,
            "grid_template_rows": null,
            "height": null,
            "justify_content": null,
            "justify_items": null,
            "left": null,
            "margin": null,
            "max_height": null,
            "max_width": null,
            "min_height": null,
            "min_width": null,
            "object_fit": null,
            "object_position": null,
            "order": null,
            "overflow": null,
            "overflow_x": null,
            "overflow_y": null,
            "padding": null,
            "right": null,
            "top": null,
            "visibility": null,
            "width": null
          }
        },
        "fa72f788b5f24ddf9a35a1a33e22167b": {
          "model_module": "@jupyter-widgets/base",
          "model_name": "LayoutModel",
          "model_module_version": "1.2.0",
          "state": {
            "_model_module": "@jupyter-widgets/base",
            "_model_module_version": "1.2.0",
            "_model_name": "LayoutModel",
            "_view_count": null,
            "_view_module": "@jupyter-widgets/base",
            "_view_module_version": "1.2.0",
            "_view_name": "LayoutView",
            "align_content": null,
            "align_items": null,
            "align_self": null,
            "border": null,
            "bottom": null,
            "display": null,
            "flex": null,
            "flex_flow": null,
            "grid_area": null,
            "grid_auto_columns": null,
            "grid_auto_flow": null,
            "grid_auto_rows": null,
            "grid_column": null,
            "grid_gap": null,
            "grid_row": null,
            "grid_template_areas": null,
            "grid_template_columns": null,
            "grid_template_rows": null,
            "height": null,
            "justify_content": null,
            "justify_items": null,
            "left": null,
            "margin": null,
            "max_height": null,
            "max_width": null,
            "min_height": null,
            "min_width": null,
            "object_fit": null,
            "object_position": null,
            "order": null,
            "overflow": null,
            "overflow_x": null,
            "overflow_y": null,
            "padding": null,
            "right": null,
            "top": null,
            "visibility": null,
            "width": null
          }
        },
        "d7b0bf556ee2498c99342140abb72579": {
          "model_module": "@jupyter-widgets/controls",
          "model_name": "DescriptionStyleModel",
          "model_module_version": "1.5.0",
          "state": {
            "_model_module": "@jupyter-widgets/controls",
            "_model_module_version": "1.5.0",
            "_model_name": "DescriptionStyleModel",
            "_view_count": null,
            "_view_module": "@jupyter-widgets/base",
            "_view_module_version": "1.2.0",
            "_view_name": "StyleView",
            "description_width": ""
          }
        },
        "567d9e8a2381451a95b4c88330cbba36": {
          "model_module": "@jupyter-widgets/base",
          "model_name": "LayoutModel",
          "model_module_version": "1.2.0",
          "state": {
            "_model_module": "@jupyter-widgets/base",
            "_model_module_version": "1.2.0",
            "_model_name": "LayoutModel",
            "_view_count": null,
            "_view_module": "@jupyter-widgets/base",
            "_view_module_version": "1.2.0",
            "_view_name": "LayoutView",
            "align_content": null,
            "align_items": null,
            "align_self": null,
            "border": null,
            "bottom": null,
            "display": null,
            "flex": null,
            "flex_flow": null,
            "grid_area": null,
            "grid_auto_columns": null,
            "grid_auto_flow": null,
            "grid_auto_rows": null,
            "grid_column": null,
            "grid_gap": null,
            "grid_row": null,
            "grid_template_areas": null,
            "grid_template_columns": null,
            "grid_template_rows": null,
            "height": null,
            "justify_content": null,
            "justify_items": null,
            "left": null,
            "margin": null,
            "max_height": null,
            "max_width": null,
            "min_height": null,
            "min_width": null,
            "object_fit": null,
            "object_position": null,
            "order": null,
            "overflow": null,
            "overflow_x": null,
            "overflow_y": null,
            "padding": null,
            "right": null,
            "top": null,
            "visibility": null,
            "width": null
          }
        },
        "82ece69bd30a413b9b4ef68dc9016d5d": {
          "model_module": "@jupyter-widgets/controls",
          "model_name": "ProgressStyleModel",
          "model_module_version": "1.5.0",
          "state": {
            "_model_module": "@jupyter-widgets/controls",
            "_model_module_version": "1.5.0",
            "_model_name": "ProgressStyleModel",
            "_view_count": null,
            "_view_module": "@jupyter-widgets/base",
            "_view_module_version": "1.2.0",
            "_view_name": "StyleView",
            "bar_color": null,
            "description_width": ""
          }
        },
        "77f73559665d459391a18d465122c339": {
          "model_module": "@jupyter-widgets/base",
          "model_name": "LayoutModel",
          "model_module_version": "1.2.0",
          "state": {
            "_model_module": "@jupyter-widgets/base",
            "_model_module_version": "1.2.0",
            "_model_name": "LayoutModel",
            "_view_count": null,
            "_view_module": "@jupyter-widgets/base",
            "_view_module_version": "1.2.0",
            "_view_name": "LayoutView",
            "align_content": null,
            "align_items": null,
            "align_self": null,
            "border": null,
            "bottom": null,
            "display": null,
            "flex": null,
            "flex_flow": null,
            "grid_area": null,
            "grid_auto_columns": null,
            "grid_auto_flow": null,
            "grid_auto_rows": null,
            "grid_column": null,
            "grid_gap": null,
            "grid_row": null,
            "grid_template_areas": null,
            "grid_template_columns": null,
            "grid_template_rows": null,
            "height": null,
            "justify_content": null,
            "justify_items": null,
            "left": null,
            "margin": null,
            "max_height": null,
            "max_width": null,
            "min_height": null,
            "min_width": null,
            "object_fit": null,
            "object_position": null,
            "order": null,
            "overflow": null,
            "overflow_x": null,
            "overflow_y": null,
            "padding": null,
            "right": null,
            "top": null,
            "visibility": null,
            "width": null
          }
        },
        "0f044a35593249fcb6dbb5cdf583032e": {
          "model_module": "@jupyter-widgets/controls",
          "model_name": "DescriptionStyleModel",
          "model_module_version": "1.5.0",
          "state": {
            "_model_module": "@jupyter-widgets/controls",
            "_model_module_version": "1.5.0",
            "_model_name": "DescriptionStyleModel",
            "_view_count": null,
            "_view_module": "@jupyter-widgets/base",
            "_view_module_version": "1.2.0",
            "_view_name": "StyleView",
            "description_width": ""
          }
        }
      }
    }
  },
  "cells": [
    {
      "cell_type": "markdown",
      "source": [
        "# Import Library"
      ],
      "metadata": {
        "id": "QHS7ZthgMaPx"
      }
    },
    {
      "cell_type": "code",
      "source": [
        "!pip install Sastrawi\n",
        "!pip install swifter"
      ],
      "metadata": {
        "id": "kFnHK75bbRUR",
        "colab": {
          "base_uri": "https://localhost:8080/"
        },
        "outputId": "c0ee9887-50fc-4606-df96-fe836832fe9a"
      },
      "execution_count": null,
      "outputs": [
        {
          "output_type": "stream",
          "name": "stdout",
          "text": [
            "Looking in indexes: https://pypi.org/simple, https://us-python.pkg.dev/colab-wheels/public/simple/\n",
            "Requirement already satisfied: Sastrawi in /usr/local/lib/python3.7/dist-packages (1.0.1)\n",
            "Looking in indexes: https://pypi.org/simple, https://us-python.pkg.dev/colab-wheels/public/simple/\n",
            "Requirement already satisfied: swifter in /usr/local/lib/python3.7/dist-packages (1.1.3)\n",
            "Requirement already satisfied: psutil>=5.6.6 in /usr/local/lib/python3.7/dist-packages (from swifter) (5.9.1)\n",
            "Requirement already satisfied: ipywidgets>=7.0.0 in /usr/local/lib/python3.7/dist-packages (from swifter) (7.7.0)\n",
            "Requirement already satisfied: parso>0.4.0 in /usr/local/lib/python3.7/dist-packages (from swifter) (0.8.3)\n",
            "Requirement already satisfied: tqdm>=4.33.0 in /usr/local/lib/python3.7/dist-packages (from swifter) (4.64.0)\n",
            "Requirement already satisfied: pandas>=1.0.0 in /usr/local/lib/python3.7/dist-packages (from swifter) (1.3.5)\n",
            "Requirement already satisfied: cloudpickle>=0.2.2 in /usr/local/lib/python3.7/dist-packages (from swifter) (1.3.0)\n",
            "Requirement already satisfied: bleach>=3.1.1 in /usr/local/lib/python3.7/dist-packages (from swifter) (5.0.0)\n",
            "Requirement already satisfied: dask[dataframe]>=2.10.0 in /usr/local/lib/python3.7/dist-packages (from swifter) (2.12.0)\n",
            "Requirement already satisfied: six>=1.9.0 in /usr/local/lib/python3.7/dist-packages (from bleach>=3.1.1->swifter) (1.15.0)\n",
            "Requirement already satisfied: webencodings in /usr/local/lib/python3.7/dist-packages (from bleach>=3.1.1->swifter) (0.5.1)\n",
            "Requirement already satisfied: numpy>=1.13.0 in /usr/local/lib/python3.7/dist-packages (from dask[dataframe]>=2.10.0->swifter) (1.21.6)\n",
            "Requirement already satisfied: fsspec>=0.6.0 in /usr/local/lib/python3.7/dist-packages (from dask[dataframe]>=2.10.0->swifter) (2022.5.0)\n",
            "Requirement already satisfied: partd>=0.3.10 in /usr/local/lib/python3.7/dist-packages (from dask[dataframe]>=2.10.0->swifter) (1.2.0)\n",
            "Requirement already satisfied: toolz>=0.7.3 in /usr/local/lib/python3.7/dist-packages (from dask[dataframe]>=2.10.0->swifter) (0.11.2)\n",
            "Requirement already satisfied: ipython>=4.0.0 in /usr/local/lib/python3.7/dist-packages (from ipywidgets>=7.0.0->swifter) (5.5.0)\n",
            "Requirement already satisfied: traitlets>=4.3.1 in /usr/local/lib/python3.7/dist-packages (from ipywidgets>=7.0.0->swifter) (5.1.1)\n",
            "Requirement already satisfied: jupyterlab-widgets>=1.0.0 in /usr/local/lib/python3.7/dist-packages (from ipywidgets>=7.0.0->swifter) (1.1.0)\n",
            "Requirement already satisfied: nbformat>=4.2.0 in /usr/local/lib/python3.7/dist-packages (from ipywidgets>=7.0.0->swifter) (5.4.0)\n",
            "Requirement already satisfied: ipython-genutils~=0.2.0 in /usr/local/lib/python3.7/dist-packages (from ipywidgets>=7.0.0->swifter) (0.2.0)\n",
            "Requirement already satisfied: ipykernel>=4.5.1 in /usr/local/lib/python3.7/dist-packages (from ipywidgets>=7.0.0->swifter) (4.10.1)\n",
            "Requirement already satisfied: widgetsnbextension~=3.6.0 in /usr/local/lib/python3.7/dist-packages (from ipywidgets>=7.0.0->swifter) (3.6.0)\n",
            "Requirement already satisfied: jupyter-client in /usr/local/lib/python3.7/dist-packages (from ipykernel>=4.5.1->ipywidgets>=7.0.0->swifter) (5.3.5)\n",
            "Requirement already satisfied: tornado>=4.0 in /usr/local/lib/python3.7/dist-packages (from ipykernel>=4.5.1->ipywidgets>=7.0.0->swifter) (5.1.1)\n",
            "Requirement already satisfied: pickleshare in /usr/local/lib/python3.7/dist-packages (from ipython>=4.0.0->ipywidgets>=7.0.0->swifter) (0.7.5)\n",
            "Requirement already satisfied: simplegeneric>0.8 in /usr/local/lib/python3.7/dist-packages (from ipython>=4.0.0->ipywidgets>=7.0.0->swifter) (0.8.1)\n",
            "Requirement already satisfied: pexpect in /usr/local/lib/python3.7/dist-packages (from ipython>=4.0.0->ipywidgets>=7.0.0->swifter) (4.8.0)\n",
            "Requirement already satisfied: pygments in /usr/local/lib/python3.7/dist-packages (from ipython>=4.0.0->ipywidgets>=7.0.0->swifter) (2.6.1)\n",
            "Requirement already satisfied: setuptools>=18.5 in /usr/local/lib/python3.7/dist-packages (from ipython>=4.0.0->ipywidgets>=7.0.0->swifter) (57.4.0)\n",
            "Requirement already satisfied: decorator in /usr/local/lib/python3.7/dist-packages (from ipython>=4.0.0->ipywidgets>=7.0.0->swifter) (4.4.2)\n",
            "Requirement already satisfied: prompt-toolkit<2.0.0,>=1.0.4 in /usr/local/lib/python3.7/dist-packages (from ipython>=4.0.0->ipywidgets>=7.0.0->swifter) (1.0.18)\n",
            "Requirement already satisfied: fastjsonschema in /usr/local/lib/python3.7/dist-packages (from nbformat>=4.2.0->ipywidgets>=7.0.0->swifter) (2.15.3)\n",
            "Requirement already satisfied: jsonschema>=2.6 in /usr/local/lib/python3.7/dist-packages (from nbformat>=4.2.0->ipywidgets>=7.0.0->swifter) (4.3.3)\n",
            "Requirement already satisfied: jupyter-core in /usr/local/lib/python3.7/dist-packages (from nbformat>=4.2.0->ipywidgets>=7.0.0->swifter) (4.10.0)\n",
            "Requirement already satisfied: importlib-metadata in /usr/local/lib/python3.7/dist-packages (from jsonschema>=2.6->nbformat>=4.2.0->ipywidgets>=7.0.0->swifter) (4.11.4)\n",
            "Requirement already satisfied: typing-extensions in /usr/local/lib/python3.7/dist-packages (from jsonschema>=2.6->nbformat>=4.2.0->ipywidgets>=7.0.0->swifter) (4.2.0)\n",
            "Requirement already satisfied: pyrsistent!=0.17.0,!=0.17.1,!=0.17.2,>=0.14.0 in /usr/local/lib/python3.7/dist-packages (from jsonschema>=2.6->nbformat>=4.2.0->ipywidgets>=7.0.0->swifter) (0.18.1)\n",
            "Requirement already satisfied: importlib-resources>=1.4.0 in /usr/local/lib/python3.7/dist-packages (from jsonschema>=2.6->nbformat>=4.2.0->ipywidgets>=7.0.0->swifter) (5.7.1)\n",
            "Requirement already satisfied: attrs>=17.4.0 in /usr/local/lib/python3.7/dist-packages (from jsonschema>=2.6->nbformat>=4.2.0->ipywidgets>=7.0.0->swifter) (21.4.0)\n",
            "Requirement already satisfied: zipp>=3.1.0 in /usr/local/lib/python3.7/dist-packages (from importlib-resources>=1.4.0->jsonschema>=2.6->nbformat>=4.2.0->ipywidgets>=7.0.0->swifter) (3.8.0)\n",
            "Requirement already satisfied: python-dateutil>=2.7.3 in /usr/local/lib/python3.7/dist-packages (from pandas>=1.0.0->swifter) (2.8.2)\n",
            "Requirement already satisfied: pytz>=2017.3 in /usr/local/lib/python3.7/dist-packages (from pandas>=1.0.0->swifter) (2022.1)\n",
            "Requirement already satisfied: locket in /usr/local/lib/python3.7/dist-packages (from partd>=0.3.10->dask[dataframe]>=2.10.0->swifter) (1.0.0)\n",
            "Requirement already satisfied: wcwidth in /usr/local/lib/python3.7/dist-packages (from prompt-toolkit<2.0.0,>=1.0.4->ipython>=4.0.0->ipywidgets>=7.0.0->swifter) (0.2.5)\n",
            "Requirement already satisfied: notebook>=4.4.1 in /usr/local/lib/python3.7/dist-packages (from widgetsnbextension~=3.6.0->ipywidgets>=7.0.0->swifter) (5.3.1)\n",
            "Requirement already satisfied: nbconvert in /usr/local/lib/python3.7/dist-packages (from notebook>=4.4.1->widgetsnbextension~=3.6.0->ipywidgets>=7.0.0->swifter) (5.6.1)\n",
            "Requirement already satisfied: terminado>=0.8.1 in /usr/local/lib/python3.7/dist-packages (from notebook>=4.4.1->widgetsnbextension~=3.6.0->ipywidgets>=7.0.0->swifter) (0.13.3)\n",
            "Requirement already satisfied: jinja2 in /usr/local/lib/python3.7/dist-packages (from notebook>=4.4.1->widgetsnbextension~=3.6.0->ipywidgets>=7.0.0->swifter) (2.11.3)\n",
            "Requirement already satisfied: Send2Trash in /usr/local/lib/python3.7/dist-packages (from notebook>=4.4.1->widgetsnbextension~=3.6.0->ipywidgets>=7.0.0->swifter) (1.8.0)\n",
            "Requirement already satisfied: pyzmq>=13 in /usr/local/lib/python3.7/dist-packages (from jupyter-client->ipykernel>=4.5.1->ipywidgets>=7.0.0->swifter) (23.0.0)\n",
            "Requirement already satisfied: ptyprocess in /usr/local/lib/python3.7/dist-packages (from terminado>=0.8.1->notebook>=4.4.1->widgetsnbextension~=3.6.0->ipywidgets>=7.0.0->swifter) (0.7.0)\n",
            "Requirement already satisfied: MarkupSafe>=0.23 in /usr/local/lib/python3.7/dist-packages (from jinja2->notebook>=4.4.1->widgetsnbextension~=3.6.0->ipywidgets>=7.0.0->swifter) (2.0.1)\n",
            "Requirement already satisfied: entrypoints>=0.2.2 in /usr/local/lib/python3.7/dist-packages (from nbconvert->notebook>=4.4.1->widgetsnbextension~=3.6.0->ipywidgets>=7.0.0->swifter) (0.4)\n",
            "Requirement already satisfied: testpath in /usr/local/lib/python3.7/dist-packages (from nbconvert->notebook>=4.4.1->widgetsnbextension~=3.6.0->ipywidgets>=7.0.0->swifter) (0.6.0)\n",
            "Requirement already satisfied: pandocfilters>=1.4.1 in /usr/local/lib/python3.7/dist-packages (from nbconvert->notebook>=4.4.1->widgetsnbextension~=3.6.0->ipywidgets>=7.0.0->swifter) (1.5.0)\n",
            "Requirement already satisfied: mistune<2,>=0.8.1 in /usr/local/lib/python3.7/dist-packages (from nbconvert->notebook>=4.4.1->widgetsnbextension~=3.6.0->ipywidgets>=7.0.0->swifter) (0.8.4)\n",
            "Requirement already satisfied: defusedxml in /usr/local/lib/python3.7/dist-packages (from nbconvert->notebook>=4.4.1->widgetsnbextension~=3.6.0->ipywidgets>=7.0.0->swifter) (0.7.1)\n"
          ]
        }
      ]
    },
    {
      "cell_type": "code",
      "execution_count": null,
      "metadata": {
        "id": "OW1P1UMTH_b1"
      },
      "outputs": [],
      "source": [
        "import pandas as pd\n",
        "import numpy as np\n",
        "import re\n",
        "import string\n",
        "import gspread\n",
        "import seaborn as sns\n",
        "from nltk.tokenize import word_tokenize \n",
        "from nltk.probability import FreqDist\n",
        "from nltk.corpus import stopwords\n",
        "from Sastrawi.Stemmer.StemmerFactory import StemmerFactory\n",
        "import swifter"
      ]
    },
    {
      "cell_type": "code",
      "source": [
        "# import nltk\n",
        "# nltk.download('all')"
      ],
      "metadata": {
        "id": "8tzi0LeZgqbr"
      },
      "execution_count": null,
      "outputs": []
    },
    {
      "cell_type": "code",
      "source": [
        "# from google.colab import auth\n",
        "# auth.authenticate_user()\n",
        "# from google.auth import default\n",
        "\n",
        "# creds, _ = default()\n",
        "# gc = gspread.authorize(creds)\n",
        "\n",
        "# worksheet = gc.open('twitter_lebaran.csv').sheet1\n",
        "# rows = worksheet.get_all_values()\n",
        "# df = pd.DataFrame.from_records(rows)"
      ],
      "metadata": {
        "id": "K4rHUp43IEUW"
      },
      "execution_count": null,
      "outputs": []
    },
    {
      "cell_type": "code",
      "source": [
        "df = pd.read_csv('/content/twitter_lebaran.csv')\n",
        "df_label = pd.read_excel('/content/dataset.xlsx')\n",
        "# stop_word = "
      ],
      "metadata": {
        "id": "GG0JQHVnS--f"
      },
      "execution_count": null,
      "outputs": []
    },
    {
      "cell_type": "markdown",
      "source": [
        "# Overview Data"
      ],
      "metadata": {
        "id": "490Pra5sMexI"
      }
    },
    {
      "cell_type": "code",
      "source": [
        "df.head()"
      ],
      "metadata": {
        "id": "B7sTkvTdJpTw",
        "colab": {
          "base_uri": "https://localhost:8080/",
          "height": 206
        },
        "outputId": "3f799514-e764-42b0-a729-db176655ee2f"
      },
      "execution_count": null,
      "outputs": [
        {
          "output_type": "execute_result",
          "data": {
            "text/plain": [
              "   Unnamed: 0                                               text  \\\n",
              "0           0  Hey @txtdrbogor coba himbau warganya cek serti...   \n",
              "1           1  RT @Outstandjing: Mumpung netizen progresif da...   \n",
              "2           2  @octavianusMP Selamat malam Kak. Tidak ada per...   \n",
              "3           3  Tambahan info yg musti dipersiapkan:\\n~ paspor...   \n",
              "4           4                  Tahan zra, lo udah vaksin booster   \n",
              "\n",
              "                     tanggal bahasa  \n",
              "0  2022-05-07 15:57:35+00:00     in  \n",
              "1  2022-05-07 15:37:26+00:00     in  \n",
              "2  2022-05-07 15:29:56+00:00     in  \n",
              "3  2022-05-07 15:25:01+00:00     in  \n",
              "4  2022-05-07 15:23:46+00:00     tr  "
            ],
            "text/html": [
              "\n",
              "  <div id=\"df-2a6f27aa-140c-4f8c-bc5d-4016123c4a01\">\n",
              "    <div class=\"colab-df-container\">\n",
              "      <div>\n",
              "<style scoped>\n",
              "    .dataframe tbody tr th:only-of-type {\n",
              "        vertical-align: middle;\n",
              "    }\n",
              "\n",
              "    .dataframe tbody tr th {\n",
              "        vertical-align: top;\n",
              "    }\n",
              "\n",
              "    .dataframe thead th {\n",
              "        text-align: right;\n",
              "    }\n",
              "</style>\n",
              "<table border=\"1\" class=\"dataframe\">\n",
              "  <thead>\n",
              "    <tr style=\"text-align: right;\">\n",
              "      <th></th>\n",
              "      <th>Unnamed: 0</th>\n",
              "      <th>text</th>\n",
              "      <th>tanggal</th>\n",
              "      <th>bahasa</th>\n",
              "    </tr>\n",
              "  </thead>\n",
              "  <tbody>\n",
              "    <tr>\n",
              "      <th>0</th>\n",
              "      <td>0</td>\n",
              "      <td>Hey @txtdrbogor coba himbau warganya cek serti...</td>\n",
              "      <td>2022-05-07 15:57:35+00:00</td>\n",
              "      <td>in</td>\n",
              "    </tr>\n",
              "    <tr>\n",
              "      <th>1</th>\n",
              "      <td>1</td>\n",
              "      <td>RT @Outstandjing: Mumpung netizen progresif da...</td>\n",
              "      <td>2022-05-07 15:37:26+00:00</td>\n",
              "      <td>in</td>\n",
              "    </tr>\n",
              "    <tr>\n",
              "      <th>2</th>\n",
              "      <td>2</td>\n",
              "      <td>@octavianusMP Selamat malam Kak. Tidak ada per...</td>\n",
              "      <td>2022-05-07 15:29:56+00:00</td>\n",
              "      <td>in</td>\n",
              "    </tr>\n",
              "    <tr>\n",
              "      <th>3</th>\n",
              "      <td>3</td>\n",
              "      <td>Tambahan info yg musti dipersiapkan:\\n~ paspor...</td>\n",
              "      <td>2022-05-07 15:25:01+00:00</td>\n",
              "      <td>in</td>\n",
              "    </tr>\n",
              "    <tr>\n",
              "      <th>4</th>\n",
              "      <td>4</td>\n",
              "      <td>Tahan zra, lo udah vaksin booster</td>\n",
              "      <td>2022-05-07 15:23:46+00:00</td>\n",
              "      <td>tr</td>\n",
              "    </tr>\n",
              "  </tbody>\n",
              "</table>\n",
              "</div>\n",
              "      <button class=\"colab-df-convert\" onclick=\"convertToInteractive('df-2a6f27aa-140c-4f8c-bc5d-4016123c4a01')\"\n",
              "              title=\"Convert this dataframe to an interactive table.\"\n",
              "              style=\"display:none;\">\n",
              "        \n",
              "  <svg xmlns=\"http://www.w3.org/2000/svg\" height=\"24px\"viewBox=\"0 0 24 24\"\n",
              "       width=\"24px\">\n",
              "    <path d=\"M0 0h24v24H0V0z\" fill=\"none\"/>\n",
              "    <path d=\"M18.56 5.44l.94 2.06.94-2.06 2.06-.94-2.06-.94-.94-2.06-.94 2.06-2.06.94zm-11 1L8.5 8.5l.94-2.06 2.06-.94-2.06-.94L8.5 2.5l-.94 2.06-2.06.94zm10 10l.94 2.06.94-2.06 2.06-.94-2.06-.94-.94-2.06-.94 2.06-2.06.94z\"/><path d=\"M17.41 7.96l-1.37-1.37c-.4-.4-.92-.59-1.43-.59-.52 0-1.04.2-1.43.59L10.3 9.45l-7.72 7.72c-.78.78-.78 2.05 0 2.83L4 21.41c.39.39.9.59 1.41.59.51 0 1.02-.2 1.41-.59l7.78-7.78 2.81-2.81c.8-.78.8-2.07 0-2.86zM5.41 20L4 18.59l7.72-7.72 1.47 1.35L5.41 20z\"/>\n",
              "  </svg>\n",
              "      </button>\n",
              "      \n",
              "  <style>\n",
              "    .colab-df-container {\n",
              "      display:flex;\n",
              "      flex-wrap:wrap;\n",
              "      gap: 12px;\n",
              "    }\n",
              "\n",
              "    .colab-df-convert {\n",
              "      background-color: #E8F0FE;\n",
              "      border: none;\n",
              "      border-radius: 50%;\n",
              "      cursor: pointer;\n",
              "      display: none;\n",
              "      fill: #1967D2;\n",
              "      height: 32px;\n",
              "      padding: 0 0 0 0;\n",
              "      width: 32px;\n",
              "    }\n",
              "\n",
              "    .colab-df-convert:hover {\n",
              "      background-color: #E2EBFA;\n",
              "      box-shadow: 0px 1px 2px rgba(60, 64, 67, 0.3), 0px 1px 3px 1px rgba(60, 64, 67, 0.15);\n",
              "      fill: #174EA6;\n",
              "    }\n",
              "\n",
              "    [theme=dark] .colab-df-convert {\n",
              "      background-color: #3B4455;\n",
              "      fill: #D2E3FC;\n",
              "    }\n",
              "\n",
              "    [theme=dark] .colab-df-convert:hover {\n",
              "      background-color: #434B5C;\n",
              "      box-shadow: 0px 1px 3px 1px rgba(0, 0, 0, 0.15);\n",
              "      filter: drop-shadow(0px 1px 2px rgba(0, 0, 0, 0.3));\n",
              "      fill: #FFFFFF;\n",
              "    }\n",
              "  </style>\n",
              "\n",
              "      <script>\n",
              "        const buttonEl =\n",
              "          document.querySelector('#df-2a6f27aa-140c-4f8c-bc5d-4016123c4a01 button.colab-df-convert');\n",
              "        buttonEl.style.display =\n",
              "          google.colab.kernel.accessAllowed ? 'block' : 'none';\n",
              "\n",
              "        async function convertToInteractive(key) {\n",
              "          const element = document.querySelector('#df-2a6f27aa-140c-4f8c-bc5d-4016123c4a01');\n",
              "          const dataTable =\n",
              "            await google.colab.kernel.invokeFunction('convertToInteractive',\n",
              "                                                     [key], {});\n",
              "          if (!dataTable) return;\n",
              "\n",
              "          const docLinkHtml = 'Like what you see? Visit the ' +\n",
              "            '<a target=\"_blank\" href=https://colab.research.google.com/notebooks/data_table.ipynb>data table notebook</a>'\n",
              "            + ' to learn more about interactive tables.';\n",
              "          element.innerHTML = '';\n",
              "          dataTable['output_type'] = 'display_data';\n",
              "          await google.colab.output.renderOutput(dataTable, element);\n",
              "          const docLink = document.createElement('div');\n",
              "          docLink.innerHTML = docLinkHtml;\n",
              "          element.appendChild(docLink);\n",
              "        }\n",
              "      </script>\n",
              "    </div>\n",
              "  </div>\n",
              "  "
            ]
          },
          "metadata": {},
          "execution_count": 6
        }
      ]
    },
    {
      "cell_type": "code",
      "source": [
        "df.info()"
      ],
      "metadata": {
        "id": "dLxXVBJ1Jsph",
        "colab": {
          "base_uri": "https://localhost:8080/"
        },
        "outputId": "7ed3c7ef-8756-4ba0-86fd-e634cefa56cd"
      },
      "execution_count": null,
      "outputs": [
        {
          "output_type": "stream",
          "name": "stdout",
          "text": [
            "<class 'pandas.core.frame.DataFrame'>\n",
            "RangeIndex: 2368 entries, 0 to 2367\n",
            "Data columns (total 4 columns):\n",
            " #   Column      Non-Null Count  Dtype \n",
            "---  ------      --------------  ----- \n",
            " 0   Unnamed: 0  2368 non-null   int64 \n",
            " 1   text        2368 non-null   object\n",
            " 2   tanggal     2368 non-null   object\n",
            " 3   bahasa      2368 non-null   object\n",
            "dtypes: int64(1), object(3)\n",
            "memory usage: 74.1+ KB\n"
          ]
        }
      ]
    },
    {
      "cell_type": "code",
      "source": [
        "df_label.head()"
      ],
      "metadata": {
        "id": "jJZJyWTlV6de",
        "colab": {
          "base_uri": "https://localhost:8080/",
          "height": 206
        },
        "outputId": "91752573-ec1d-4810-c114-9777508b4ab3"
      },
      "execution_count": null,
      "outputs": [
        {
          "output_type": "execute_result",
          "data": {
            "text/plain": [
              "      label                                               text\n",
              "0    netral  hey coba himbau warganya cek seifikat vaksin d...\n",
              "1    netral  mumpung netizen progresif dan berwawasan diban...\n",
              "2  negative  ini setelah vaksin booster jadi batuk mana awe...\n",
              "3  positive  maju loe bible gak takut gw gw dah vaksin booster\n",
              "4  positive          buat sarapan besok sebelum vaksin booster"
            ],
            "text/html": [
              "\n",
              "  <div id=\"df-60b9f0b4-f8b5-4664-a448-2675cc348274\">\n",
              "    <div class=\"colab-df-container\">\n",
              "      <div>\n",
              "<style scoped>\n",
              "    .dataframe tbody tr th:only-of-type {\n",
              "        vertical-align: middle;\n",
              "    }\n",
              "\n",
              "    .dataframe tbody tr th {\n",
              "        vertical-align: top;\n",
              "    }\n",
              "\n",
              "    .dataframe thead th {\n",
              "        text-align: right;\n",
              "    }\n",
              "</style>\n",
              "<table border=\"1\" class=\"dataframe\">\n",
              "  <thead>\n",
              "    <tr style=\"text-align: right;\">\n",
              "      <th></th>\n",
              "      <th>label</th>\n",
              "      <th>text</th>\n",
              "    </tr>\n",
              "  </thead>\n",
              "  <tbody>\n",
              "    <tr>\n",
              "      <th>0</th>\n",
              "      <td>netral</td>\n",
              "      <td>hey coba himbau warganya cek seifikat vaksin d...</td>\n",
              "    </tr>\n",
              "    <tr>\n",
              "      <th>1</th>\n",
              "      <td>netral</td>\n",
              "      <td>mumpung netizen progresif dan berwawasan diban...</td>\n",
              "    </tr>\n",
              "    <tr>\n",
              "      <th>2</th>\n",
              "      <td>negative</td>\n",
              "      <td>ini setelah vaksin booster jadi batuk mana awe...</td>\n",
              "    </tr>\n",
              "    <tr>\n",
              "      <th>3</th>\n",
              "      <td>positive</td>\n",
              "      <td>maju loe bible gak takut gw gw dah vaksin booster</td>\n",
              "    </tr>\n",
              "    <tr>\n",
              "      <th>4</th>\n",
              "      <td>positive</td>\n",
              "      <td>buat sarapan besok sebelum vaksin booster</td>\n",
              "    </tr>\n",
              "  </tbody>\n",
              "</table>\n",
              "</div>\n",
              "      <button class=\"colab-df-convert\" onclick=\"convertToInteractive('df-60b9f0b4-f8b5-4664-a448-2675cc348274')\"\n",
              "              title=\"Convert this dataframe to an interactive table.\"\n",
              "              style=\"display:none;\">\n",
              "        \n",
              "  <svg xmlns=\"http://www.w3.org/2000/svg\" height=\"24px\"viewBox=\"0 0 24 24\"\n",
              "       width=\"24px\">\n",
              "    <path d=\"M0 0h24v24H0V0z\" fill=\"none\"/>\n",
              "    <path d=\"M18.56 5.44l.94 2.06.94-2.06 2.06-.94-2.06-.94-.94-2.06-.94 2.06-2.06.94zm-11 1L8.5 8.5l.94-2.06 2.06-.94-2.06-.94L8.5 2.5l-.94 2.06-2.06.94zm10 10l.94 2.06.94-2.06 2.06-.94-2.06-.94-.94-2.06-.94 2.06-2.06.94z\"/><path d=\"M17.41 7.96l-1.37-1.37c-.4-.4-.92-.59-1.43-.59-.52 0-1.04.2-1.43.59L10.3 9.45l-7.72 7.72c-.78.78-.78 2.05 0 2.83L4 21.41c.39.39.9.59 1.41.59.51 0 1.02-.2 1.41-.59l7.78-7.78 2.81-2.81c.8-.78.8-2.07 0-2.86zM5.41 20L4 18.59l7.72-7.72 1.47 1.35L5.41 20z\"/>\n",
              "  </svg>\n",
              "      </button>\n",
              "      \n",
              "  <style>\n",
              "    .colab-df-container {\n",
              "      display:flex;\n",
              "      flex-wrap:wrap;\n",
              "      gap: 12px;\n",
              "    }\n",
              "\n",
              "    .colab-df-convert {\n",
              "      background-color: #E8F0FE;\n",
              "      border: none;\n",
              "      border-radius: 50%;\n",
              "      cursor: pointer;\n",
              "      display: none;\n",
              "      fill: #1967D2;\n",
              "      height: 32px;\n",
              "      padding: 0 0 0 0;\n",
              "      width: 32px;\n",
              "    }\n",
              "\n",
              "    .colab-df-convert:hover {\n",
              "      background-color: #E2EBFA;\n",
              "      box-shadow: 0px 1px 2px rgba(60, 64, 67, 0.3), 0px 1px 3px 1px rgba(60, 64, 67, 0.15);\n",
              "      fill: #174EA6;\n",
              "    }\n",
              "\n",
              "    [theme=dark] .colab-df-convert {\n",
              "      background-color: #3B4455;\n",
              "      fill: #D2E3FC;\n",
              "    }\n",
              "\n",
              "    [theme=dark] .colab-df-convert:hover {\n",
              "      background-color: #434B5C;\n",
              "      box-shadow: 0px 1px 3px 1px rgba(0, 0, 0, 0.15);\n",
              "      filter: drop-shadow(0px 1px 2px rgba(0, 0, 0, 0.3));\n",
              "      fill: #FFFFFF;\n",
              "    }\n",
              "  </style>\n",
              "\n",
              "      <script>\n",
              "        const buttonEl =\n",
              "          document.querySelector('#df-60b9f0b4-f8b5-4664-a448-2675cc348274 button.colab-df-convert');\n",
              "        buttonEl.style.display =\n",
              "          google.colab.kernel.accessAllowed ? 'block' : 'none';\n",
              "\n",
              "        async function convertToInteractive(key) {\n",
              "          const element = document.querySelector('#df-60b9f0b4-f8b5-4664-a448-2675cc348274');\n",
              "          const dataTable =\n",
              "            await google.colab.kernel.invokeFunction('convertToInteractive',\n",
              "                                                     [key], {});\n",
              "          if (!dataTable) return;\n",
              "\n",
              "          const docLinkHtml = 'Like what you see? Visit the ' +\n",
              "            '<a target=\"_blank\" href=https://colab.research.google.com/notebooks/data_table.ipynb>data table notebook</a>'\n",
              "            + ' to learn more about interactive tables.';\n",
              "          element.innerHTML = '';\n",
              "          dataTable['output_type'] = 'display_data';\n",
              "          await google.colab.output.renderOutput(dataTable, element);\n",
              "          const docLink = document.createElement('div');\n",
              "          docLink.innerHTML = docLinkHtml;\n",
              "          element.appendChild(docLink);\n",
              "        }\n",
              "      </script>\n",
              "    </div>\n",
              "  </div>\n",
              "  "
            ]
          },
          "metadata": {},
          "execution_count": 8
        }
      ]
    },
    {
      "cell_type": "code",
      "source": [
        "df_label.info()"
      ],
      "metadata": {
        "id": "0yzUYFIkV9Z8",
        "colab": {
          "base_uri": "https://localhost:8080/"
        },
        "outputId": "e39779fd-3a04-408e-8efb-b866373f730b"
      },
      "execution_count": null,
      "outputs": [
        {
          "output_type": "stream",
          "name": "stdout",
          "text": [
            "<class 'pandas.core.frame.DataFrame'>\n",
            "RangeIndex: 255 entries, 0 to 254\n",
            "Data columns (total 2 columns):\n",
            " #   Column  Non-Null Count  Dtype \n",
            "---  ------  --------------  ----- \n",
            " 0   label   254 non-null    object\n",
            " 1   text    254 non-null    object\n",
            "dtypes: object(2)\n",
            "memory usage: 4.1+ KB\n"
          ]
        }
      ]
    },
    {
      "cell_type": "markdown",
      "source": [
        "# Preprocessing"
      ],
      "metadata": {
        "id": "LxdXlZcBMlwe"
      }
    },
    {
      "cell_type": "code",
      "source": [
        "# df.drop(0, axis = 0, inplace = True)\n",
        "# df.keys()\n",
        "df = df.drop(['Unnamed: 0'], axis=1)"
      ],
      "metadata": {
        "id": "bZzA5CvWJyOt"
      },
      "execution_count": null,
      "outputs": []
    },
    {
      "cell_type": "code",
      "source": [
        "# df_label.drop('id', axis = 1, inplace = True)"
      ],
      "metadata": {
        "id": "oIYOSTrVWSoO"
      },
      "execution_count": null,
      "outputs": []
    },
    {
      "cell_type": "code",
      "source": [
        "# df.rename(columns={1: 'text', 2: 'tanggal', 3: 'bahasa'}, inplace=True)"
      ],
      "metadata": {
        "id": "5oEwSmpqKZzW"
      },
      "execution_count": null,
      "outputs": []
    },
    {
      "cell_type": "code",
      "source": [
        "df.head()"
      ],
      "metadata": {
        "id": "lE2JtkjLL7pY",
        "colab": {
          "base_uri": "https://localhost:8080/",
          "height": 206
        },
        "outputId": "64b75af3-9523-49c5-aed2-52603a372c74"
      },
      "execution_count": null,
      "outputs": [
        {
          "output_type": "execute_result",
          "data": {
            "text/plain": [
              "                                                text  \\\n",
              "0  Hey @txtdrbogor coba himbau warganya cek serti...   \n",
              "1  RT @Outstandjing: Mumpung netizen progresif da...   \n",
              "2  @octavianusMP Selamat malam Kak. Tidak ada per...   \n",
              "3  Tambahan info yg musti dipersiapkan:\\n~ paspor...   \n",
              "4                  Tahan zra, lo udah vaksin booster   \n",
              "\n",
              "                     tanggal bahasa  \n",
              "0  2022-05-07 15:57:35+00:00     in  \n",
              "1  2022-05-07 15:37:26+00:00     in  \n",
              "2  2022-05-07 15:29:56+00:00     in  \n",
              "3  2022-05-07 15:25:01+00:00     in  \n",
              "4  2022-05-07 15:23:46+00:00     tr  "
            ],
            "text/html": [
              "\n",
              "  <div id=\"df-72a82828-8519-4315-ad40-26bf21e2a336\">\n",
              "    <div class=\"colab-df-container\">\n",
              "      <div>\n",
              "<style scoped>\n",
              "    .dataframe tbody tr th:only-of-type {\n",
              "        vertical-align: middle;\n",
              "    }\n",
              "\n",
              "    .dataframe tbody tr th {\n",
              "        vertical-align: top;\n",
              "    }\n",
              "\n",
              "    .dataframe thead th {\n",
              "        text-align: right;\n",
              "    }\n",
              "</style>\n",
              "<table border=\"1\" class=\"dataframe\">\n",
              "  <thead>\n",
              "    <tr style=\"text-align: right;\">\n",
              "      <th></th>\n",
              "      <th>text</th>\n",
              "      <th>tanggal</th>\n",
              "      <th>bahasa</th>\n",
              "    </tr>\n",
              "  </thead>\n",
              "  <tbody>\n",
              "    <tr>\n",
              "      <th>0</th>\n",
              "      <td>Hey @txtdrbogor coba himbau warganya cek serti...</td>\n",
              "      <td>2022-05-07 15:57:35+00:00</td>\n",
              "      <td>in</td>\n",
              "    </tr>\n",
              "    <tr>\n",
              "      <th>1</th>\n",
              "      <td>RT @Outstandjing: Mumpung netizen progresif da...</td>\n",
              "      <td>2022-05-07 15:37:26+00:00</td>\n",
              "      <td>in</td>\n",
              "    </tr>\n",
              "    <tr>\n",
              "      <th>2</th>\n",
              "      <td>@octavianusMP Selamat malam Kak. Tidak ada per...</td>\n",
              "      <td>2022-05-07 15:29:56+00:00</td>\n",
              "      <td>in</td>\n",
              "    </tr>\n",
              "    <tr>\n",
              "      <th>3</th>\n",
              "      <td>Tambahan info yg musti dipersiapkan:\\n~ paspor...</td>\n",
              "      <td>2022-05-07 15:25:01+00:00</td>\n",
              "      <td>in</td>\n",
              "    </tr>\n",
              "    <tr>\n",
              "      <th>4</th>\n",
              "      <td>Tahan zra, lo udah vaksin booster</td>\n",
              "      <td>2022-05-07 15:23:46+00:00</td>\n",
              "      <td>tr</td>\n",
              "    </tr>\n",
              "  </tbody>\n",
              "</table>\n",
              "</div>\n",
              "      <button class=\"colab-df-convert\" onclick=\"convertToInteractive('df-72a82828-8519-4315-ad40-26bf21e2a336')\"\n",
              "              title=\"Convert this dataframe to an interactive table.\"\n",
              "              style=\"display:none;\">\n",
              "        \n",
              "  <svg xmlns=\"http://www.w3.org/2000/svg\" height=\"24px\"viewBox=\"0 0 24 24\"\n",
              "       width=\"24px\">\n",
              "    <path d=\"M0 0h24v24H0V0z\" fill=\"none\"/>\n",
              "    <path d=\"M18.56 5.44l.94 2.06.94-2.06 2.06-.94-2.06-.94-.94-2.06-.94 2.06-2.06.94zm-11 1L8.5 8.5l.94-2.06 2.06-.94-2.06-.94L8.5 2.5l-.94 2.06-2.06.94zm10 10l.94 2.06.94-2.06 2.06-.94-2.06-.94-.94-2.06-.94 2.06-2.06.94z\"/><path d=\"M17.41 7.96l-1.37-1.37c-.4-.4-.92-.59-1.43-.59-.52 0-1.04.2-1.43.59L10.3 9.45l-7.72 7.72c-.78.78-.78 2.05 0 2.83L4 21.41c.39.39.9.59 1.41.59.51 0 1.02-.2 1.41-.59l7.78-7.78 2.81-2.81c.8-.78.8-2.07 0-2.86zM5.41 20L4 18.59l7.72-7.72 1.47 1.35L5.41 20z\"/>\n",
              "  </svg>\n",
              "      </button>\n",
              "      \n",
              "  <style>\n",
              "    .colab-df-container {\n",
              "      display:flex;\n",
              "      flex-wrap:wrap;\n",
              "      gap: 12px;\n",
              "    }\n",
              "\n",
              "    .colab-df-convert {\n",
              "      background-color: #E8F0FE;\n",
              "      border: none;\n",
              "      border-radius: 50%;\n",
              "      cursor: pointer;\n",
              "      display: none;\n",
              "      fill: #1967D2;\n",
              "      height: 32px;\n",
              "      padding: 0 0 0 0;\n",
              "      width: 32px;\n",
              "    }\n",
              "\n",
              "    .colab-df-convert:hover {\n",
              "      background-color: #E2EBFA;\n",
              "      box-shadow: 0px 1px 2px rgba(60, 64, 67, 0.3), 0px 1px 3px 1px rgba(60, 64, 67, 0.15);\n",
              "      fill: #174EA6;\n",
              "    }\n",
              "\n",
              "    [theme=dark] .colab-df-convert {\n",
              "      background-color: #3B4455;\n",
              "      fill: #D2E3FC;\n",
              "    }\n",
              "\n",
              "    [theme=dark] .colab-df-convert:hover {\n",
              "      background-color: #434B5C;\n",
              "      box-shadow: 0px 1px 3px 1px rgba(0, 0, 0, 0.15);\n",
              "      filter: drop-shadow(0px 1px 2px rgba(0, 0, 0, 0.3));\n",
              "      fill: #FFFFFF;\n",
              "    }\n",
              "  </style>\n",
              "\n",
              "      <script>\n",
              "        const buttonEl =\n",
              "          document.querySelector('#df-72a82828-8519-4315-ad40-26bf21e2a336 button.colab-df-convert');\n",
              "        buttonEl.style.display =\n",
              "          google.colab.kernel.accessAllowed ? 'block' : 'none';\n",
              "\n",
              "        async function convertToInteractive(key) {\n",
              "          const element = document.querySelector('#df-72a82828-8519-4315-ad40-26bf21e2a336');\n",
              "          const dataTable =\n",
              "            await google.colab.kernel.invokeFunction('convertToInteractive',\n",
              "                                                     [key], {});\n",
              "          if (!dataTable) return;\n",
              "\n",
              "          const docLinkHtml = 'Like what you see? Visit the ' +\n",
              "            '<a target=\"_blank\" href=https://colab.research.google.com/notebooks/data_table.ipynb>data table notebook</a>'\n",
              "            + ' to learn more about interactive tables.';\n",
              "          element.innerHTML = '';\n",
              "          dataTable['output_type'] = 'display_data';\n",
              "          await google.colab.output.renderOutput(dataTable, element);\n",
              "          const docLink = document.createElement('div');\n",
              "          docLink.innerHTML = docLinkHtml;\n",
              "          element.appendChild(docLink);\n",
              "        }\n",
              "      </script>\n",
              "    </div>\n",
              "  </div>\n",
              "  "
            ]
          },
          "metadata": {},
          "execution_count": 13
        }
      ]
    },
    {
      "cell_type": "code",
      "source": [
        "df.info()"
      ],
      "metadata": {
        "id": "jEmPxtNHYILT",
        "colab": {
          "base_uri": "https://localhost:8080/"
        },
        "outputId": "1321b11c-6af9-4164-d04c-8d6bc5e41460"
      },
      "execution_count": null,
      "outputs": [
        {
          "output_type": "stream",
          "name": "stdout",
          "text": [
            "<class 'pandas.core.frame.DataFrame'>\n",
            "RangeIndex: 2368 entries, 0 to 2367\n",
            "Data columns (total 3 columns):\n",
            " #   Column   Non-Null Count  Dtype \n",
            "---  ------   --------------  ----- \n",
            " 0   text     2368 non-null   object\n",
            " 1   tanggal  2368 non-null   object\n",
            " 2   bahasa   2368 non-null   object\n",
            "dtypes: object(3)\n",
            "memory usage: 55.6+ KB\n"
          ]
        }
      ]
    },
    {
      "cell_type": "code",
      "source": [
        "df_label.head()"
      ],
      "metadata": {
        "id": "Fwxw8myjYDSC",
        "colab": {
          "base_uri": "https://localhost:8080/",
          "height": 206
        },
        "outputId": "005fb500-0199-44a1-83cb-906a2f65937c"
      },
      "execution_count": null,
      "outputs": [
        {
          "output_type": "execute_result",
          "data": {
            "text/plain": [
              "      label                                               text\n",
              "0    netral  hey coba himbau warganya cek seifikat vaksin d...\n",
              "1    netral  mumpung netizen progresif dan berwawasan diban...\n",
              "2  negative  ini setelah vaksin booster jadi batuk mana awe...\n",
              "3  positive  maju loe bible gak takut gw gw dah vaksin booster\n",
              "4  positive          buat sarapan besok sebelum vaksin booster"
            ],
            "text/html": [
              "\n",
              "  <div id=\"df-668eb14c-ec73-4073-a59a-091a73c1e4b0\">\n",
              "    <div class=\"colab-df-container\">\n",
              "      <div>\n",
              "<style scoped>\n",
              "    .dataframe tbody tr th:only-of-type {\n",
              "        vertical-align: middle;\n",
              "    }\n",
              "\n",
              "    .dataframe tbody tr th {\n",
              "        vertical-align: top;\n",
              "    }\n",
              "\n",
              "    .dataframe thead th {\n",
              "        text-align: right;\n",
              "    }\n",
              "</style>\n",
              "<table border=\"1\" class=\"dataframe\">\n",
              "  <thead>\n",
              "    <tr style=\"text-align: right;\">\n",
              "      <th></th>\n",
              "      <th>label</th>\n",
              "      <th>text</th>\n",
              "    </tr>\n",
              "  </thead>\n",
              "  <tbody>\n",
              "    <tr>\n",
              "      <th>0</th>\n",
              "      <td>netral</td>\n",
              "      <td>hey coba himbau warganya cek seifikat vaksin d...</td>\n",
              "    </tr>\n",
              "    <tr>\n",
              "      <th>1</th>\n",
              "      <td>netral</td>\n",
              "      <td>mumpung netizen progresif dan berwawasan diban...</td>\n",
              "    </tr>\n",
              "    <tr>\n",
              "      <th>2</th>\n",
              "      <td>negative</td>\n",
              "      <td>ini setelah vaksin booster jadi batuk mana awe...</td>\n",
              "    </tr>\n",
              "    <tr>\n",
              "      <th>3</th>\n",
              "      <td>positive</td>\n",
              "      <td>maju loe bible gak takut gw gw dah vaksin booster</td>\n",
              "    </tr>\n",
              "    <tr>\n",
              "      <th>4</th>\n",
              "      <td>positive</td>\n",
              "      <td>buat sarapan besok sebelum vaksin booster</td>\n",
              "    </tr>\n",
              "  </tbody>\n",
              "</table>\n",
              "</div>\n",
              "      <button class=\"colab-df-convert\" onclick=\"convertToInteractive('df-668eb14c-ec73-4073-a59a-091a73c1e4b0')\"\n",
              "              title=\"Convert this dataframe to an interactive table.\"\n",
              "              style=\"display:none;\">\n",
              "        \n",
              "  <svg xmlns=\"http://www.w3.org/2000/svg\" height=\"24px\"viewBox=\"0 0 24 24\"\n",
              "       width=\"24px\">\n",
              "    <path d=\"M0 0h24v24H0V0z\" fill=\"none\"/>\n",
              "    <path d=\"M18.56 5.44l.94 2.06.94-2.06 2.06-.94-2.06-.94-.94-2.06-.94 2.06-2.06.94zm-11 1L8.5 8.5l.94-2.06 2.06-.94-2.06-.94L8.5 2.5l-.94 2.06-2.06.94zm10 10l.94 2.06.94-2.06 2.06-.94-2.06-.94-.94-2.06-.94 2.06-2.06.94z\"/><path d=\"M17.41 7.96l-1.37-1.37c-.4-.4-.92-.59-1.43-.59-.52 0-1.04.2-1.43.59L10.3 9.45l-7.72 7.72c-.78.78-.78 2.05 0 2.83L4 21.41c.39.39.9.59 1.41.59.51 0 1.02-.2 1.41-.59l7.78-7.78 2.81-2.81c.8-.78.8-2.07 0-2.86zM5.41 20L4 18.59l7.72-7.72 1.47 1.35L5.41 20z\"/>\n",
              "  </svg>\n",
              "      </button>\n",
              "      \n",
              "  <style>\n",
              "    .colab-df-container {\n",
              "      display:flex;\n",
              "      flex-wrap:wrap;\n",
              "      gap: 12px;\n",
              "    }\n",
              "\n",
              "    .colab-df-convert {\n",
              "      background-color: #E8F0FE;\n",
              "      border: none;\n",
              "      border-radius: 50%;\n",
              "      cursor: pointer;\n",
              "      display: none;\n",
              "      fill: #1967D2;\n",
              "      height: 32px;\n",
              "      padding: 0 0 0 0;\n",
              "      width: 32px;\n",
              "    }\n",
              "\n",
              "    .colab-df-convert:hover {\n",
              "      background-color: #E2EBFA;\n",
              "      box-shadow: 0px 1px 2px rgba(60, 64, 67, 0.3), 0px 1px 3px 1px rgba(60, 64, 67, 0.15);\n",
              "      fill: #174EA6;\n",
              "    }\n",
              "\n",
              "    [theme=dark] .colab-df-convert {\n",
              "      background-color: #3B4455;\n",
              "      fill: #D2E3FC;\n",
              "    }\n",
              "\n",
              "    [theme=dark] .colab-df-convert:hover {\n",
              "      background-color: #434B5C;\n",
              "      box-shadow: 0px 1px 3px 1px rgba(0, 0, 0, 0.15);\n",
              "      filter: drop-shadow(0px 1px 2px rgba(0, 0, 0, 0.3));\n",
              "      fill: #FFFFFF;\n",
              "    }\n",
              "  </style>\n",
              "\n",
              "      <script>\n",
              "        const buttonEl =\n",
              "          document.querySelector('#df-668eb14c-ec73-4073-a59a-091a73c1e4b0 button.colab-df-convert');\n",
              "        buttonEl.style.display =\n",
              "          google.colab.kernel.accessAllowed ? 'block' : 'none';\n",
              "\n",
              "        async function convertToInteractive(key) {\n",
              "          const element = document.querySelector('#df-668eb14c-ec73-4073-a59a-091a73c1e4b0');\n",
              "          const dataTable =\n",
              "            await google.colab.kernel.invokeFunction('convertToInteractive',\n",
              "                                                     [key], {});\n",
              "          if (!dataTable) return;\n",
              "\n",
              "          const docLinkHtml = 'Like what you see? Visit the ' +\n",
              "            '<a target=\"_blank\" href=https://colab.research.google.com/notebooks/data_table.ipynb>data table notebook</a>'\n",
              "            + ' to learn more about interactive tables.';\n",
              "          element.innerHTML = '';\n",
              "          dataTable['output_type'] = 'display_data';\n",
              "          await google.colab.output.renderOutput(dataTable, element);\n",
              "          const docLink = document.createElement('div');\n",
              "          docLink.innerHTML = docLinkHtml;\n",
              "          element.appendChild(docLink);\n",
              "        }\n",
              "      </script>\n",
              "    </div>\n",
              "  </div>\n",
              "  "
            ]
          },
          "metadata": {},
          "execution_count": 15
        }
      ]
    },
    {
      "cell_type": "code",
      "source": [
        "df_label.info()"
      ],
      "metadata": {
        "id": "Ym7Rxm4yYLoZ",
        "colab": {
          "base_uri": "https://localhost:8080/"
        },
        "outputId": "73a717ed-6566-43f8-a63b-552b969db46d"
      },
      "execution_count": null,
      "outputs": [
        {
          "output_type": "stream",
          "name": "stdout",
          "text": [
            "<class 'pandas.core.frame.DataFrame'>\n",
            "RangeIndex: 255 entries, 0 to 254\n",
            "Data columns (total 2 columns):\n",
            " #   Column  Non-Null Count  Dtype \n",
            "---  ------  --------------  ----- \n",
            " 0   label   254 non-null    object\n",
            " 1   text    254 non-null    object\n",
            "dtypes: object(2)\n",
            "memory usage: 4.1+ KB\n"
          ]
        }
      ]
    },
    {
      "cell_type": "code",
      "source": [
        "df_label.dropna(subset = [\"label\"], axis = 0, inplace = True)\n",
        "df_label.dropna(subset = [\"text\"], axis = 0, inplace = True)"
      ],
      "metadata": {
        "id": "fm893zMYatdU"
      },
      "execution_count": null,
      "outputs": []
    },
    {
      "cell_type": "code",
      "source": [
        "df_label.drop(df_label[(df_label['label'] == '-')].index, inplace=True)\n",
        "df_label.drop(df_label[(df_label['label'] == '?')].index, inplace=True)"
      ],
      "metadata": {
        "id": "ewg2maE7Y-gx"
      },
      "execution_count": null,
      "outputs": []
    },
    {
      "cell_type": "code",
      "source": [
        "df = df.drop_duplicates()"
      ],
      "metadata": {
        "id": "yfA1ysD-MOpP"
      },
      "execution_count": null,
      "outputs": []
    },
    {
      "cell_type": "code",
      "source": [
        "df_label['label'].value_counts()"
      ],
      "metadata": {
        "id": "15UTRNydbV6a",
        "colab": {
          "base_uri": "https://localhost:8080/"
        },
        "outputId": "ebd10a2b-6b6f-4d90-9617-98a6ef4e4510"
      },
      "execution_count": null,
      "outputs": [
        {
          "output_type": "execute_result",
          "data": {
            "text/plain": [
              "netral      94\n",
              "positive    81\n",
              "negative    79\n",
              "Name: label, dtype: int64"
            ]
          },
          "metadata": {},
          "execution_count": 20
        }
      ]
    },
    {
      "cell_type": "markdown",
      "source": [
        "### Datetime to Date"
      ],
      "metadata": {
        "id": "LvbAZu37cK9m"
      }
    },
    {
      "cell_type": "code",
      "source": [
        "df['tanggal'] = pd.to_datetime(df[\"tanggal\"]).dt.date"
      ],
      "metadata": {
        "id": "6HHGiyCsav0L"
      },
      "execution_count": null,
      "outputs": []
    },
    {
      "cell_type": "code",
      "source": [
        "df['tanggal'].unique()"
      ],
      "metadata": {
        "id": "dxidaaVSb2Fr",
        "colab": {
          "base_uri": "https://localhost:8080/"
        },
        "outputId": "d41d0ed7-d138-4a70-acfb-21f8f0361337"
      },
      "execution_count": null,
      "outputs": [
        {
          "output_type": "execute_result",
          "data": {
            "text/plain": [
              "array([datetime.date(2022, 5, 7), datetime.date(2022, 5, 6),\n",
              "       datetime.date(2022, 5, 5), datetime.date(2022, 5, 4),\n",
              "       datetime.date(2022, 5, 3), datetime.date(2022, 5, 2)], dtype=object)"
            ]
          },
          "metadata": {},
          "execution_count": 22
        }
      ]
    },
    {
      "cell_type": "code",
      "source": [
        "df = df.drop(['tanggal'], axis=1)"
      ],
      "metadata": {
        "id": "FMLz3uPWcWPM"
      },
      "execution_count": null,
      "outputs": []
    },
    {
      "cell_type": "markdown",
      "source": [
        "### Drop bahasa != 'in'"
      ],
      "metadata": {
        "id": "Zfiwt-ZAcQHM"
      }
    },
    {
      "cell_type": "code",
      "source": [
        "df = df.drop(df[(df['bahasa'] != 'in')].index)"
      ],
      "metadata": {
        "id": "nq2_P8IDYLf2"
      },
      "execution_count": null,
      "outputs": []
    },
    {
      "cell_type": "code",
      "source": [
        "df = df.drop(['bahasa'], axis=1)"
      ],
      "metadata": {
        "id": "0HY5oFdIdFGX"
      },
      "execution_count": null,
      "outputs": []
    },
    {
      "cell_type": "markdown",
      "source": [
        "## text"
      ],
      "metadata": {
        "id": "4odmsprNMuxS"
      }
    },
    {
      "cell_type": "code",
      "source": [
        "df['text_real'] = df.text"
      ],
      "metadata": {
        "id": "GbYnM3MDMVgY"
      },
      "execution_count": null,
      "outputs": []
    },
    {
      "cell_type": "markdown",
      "source": [
        "### Mengubah huruf menjadi kecil"
      ],
      "metadata": {
        "id": "D3zPqbRdTHev"
      }
    },
    {
      "cell_type": "code",
      "source": [
        "df[\"text\"] = df[\"text\"].apply(lambda item: str(item).lower())\n",
        "df_label[\"text\"] = df_label[\"text\"].apply(lambda item: str(item).lower())"
      ],
      "metadata": {
        "id": "KrGGm3MvM-O6"
      },
      "execution_count": null,
      "outputs": []
    },
    {
      "cell_type": "markdown",
      "source": [
        "### Menghapus spesial karakter dan url"
      ],
      "metadata": {
        "id": "X07IMcuITPJZ"
      }
    },
    {
      "cell_type": "code",
      "source": [
        "def remove_text_special(text):\n",
        "    # hapus tab, new line, ans back slice\n",
        "    text = text.replace('\\\\t',\" \").replace('\\\\n',\" \").replace('\\\\u',\" \").replace('\\\\',\"\")\n",
        "    # hapus non ASCII (emot, bahasa china dll)\n",
        "    text = text.encode('ascii', 'replace').decode('ascii')\n",
        "    # hapus mention, link, hashtag\n",
        "    text = text.replace(\"rt\", \"\") # revisi\n",
        "    text = ' '.join(re.sub(\"([@#][A-Za-z0-9]+)|(\\w+:\\/\\/\\S+)\",\" \", text).split())\n",
        "    # remove URL \n",
        "    return text.replace(\"http://\", \" \").replace(\"https://\", \" \")"
      ],
      "metadata": {
        "id": "9L2NXtykM-jK"
      },
      "execution_count": null,
      "outputs": []
    },
    {
      "cell_type": "code",
      "source": [
        "df['text'] = df.text.astype('str')                \n",
        "df['text'] = df['text'].apply(remove_text_special)\n",
        "df_label['text'] = df_label.text.astype('str')                \n",
        "df_label['text'] = df_label['text'].apply(remove_text_special)"
      ],
      "metadata": {
        "id": "0YyHL9edNAej"
      },
      "execution_count": null,
      "outputs": []
    },
    {
      "cell_type": "markdown",
      "source": [
        "### Menghapus tanda baca"
      ],
      "metadata": {
        "id": "TiTo74FTTXVE"
      }
    },
    {
      "cell_type": "code",
      "source": [
        "def remove_punctuation(text):\n",
        "    return text.translate(str.maketrans(\"\",\"\",string.punctuation))"
      ],
      "metadata": {
        "id": "n2_Ia67vNCs5"
      },
      "execution_count": null,
      "outputs": []
    },
    {
      "cell_type": "code",
      "source": [
        "df['text'] = df['text'].apply(remove_punctuation)\n",
        "df_label['text'] = df_label['text'].apply(remove_punctuation)"
      ],
      "metadata": {
        "id": "H1D-jsPeNCoW"
      },
      "execution_count": null,
      "outputs": []
    },
    {
      "cell_type": "markdown",
      "source": [
        "### Menghapus enter tab"
      ],
      "metadata": {
        "id": "dtJDPPjMTcft"
      }
    },
    {
      "cell_type": "code",
      "source": [
        "def remove_whitespace_LT(text):\n",
        "    return text.strip()"
      ],
      "metadata": {
        "id": "_20PYYKuNHfo"
      },
      "execution_count": null,
      "outputs": []
    },
    {
      "cell_type": "code",
      "source": [
        "df['text'] = df['text'].apply(remove_whitespace_LT)\n",
        "df_label['text'] = df_label['text'].apply(remove_whitespace_LT)"
      ],
      "metadata": {
        "id": "nOFrRxl8NHcI"
      },
      "execution_count": null,
      "outputs": []
    },
    {
      "cell_type": "markdown",
      "source": [
        "### Menghapus spasi ganda"
      ],
      "metadata": {
        "id": "PDa1SJ6rTixY"
      }
    },
    {
      "cell_type": "code",
      "source": [
        "def remove_whitespace_multiple(text):\n",
        "    return re.sub('\\s+',' ',text)"
      ],
      "metadata": {
        "id": "lNRzz97SNHYp"
      },
      "execution_count": null,
      "outputs": []
    },
    {
      "cell_type": "code",
      "source": [
        "df['text'] = df['text'].apply(remove_whitespace_multiple)\n",
        "df_label['text'] = df_label['text'].apply(remove_whitespace_multiple)"
      ],
      "metadata": {
        "id": "Im-g6EVzNOVi"
      },
      "execution_count": null,
      "outputs": []
    },
    {
      "cell_type": "markdown",
      "source": [
        "### Menghapus kata berulang"
      ],
      "metadata": {
        "id": "oZfpt9EUTmFA"
      }
    },
    {
      "cell_type": "code",
      "source": [
        "#remove kata yang sengaja dipanjangkan\n",
        "# seperti bisaaaaaaa -> bisa\n",
        "def spell(word):\n",
        "    if re.search(r'([a-zA-Z])\\1{2,}', word):\n",
        "        rword = re.sub(r'([a-zA-Z])\\1{2,}','\\\\1', word)\n",
        "        return rword\n",
        "    else:\n",
        "        return word"
      ],
      "metadata": {
        "id": "hQelj4okNOyl"
      },
      "execution_count": null,
      "outputs": []
    },
    {
      "cell_type": "code",
      "source": [
        "df['text'] = df['text'].apply(spell)\n",
        "df_label['text'] = df_label['text'].apply(spell)"
      ],
      "metadata": {
        "id": "G7uTPbHxNQPB"
      },
      "execution_count": null,
      "outputs": []
    },
    {
      "cell_type": "code",
      "source": [
        "print(df.iloc[0][\"text\"])"
      ],
      "metadata": {
        "id": "BOGoXB02OplA",
        "colab": {
          "base_uri": "https://localhost:8080/"
        },
        "outputId": "0025d63c-53ae-476c-a591-e2e8b1593dfb"
      },
      "execution_count": null,
      "outputs": [
        {
          "output_type": "stream",
          "name": "stdout",
          "text": [
            "hey coba himbau warganya cek seifikat vaksin di peduli lindungi kalian belum vaksin booster sudah ada seifikat nya\n"
          ]
        }
      ]
    },
    {
      "cell_type": "code",
      "source": [
        "print(df_label.iloc[100][\"text\"])"
      ],
      "metadata": {
        "colab": {
          "base_uri": "https://localhost:8080/"
        },
        "id": "tv-yl-KGo5NH",
        "outputId": "c36b45b6-d921-4150-e317-486c41bd9dd4"
      },
      "execution_count": null,
      "outputs": [
        {
          "output_type": "stream",
          "name": "stdout",
          "text": [
            "wisnu yantie nakula den walaupun sudah vaksin booster jangan lupa tetap disiplin protokol kesehatan demi keselamatan kita semua\n"
          ]
        }
      ]
    },
    {
      "cell_type": "code",
      "source": [
        "df.head()"
      ],
      "metadata": {
        "id": "uc8-4xK9WXqd",
        "colab": {
          "base_uri": "https://localhost:8080/",
          "height": 206
        },
        "outputId": "dd69341d-ee81-4cba-a564-e6bbaac8da86"
      },
      "execution_count": null,
      "outputs": [
        {
          "output_type": "execute_result",
          "data": {
            "text/plain": [
              "                                                text  \\\n",
              "0  hey coba himbau warganya cek seifikat vaksin d...   \n",
              "1  mumpung netizen progresif dan berwawasan diban...   \n",
              "2  selamat malam kak tidak ada persyaratan khusus...   \n",
              "3  tambahan info yg musti dipersiapkan paspor kl ...   \n",
              "5  ini syarat utbk diugm pake vaksin boosterswab ...   \n",
              "\n",
              "                                           text_real  \n",
              "0  Hey @txtdrbogor coba himbau warganya cek serti...  \n",
              "1  RT @Outstandjing: Mumpung netizen progresif da...  \n",
              "2  @octavianusMP Selamat malam Kak. Tidak ada per...  \n",
              "3  Tambahan info yg musti dipersiapkan:\\n~ paspor...  \n",
              "5  ini syarat utbk diugm pake vaksin booster/swab...  "
            ],
            "text/html": [
              "\n",
              "  <div id=\"df-5d3ae560-e9cb-4686-9c2e-0760ed8f241b\">\n",
              "    <div class=\"colab-df-container\">\n",
              "      <div>\n",
              "<style scoped>\n",
              "    .dataframe tbody tr th:only-of-type {\n",
              "        vertical-align: middle;\n",
              "    }\n",
              "\n",
              "    .dataframe tbody tr th {\n",
              "        vertical-align: top;\n",
              "    }\n",
              "\n",
              "    .dataframe thead th {\n",
              "        text-align: right;\n",
              "    }\n",
              "</style>\n",
              "<table border=\"1\" class=\"dataframe\">\n",
              "  <thead>\n",
              "    <tr style=\"text-align: right;\">\n",
              "      <th></th>\n",
              "      <th>text</th>\n",
              "      <th>text_real</th>\n",
              "    </tr>\n",
              "  </thead>\n",
              "  <tbody>\n",
              "    <tr>\n",
              "      <th>0</th>\n",
              "      <td>hey coba himbau warganya cek seifikat vaksin d...</td>\n",
              "      <td>Hey @txtdrbogor coba himbau warganya cek serti...</td>\n",
              "    </tr>\n",
              "    <tr>\n",
              "      <th>1</th>\n",
              "      <td>mumpung netizen progresif dan berwawasan diban...</td>\n",
              "      <td>RT @Outstandjing: Mumpung netizen progresif da...</td>\n",
              "    </tr>\n",
              "    <tr>\n",
              "      <th>2</th>\n",
              "      <td>selamat malam kak tidak ada persyaratan khusus...</td>\n",
              "      <td>@octavianusMP Selamat malam Kak. Tidak ada per...</td>\n",
              "    </tr>\n",
              "    <tr>\n",
              "      <th>3</th>\n",
              "      <td>tambahan info yg musti dipersiapkan paspor kl ...</td>\n",
              "      <td>Tambahan info yg musti dipersiapkan:\\n~ paspor...</td>\n",
              "    </tr>\n",
              "    <tr>\n",
              "      <th>5</th>\n",
              "      <td>ini syarat utbk diugm pake vaksin boosterswab ...</td>\n",
              "      <td>ini syarat utbk diugm pake vaksin booster/swab...</td>\n",
              "    </tr>\n",
              "  </tbody>\n",
              "</table>\n",
              "</div>\n",
              "      <button class=\"colab-df-convert\" onclick=\"convertToInteractive('df-5d3ae560-e9cb-4686-9c2e-0760ed8f241b')\"\n",
              "              title=\"Convert this dataframe to an interactive table.\"\n",
              "              style=\"display:none;\">\n",
              "        \n",
              "  <svg xmlns=\"http://www.w3.org/2000/svg\" height=\"24px\"viewBox=\"0 0 24 24\"\n",
              "       width=\"24px\">\n",
              "    <path d=\"M0 0h24v24H0V0z\" fill=\"none\"/>\n",
              "    <path d=\"M18.56 5.44l.94 2.06.94-2.06 2.06-.94-2.06-.94-.94-2.06-.94 2.06-2.06.94zm-11 1L8.5 8.5l.94-2.06 2.06-.94-2.06-.94L8.5 2.5l-.94 2.06-2.06.94zm10 10l.94 2.06.94-2.06 2.06-.94-2.06-.94-.94-2.06-.94 2.06-2.06.94z\"/><path d=\"M17.41 7.96l-1.37-1.37c-.4-.4-.92-.59-1.43-.59-.52 0-1.04.2-1.43.59L10.3 9.45l-7.72 7.72c-.78.78-.78 2.05 0 2.83L4 21.41c.39.39.9.59 1.41.59.51 0 1.02-.2 1.41-.59l7.78-7.78 2.81-2.81c.8-.78.8-2.07 0-2.86zM5.41 20L4 18.59l7.72-7.72 1.47 1.35L5.41 20z\"/>\n",
              "  </svg>\n",
              "      </button>\n",
              "      \n",
              "  <style>\n",
              "    .colab-df-container {\n",
              "      display:flex;\n",
              "      flex-wrap:wrap;\n",
              "      gap: 12px;\n",
              "    }\n",
              "\n",
              "    .colab-df-convert {\n",
              "      background-color: #E8F0FE;\n",
              "      border: none;\n",
              "      border-radius: 50%;\n",
              "      cursor: pointer;\n",
              "      display: none;\n",
              "      fill: #1967D2;\n",
              "      height: 32px;\n",
              "      padding: 0 0 0 0;\n",
              "      width: 32px;\n",
              "    }\n",
              "\n",
              "    .colab-df-convert:hover {\n",
              "      background-color: #E2EBFA;\n",
              "      box-shadow: 0px 1px 2px rgba(60, 64, 67, 0.3), 0px 1px 3px 1px rgba(60, 64, 67, 0.15);\n",
              "      fill: #174EA6;\n",
              "    }\n",
              "\n",
              "    [theme=dark] .colab-df-convert {\n",
              "      background-color: #3B4455;\n",
              "      fill: #D2E3FC;\n",
              "    }\n",
              "\n",
              "    [theme=dark] .colab-df-convert:hover {\n",
              "      background-color: #434B5C;\n",
              "      box-shadow: 0px 1px 3px 1px rgba(0, 0, 0, 0.15);\n",
              "      filter: drop-shadow(0px 1px 2px rgba(0, 0, 0, 0.3));\n",
              "      fill: #FFFFFF;\n",
              "    }\n",
              "  </style>\n",
              "\n",
              "      <script>\n",
              "        const buttonEl =\n",
              "          document.querySelector('#df-5d3ae560-e9cb-4686-9c2e-0760ed8f241b button.colab-df-convert');\n",
              "        buttonEl.style.display =\n",
              "          google.colab.kernel.accessAllowed ? 'block' : 'none';\n",
              "\n",
              "        async function convertToInteractive(key) {\n",
              "          const element = document.querySelector('#df-5d3ae560-e9cb-4686-9c2e-0760ed8f241b');\n",
              "          const dataTable =\n",
              "            await google.colab.kernel.invokeFunction('convertToInteractive',\n",
              "                                                     [key], {});\n",
              "          if (!dataTable) return;\n",
              "\n",
              "          const docLinkHtml = 'Like what you see? Visit the ' +\n",
              "            '<a target=\"_blank\" href=https://colab.research.google.com/notebooks/data_table.ipynb>data table notebook</a>'\n",
              "            + ' to learn more about interactive tables.';\n",
              "          element.innerHTML = '';\n",
              "          dataTable['output_type'] = 'display_data';\n",
              "          await google.colab.output.renderOutput(dataTable, element);\n",
              "          const docLink = document.createElement('div');\n",
              "          docLink.innerHTML = docLinkHtml;\n",
              "          element.appendChild(docLink);\n",
              "        }\n",
              "      </script>\n",
              "    </div>\n",
              "  </div>\n",
              "  "
            ]
          },
          "metadata": {},
          "execution_count": 44
        }
      ]
    },
    {
      "cell_type": "code",
      "source": [
        "df_label.tail()"
      ],
      "metadata": {
        "colab": {
          "base_uri": "https://localhost:8080/",
          "height": 206
        },
        "id": "UCnkAai2o98v",
        "outputId": "af9de6d3-9490-43da-ad7a-1a6935e8fc08"
      },
      "execution_count": null,
      "outputs": [
        {
          "output_type": "execute_result",
          "data": {
            "text/plain": [
              "        label                                               text\n",
              "250  positive  jd ak abis vaksin booster jam set 10 an td trs...\n",
              "251    netral  btw gue percaya banget sih kalau efeknya dahsy...\n",
              "252  positive  alhamdulillah saya sudah disuntik booster sehi...\n",
              "253  negative  booster side effect lagi teruk dari vaksin seb...\n",
              "254  negative  di negri wakanda nun jauh disana udh gak gini ..."
            ],
            "text/html": [
              "\n",
              "  <div id=\"df-b49a2403-3d6d-4e33-a2e4-3405f2f97820\">\n",
              "    <div class=\"colab-df-container\">\n",
              "      <div>\n",
              "<style scoped>\n",
              "    .dataframe tbody tr th:only-of-type {\n",
              "        vertical-align: middle;\n",
              "    }\n",
              "\n",
              "    .dataframe tbody tr th {\n",
              "        vertical-align: top;\n",
              "    }\n",
              "\n",
              "    .dataframe thead th {\n",
              "        text-align: right;\n",
              "    }\n",
              "</style>\n",
              "<table border=\"1\" class=\"dataframe\">\n",
              "  <thead>\n",
              "    <tr style=\"text-align: right;\">\n",
              "      <th></th>\n",
              "      <th>label</th>\n",
              "      <th>text</th>\n",
              "    </tr>\n",
              "  </thead>\n",
              "  <tbody>\n",
              "    <tr>\n",
              "      <th>250</th>\n",
              "      <td>positive</td>\n",
              "      <td>jd ak abis vaksin booster jam set 10 an td trs...</td>\n",
              "    </tr>\n",
              "    <tr>\n",
              "      <th>251</th>\n",
              "      <td>netral</td>\n",
              "      <td>btw gue percaya banget sih kalau efeknya dahsy...</td>\n",
              "    </tr>\n",
              "    <tr>\n",
              "      <th>252</th>\n",
              "      <td>positive</td>\n",
              "      <td>alhamdulillah saya sudah disuntik booster sehi...</td>\n",
              "    </tr>\n",
              "    <tr>\n",
              "      <th>253</th>\n",
              "      <td>negative</td>\n",
              "      <td>booster side effect lagi teruk dari vaksin seb...</td>\n",
              "    </tr>\n",
              "    <tr>\n",
              "      <th>254</th>\n",
              "      <td>negative</td>\n",
              "      <td>di negri wakanda nun jauh disana udh gak gini ...</td>\n",
              "    </tr>\n",
              "  </tbody>\n",
              "</table>\n",
              "</div>\n",
              "      <button class=\"colab-df-convert\" onclick=\"convertToInteractive('df-b49a2403-3d6d-4e33-a2e4-3405f2f97820')\"\n",
              "              title=\"Convert this dataframe to an interactive table.\"\n",
              "              style=\"display:none;\">\n",
              "        \n",
              "  <svg xmlns=\"http://www.w3.org/2000/svg\" height=\"24px\"viewBox=\"0 0 24 24\"\n",
              "       width=\"24px\">\n",
              "    <path d=\"M0 0h24v24H0V0z\" fill=\"none\"/>\n",
              "    <path d=\"M18.56 5.44l.94 2.06.94-2.06 2.06-.94-2.06-.94-.94-2.06-.94 2.06-2.06.94zm-11 1L8.5 8.5l.94-2.06 2.06-.94-2.06-.94L8.5 2.5l-.94 2.06-2.06.94zm10 10l.94 2.06.94-2.06 2.06-.94-2.06-.94-.94-2.06-.94 2.06-2.06.94z\"/><path d=\"M17.41 7.96l-1.37-1.37c-.4-.4-.92-.59-1.43-.59-.52 0-1.04.2-1.43.59L10.3 9.45l-7.72 7.72c-.78.78-.78 2.05 0 2.83L4 21.41c.39.39.9.59 1.41.59.51 0 1.02-.2 1.41-.59l7.78-7.78 2.81-2.81c.8-.78.8-2.07 0-2.86zM5.41 20L4 18.59l7.72-7.72 1.47 1.35L5.41 20z\"/>\n",
              "  </svg>\n",
              "      </button>\n",
              "      \n",
              "  <style>\n",
              "    .colab-df-container {\n",
              "      display:flex;\n",
              "      flex-wrap:wrap;\n",
              "      gap: 12px;\n",
              "    }\n",
              "\n",
              "    .colab-df-convert {\n",
              "      background-color: #E8F0FE;\n",
              "      border: none;\n",
              "      border-radius: 50%;\n",
              "      cursor: pointer;\n",
              "      display: none;\n",
              "      fill: #1967D2;\n",
              "      height: 32px;\n",
              "      padding: 0 0 0 0;\n",
              "      width: 32px;\n",
              "    }\n",
              "\n",
              "    .colab-df-convert:hover {\n",
              "      background-color: #E2EBFA;\n",
              "      box-shadow: 0px 1px 2px rgba(60, 64, 67, 0.3), 0px 1px 3px 1px rgba(60, 64, 67, 0.15);\n",
              "      fill: #174EA6;\n",
              "    }\n",
              "\n",
              "    [theme=dark] .colab-df-convert {\n",
              "      background-color: #3B4455;\n",
              "      fill: #D2E3FC;\n",
              "    }\n",
              "\n",
              "    [theme=dark] .colab-df-convert:hover {\n",
              "      background-color: #434B5C;\n",
              "      box-shadow: 0px 1px 3px 1px rgba(0, 0, 0, 0.15);\n",
              "      filter: drop-shadow(0px 1px 2px rgba(0, 0, 0, 0.3));\n",
              "      fill: #FFFFFF;\n",
              "    }\n",
              "  </style>\n",
              "\n",
              "      <script>\n",
              "        const buttonEl =\n",
              "          document.querySelector('#df-b49a2403-3d6d-4e33-a2e4-3405f2f97820 button.colab-df-convert');\n",
              "        buttonEl.style.display =\n",
              "          google.colab.kernel.accessAllowed ? 'block' : 'none';\n",
              "\n",
              "        async function convertToInteractive(key) {\n",
              "          const element = document.querySelector('#df-b49a2403-3d6d-4e33-a2e4-3405f2f97820');\n",
              "          const dataTable =\n",
              "            await google.colab.kernel.invokeFunction('convertToInteractive',\n",
              "                                                     [key], {});\n",
              "          if (!dataTable) return;\n",
              "\n",
              "          const docLinkHtml = 'Like what you see? Visit the ' +\n",
              "            '<a target=\"_blank\" href=https://colab.research.google.com/notebooks/data_table.ipynb>data table notebook</a>'\n",
              "            + ' to learn more about interactive tables.';\n",
              "          element.innerHTML = '';\n",
              "          dataTable['output_type'] = 'display_data';\n",
              "          await google.colab.output.renderOutput(dataTable, element);\n",
              "          const docLink = document.createElement('div');\n",
              "          docLink.innerHTML = docLinkHtml;\n",
              "          element.appendChild(docLink);\n",
              "        }\n",
              "      </script>\n",
              "    </div>\n",
              "  </div>\n",
              "  "
            ]
          },
          "metadata": {},
          "execution_count": 45
        }
      ]
    },
    {
      "cell_type": "markdown",
      "source": [
        "## export excel"
      ],
      "metadata": {
        "id": "xc8CTuKYme8G"
      }
    },
    {
      "cell_type": "code",
      "source": [
        "df_excel = pd.DataFrame(df.text, columns=['text']) "
      ],
      "metadata": {
        "id": "HmD841nddQs6"
      },
      "execution_count": null,
      "outputs": []
    },
    {
      "cell_type": "code",
      "source": [
        "df_excel.info()"
      ],
      "metadata": {
        "id": "UFpdesE5eGb2",
        "colab": {
          "base_uri": "https://localhost:8080/"
        },
        "outputId": "6fb4b907-0c25-4a6f-b9f9-3010023bc9cb"
      },
      "execution_count": null,
      "outputs": [
        {
          "output_type": "stream",
          "name": "stdout",
          "text": [
            "<class 'pandas.core.frame.DataFrame'>\n",
            "Int64Index: 2288 entries, 0 to 2367\n",
            "Data columns (total 1 columns):\n",
            " #   Column  Non-Null Count  Dtype \n",
            "---  ------  --------------  ----- \n",
            " 0   text    2288 non-null   object\n",
            "dtypes: object(1)\n",
            "memory usage: 35.8+ KB\n"
          ]
        }
      ]
    },
    {
      "cell_type": "code",
      "source": [
        "df_excel = df_excel.drop_duplicates()\n",
        "df['text'] = df['text'].drop_duplicates()"
      ],
      "metadata": {
        "id": "2_RgQZmweF9A"
      },
      "execution_count": null,
      "outputs": []
    },
    {
      "cell_type": "code",
      "source": [
        "df.dropna(axis = 0, inplace = True)"
      ],
      "metadata": {
        "id": "S3eVsk3jOiT5"
      },
      "execution_count": null,
      "outputs": []
    },
    {
      "cell_type": "code",
      "source": [
        "df_excel.info()"
      ],
      "metadata": {
        "id": "VAzE-8XseImP",
        "colab": {
          "base_uri": "https://localhost:8080/"
        },
        "outputId": "abffacba-5594-4802-de0e-b96fcc089d9f"
      },
      "execution_count": null,
      "outputs": [
        {
          "output_type": "stream",
          "name": "stdout",
          "text": [
            "<class 'pandas.core.frame.DataFrame'>\n",
            "Int64Index: 1520 entries, 0 to 2349\n",
            "Data columns (total 1 columns):\n",
            " #   Column  Non-Null Count  Dtype \n",
            "---  ------  --------------  ----- \n",
            " 0   text    1520 non-null   object\n",
            "dtypes: object(1)\n",
            "memory usage: 23.8+ KB\n"
          ]
        }
      ]
    },
    {
      "cell_type": "code",
      "source": [
        "df.info()"
      ],
      "metadata": {
        "id": "_9SX3TkmOGWj",
        "colab": {
          "base_uri": "https://localhost:8080/"
        },
        "outputId": "cd53ea41-6cd7-4bf2-c9cf-a6daaa8c6dc6"
      },
      "execution_count": null,
      "outputs": [
        {
          "output_type": "stream",
          "name": "stdout",
          "text": [
            "<class 'pandas.core.frame.DataFrame'>\n",
            "Int64Index: 1520 entries, 0 to 2349\n",
            "Data columns (total 2 columns):\n",
            " #   Column     Non-Null Count  Dtype \n",
            "---  ------     --------------  ----- \n",
            " 0   text       1520 non-null   object\n",
            " 1   text_real  1520 non-null   object\n",
            "dtypes: object(2)\n",
            "memory usage: 35.6+ KB\n"
          ]
        }
      ]
    },
    {
      "cell_type": "code",
      "source": [
        "# file_name = \"twitter_lebaran_bersih.xlsx\"\n",
        "\n",
        "# df_excel.to_excel(file_name)"
      ],
      "metadata": {
        "id": "_pCWlNomUX3W"
      },
      "execution_count": null,
      "outputs": []
    },
    {
      "cell_type": "markdown",
      "source": [
        "## tokenize"
      ],
      "metadata": {
        "id": "Ugu1SWKCPWu8"
      }
    },
    {
      "cell_type": "code",
      "source": [
        "from nltk.tokenize import word_tokenize "
      ],
      "metadata": {
        "id": "VYgRuUDqhX-C"
      },
      "execution_count": null,
      "outputs": []
    },
    {
      "cell_type": "code",
      "source": [
        "def word_tokenize_wrapper(text):\n",
        "    return word_tokenize(text)\n",
        "    \n",
        "def tokenize(word):\n",
        "  word = word.split(\" \")\n",
        "  return word"
      ],
      "metadata": {
        "id": "0nxstOuaNVkr"
      },
      "execution_count": null,
      "outputs": []
    },
    {
      "cell_type": "code",
      "source": [
        "df_train = pd.merge(df, df_label, on='text', how='inner')"
      ],
      "metadata": {
        "id": "W4BV1Dt_c5b-"
      },
      "execution_count": null,
      "outputs": []
    },
    {
      "cell_type": "code",
      "source": [
        "import nltk\n",
        "nltk.download('punkt')"
      ],
      "metadata": {
        "id": "0I37bgEN3yYd",
        "colab": {
          "base_uri": "https://localhost:8080/"
        },
        "outputId": "ec0b0f4d-88c6-4f9a-d7f0-380c5c25b336"
      },
      "execution_count": null,
      "outputs": [
        {
          "output_type": "stream",
          "name": "stdout",
          "text": [
            "[nltk_data] Downloading package punkt to /root/nltk_data...\n",
            "[nltk_data]   Package punkt is already up-to-date!\n"
          ]
        },
        {
          "output_type": "execute_result",
          "data": {
            "text/plain": [
              "True"
            ]
          },
          "metadata": {},
          "execution_count": 49
        }
      ]
    },
    {
      "cell_type": "code",
      "source": [
        "df_train['text_tokens'] = df_train['text'].apply(word_tokenize_wrapper)\n",
        "# df_train['text_tokens'] = df_train['text'].apply(tokenize)"
      ],
      "metadata": {
        "id": "2TyOSTEZPd6S"
      },
      "execution_count": null,
      "outputs": []
    },
    {
      "cell_type": "code",
      "source": [
        "df_train['label'].value_counts()"
      ],
      "metadata": {
        "id": "Lb73EVzodrXC",
        "colab": {
          "base_uri": "https://localhost:8080/"
        },
        "outputId": "59a38b2b-d678-4853-80d6-feb0a8f78a74"
      },
      "execution_count": null,
      "outputs": [
        {
          "output_type": "execute_result",
          "data": {
            "text/plain": [
              "positive    87\n",
              "netral      42\n",
              "negative    36\n",
              "Name: label, dtype: int64"
            ]
          },
          "metadata": {},
          "execution_count": 51
        }
      ]
    },
    {
      "cell_type": "code",
      "source": [
        "df_train.head()"
      ],
      "metadata": {
        "id": "GLLlnnCbbyHm",
        "colab": {
          "base_uri": "https://localhost:8080/",
          "height": 337
        },
        "outputId": "367f2437-30ba-4d85-f44d-b9e83afc114a"
      },
      "execution_count": null,
      "outputs": [
        {
          "output_type": "execute_result",
          "data": {
            "text/plain": [
              "                                                text  \\\n",
              "0  hey coba himbau warganya cek seifikat vaksin d...   \n",
              "1  mumpung netizen progresif dan berwawasan diban...   \n",
              "2  ini setelah vaksin booster jadi batuk mana awe...   \n",
              "3  maju loe bible gak takut gw gw dah vaksin booster   \n",
              "4  maju loe bible gak takut gw gw dah vaksin booster   \n",
              "\n",
              "                                           text_real     label  \\\n",
              "0  Hey @txtdrbogor coba himbau warganya cek serti...    netral   \n",
              "1  RT @Outstandjing: Mumpung netizen progresif da...    netral   \n",
              "2  Ini setelah vaksin booster jadi batukkkk.. man...  negative   \n",
              "3  RT @rockmansick: MAJU LOE BIBLE GAK TAKUT GW, ...  positive   \n",
              "4  MAJU LOE BIBLE GAK TAKUT GW, GW DAH VAKSIN BOO...  positive   \n",
              "\n",
              "                                         text_tokens  \n",
              "0  [hey, coba, himbau, warganya, cek, seifikat, v...  \n",
              "1  [mumpung, netizen, progresif, dan, berwawasan,...  \n",
              "2  [ini, setelah, vaksin, booster, jadi, batuk, m...  \n",
              "3  [maju, loe, bible, gak, takut, gw, gw, dah, va...  \n",
              "4  [maju, loe, bible, gak, takut, gw, gw, dah, va...  "
            ],
            "text/html": [
              "\n",
              "  <div id=\"df-fba25529-b442-4c90-aa89-2c7e3935c2e2\">\n",
              "    <div class=\"colab-df-container\">\n",
              "      <div>\n",
              "<style scoped>\n",
              "    .dataframe tbody tr th:only-of-type {\n",
              "        vertical-align: middle;\n",
              "    }\n",
              "\n",
              "    .dataframe tbody tr th {\n",
              "        vertical-align: top;\n",
              "    }\n",
              "\n",
              "    .dataframe thead th {\n",
              "        text-align: right;\n",
              "    }\n",
              "</style>\n",
              "<table border=\"1\" class=\"dataframe\">\n",
              "  <thead>\n",
              "    <tr style=\"text-align: right;\">\n",
              "      <th></th>\n",
              "      <th>text</th>\n",
              "      <th>text_real</th>\n",
              "      <th>label</th>\n",
              "      <th>text_tokens</th>\n",
              "    </tr>\n",
              "  </thead>\n",
              "  <tbody>\n",
              "    <tr>\n",
              "      <th>0</th>\n",
              "      <td>hey coba himbau warganya cek seifikat vaksin d...</td>\n",
              "      <td>Hey @txtdrbogor coba himbau warganya cek serti...</td>\n",
              "      <td>netral</td>\n",
              "      <td>[hey, coba, himbau, warganya, cek, seifikat, v...</td>\n",
              "    </tr>\n",
              "    <tr>\n",
              "      <th>1</th>\n",
              "      <td>mumpung netizen progresif dan berwawasan diban...</td>\n",
              "      <td>RT @Outstandjing: Mumpung netizen progresif da...</td>\n",
              "      <td>netral</td>\n",
              "      <td>[mumpung, netizen, progresif, dan, berwawasan,...</td>\n",
              "    </tr>\n",
              "    <tr>\n",
              "      <th>2</th>\n",
              "      <td>ini setelah vaksin booster jadi batuk mana awe...</td>\n",
              "      <td>Ini setelah vaksin booster jadi batukkkk.. man...</td>\n",
              "      <td>negative</td>\n",
              "      <td>[ini, setelah, vaksin, booster, jadi, batuk, m...</td>\n",
              "    </tr>\n",
              "    <tr>\n",
              "      <th>3</th>\n",
              "      <td>maju loe bible gak takut gw gw dah vaksin booster</td>\n",
              "      <td>RT @rockmansick: MAJU LOE BIBLE GAK TAKUT GW, ...</td>\n",
              "      <td>positive</td>\n",
              "      <td>[maju, loe, bible, gak, takut, gw, gw, dah, va...</td>\n",
              "    </tr>\n",
              "    <tr>\n",
              "      <th>4</th>\n",
              "      <td>maju loe bible gak takut gw gw dah vaksin booster</td>\n",
              "      <td>MAJU LOE BIBLE GAK TAKUT GW, GW DAH VAKSIN BOO...</td>\n",
              "      <td>positive</td>\n",
              "      <td>[maju, loe, bible, gak, takut, gw, gw, dah, va...</td>\n",
              "    </tr>\n",
              "  </tbody>\n",
              "</table>\n",
              "</div>\n",
              "      <button class=\"colab-df-convert\" onclick=\"convertToInteractive('df-fba25529-b442-4c90-aa89-2c7e3935c2e2')\"\n",
              "              title=\"Convert this dataframe to an interactive table.\"\n",
              "              style=\"display:none;\">\n",
              "        \n",
              "  <svg xmlns=\"http://www.w3.org/2000/svg\" height=\"24px\"viewBox=\"0 0 24 24\"\n",
              "       width=\"24px\">\n",
              "    <path d=\"M0 0h24v24H0V0z\" fill=\"none\"/>\n",
              "    <path d=\"M18.56 5.44l.94 2.06.94-2.06 2.06-.94-2.06-.94-.94-2.06-.94 2.06-2.06.94zm-11 1L8.5 8.5l.94-2.06 2.06-.94-2.06-.94L8.5 2.5l-.94 2.06-2.06.94zm10 10l.94 2.06.94-2.06 2.06-.94-2.06-.94-.94-2.06-.94 2.06-2.06.94z\"/><path d=\"M17.41 7.96l-1.37-1.37c-.4-.4-.92-.59-1.43-.59-.52 0-1.04.2-1.43.59L10.3 9.45l-7.72 7.72c-.78.78-.78 2.05 0 2.83L4 21.41c.39.39.9.59 1.41.59.51 0 1.02-.2 1.41-.59l7.78-7.78 2.81-2.81c.8-.78.8-2.07 0-2.86zM5.41 20L4 18.59l7.72-7.72 1.47 1.35L5.41 20z\"/>\n",
              "  </svg>\n",
              "      </button>\n",
              "      \n",
              "  <style>\n",
              "    .colab-df-container {\n",
              "      display:flex;\n",
              "      flex-wrap:wrap;\n",
              "      gap: 12px;\n",
              "    }\n",
              "\n",
              "    .colab-df-convert {\n",
              "      background-color: #E8F0FE;\n",
              "      border: none;\n",
              "      border-radius: 50%;\n",
              "      cursor: pointer;\n",
              "      display: none;\n",
              "      fill: #1967D2;\n",
              "      height: 32px;\n",
              "      padding: 0 0 0 0;\n",
              "      width: 32px;\n",
              "    }\n",
              "\n",
              "    .colab-df-convert:hover {\n",
              "      background-color: #E2EBFA;\n",
              "      box-shadow: 0px 1px 2px rgba(60, 64, 67, 0.3), 0px 1px 3px 1px rgba(60, 64, 67, 0.15);\n",
              "      fill: #174EA6;\n",
              "    }\n",
              "\n",
              "    [theme=dark] .colab-df-convert {\n",
              "      background-color: #3B4455;\n",
              "      fill: #D2E3FC;\n",
              "    }\n",
              "\n",
              "    [theme=dark] .colab-df-convert:hover {\n",
              "      background-color: #434B5C;\n",
              "      box-shadow: 0px 1px 3px 1px rgba(0, 0, 0, 0.15);\n",
              "      filter: drop-shadow(0px 1px 2px rgba(0, 0, 0, 0.3));\n",
              "      fill: #FFFFFF;\n",
              "    }\n",
              "  </style>\n",
              "\n",
              "      <script>\n",
              "        const buttonEl =\n",
              "          document.querySelector('#df-fba25529-b442-4c90-aa89-2c7e3935c2e2 button.colab-df-convert');\n",
              "        buttonEl.style.display =\n",
              "          google.colab.kernel.accessAllowed ? 'block' : 'none';\n",
              "\n",
              "        async function convertToInteractive(key) {\n",
              "          const element = document.querySelector('#df-fba25529-b442-4c90-aa89-2c7e3935c2e2');\n",
              "          const dataTable =\n",
              "            await google.colab.kernel.invokeFunction('convertToInteractive',\n",
              "                                                     [key], {});\n",
              "          if (!dataTable) return;\n",
              "\n",
              "          const docLinkHtml = 'Like what you see? Visit the ' +\n",
              "            '<a target=\"_blank\" href=https://colab.research.google.com/notebooks/data_table.ipynb>data table notebook</a>'\n",
              "            + ' to learn more about interactive tables.';\n",
              "          element.innerHTML = '';\n",
              "          dataTable['output_type'] = 'display_data';\n",
              "          await google.colab.output.renderOutput(dataTable, element);\n",
              "          const docLink = document.createElement('div');\n",
              "          docLink.innerHTML = docLinkHtml;\n",
              "          element.appendChild(docLink);\n",
              "        }\n",
              "      </script>\n",
              "    </div>\n",
              "  </div>\n",
              "  "
            ]
          },
          "metadata": {},
          "execution_count": 52
        }
      ]
    },
    {
      "cell_type": "markdown",
      "source": [
        "## count word"
      ],
      "metadata": {
        "id": "YTKQOStGPoSU"
      }
    },
    {
      "cell_type": "code",
      "source": [
        "from collections import defaultdict\n",
        "word_count = defaultdict(int)\n",
        "for tokens in df_train[\"text_tokens\"]:\n",
        "    for token in tokens:\n",
        "       word_count[token] += 1"
      ],
      "metadata": {
        "id": "hvGAOC_iPd0G"
      },
      "execution_count": null,
      "outputs": []
    },
    {
      "cell_type": "code",
      "source": [
        "word_count_df = pd.DataFrame({\"key\": word_count.keys(), \"count\": word_count.values()})\n",
        "word_count_df_sort = word_count_df.sort_values('count', axis=0, ascending=False, inplace=False)\n",
        "word_count_df_sort.head()"
      ],
      "metadata": {
        "id": "JHboDqfoPdyX",
        "colab": {
          "base_uri": "https://localhost:8080/",
          "height": 206
        },
        "outputId": "357cf500-7a6a-438e-aaa5-feb796753a5b"
      },
      "execution_count": null,
      "outputs": [
        {
          "output_type": "execute_result",
          "data": {
            "text/plain": [
              "         key  count\n",
              "6     vaksin    207\n",
              "12   booster    178\n",
              "13     sudah     45\n",
              "350    untuk     44\n",
              "86    jangan     39"
            ],
            "text/html": [
              "\n",
              "  <div id=\"df-1548a294-9ad8-49a9-ad45-593c6a25ea41\">\n",
              "    <div class=\"colab-df-container\">\n",
              "      <div>\n",
              "<style scoped>\n",
              "    .dataframe tbody tr th:only-of-type {\n",
              "        vertical-align: middle;\n",
              "    }\n",
              "\n",
              "    .dataframe tbody tr th {\n",
              "        vertical-align: top;\n",
              "    }\n",
              "\n",
              "    .dataframe thead th {\n",
              "        text-align: right;\n",
              "    }\n",
              "</style>\n",
              "<table border=\"1\" class=\"dataframe\">\n",
              "  <thead>\n",
              "    <tr style=\"text-align: right;\">\n",
              "      <th></th>\n",
              "      <th>key</th>\n",
              "      <th>count</th>\n",
              "    </tr>\n",
              "  </thead>\n",
              "  <tbody>\n",
              "    <tr>\n",
              "      <th>6</th>\n",
              "      <td>vaksin</td>\n",
              "      <td>207</td>\n",
              "    </tr>\n",
              "    <tr>\n",
              "      <th>12</th>\n",
              "      <td>booster</td>\n",
              "      <td>178</td>\n",
              "    </tr>\n",
              "    <tr>\n",
              "      <th>13</th>\n",
              "      <td>sudah</td>\n",
              "      <td>45</td>\n",
              "    </tr>\n",
              "    <tr>\n",
              "      <th>350</th>\n",
              "      <td>untuk</td>\n",
              "      <td>44</td>\n",
              "    </tr>\n",
              "    <tr>\n",
              "      <th>86</th>\n",
              "      <td>jangan</td>\n",
              "      <td>39</td>\n",
              "    </tr>\n",
              "  </tbody>\n",
              "</table>\n",
              "</div>\n",
              "      <button class=\"colab-df-convert\" onclick=\"convertToInteractive('df-1548a294-9ad8-49a9-ad45-593c6a25ea41')\"\n",
              "              title=\"Convert this dataframe to an interactive table.\"\n",
              "              style=\"display:none;\">\n",
              "        \n",
              "  <svg xmlns=\"http://www.w3.org/2000/svg\" height=\"24px\"viewBox=\"0 0 24 24\"\n",
              "       width=\"24px\">\n",
              "    <path d=\"M0 0h24v24H0V0z\" fill=\"none\"/>\n",
              "    <path d=\"M18.56 5.44l.94 2.06.94-2.06 2.06-.94-2.06-.94-.94-2.06-.94 2.06-2.06.94zm-11 1L8.5 8.5l.94-2.06 2.06-.94-2.06-.94L8.5 2.5l-.94 2.06-2.06.94zm10 10l.94 2.06.94-2.06 2.06-.94-2.06-.94-.94-2.06-.94 2.06-2.06.94z\"/><path d=\"M17.41 7.96l-1.37-1.37c-.4-.4-.92-.59-1.43-.59-.52 0-1.04.2-1.43.59L10.3 9.45l-7.72 7.72c-.78.78-.78 2.05 0 2.83L4 21.41c.39.39.9.59 1.41.59.51 0 1.02-.2 1.41-.59l7.78-7.78 2.81-2.81c.8-.78.8-2.07 0-2.86zM5.41 20L4 18.59l7.72-7.72 1.47 1.35L5.41 20z\"/>\n",
              "  </svg>\n",
              "      </button>\n",
              "      \n",
              "  <style>\n",
              "    .colab-df-container {\n",
              "      display:flex;\n",
              "      flex-wrap:wrap;\n",
              "      gap: 12px;\n",
              "    }\n",
              "\n",
              "    .colab-df-convert {\n",
              "      background-color: #E8F0FE;\n",
              "      border: none;\n",
              "      border-radius: 50%;\n",
              "      cursor: pointer;\n",
              "      display: none;\n",
              "      fill: #1967D2;\n",
              "      height: 32px;\n",
              "      padding: 0 0 0 0;\n",
              "      width: 32px;\n",
              "    }\n",
              "\n",
              "    .colab-df-convert:hover {\n",
              "      background-color: #E2EBFA;\n",
              "      box-shadow: 0px 1px 2px rgba(60, 64, 67, 0.3), 0px 1px 3px 1px rgba(60, 64, 67, 0.15);\n",
              "      fill: #174EA6;\n",
              "    }\n",
              "\n",
              "    [theme=dark] .colab-df-convert {\n",
              "      background-color: #3B4455;\n",
              "      fill: #D2E3FC;\n",
              "    }\n",
              "\n",
              "    [theme=dark] .colab-df-convert:hover {\n",
              "      background-color: #434B5C;\n",
              "      box-shadow: 0px 1px 3px 1px rgba(0, 0, 0, 0.15);\n",
              "      filter: drop-shadow(0px 1px 2px rgba(0, 0, 0, 0.3));\n",
              "      fill: #FFFFFF;\n",
              "    }\n",
              "  </style>\n",
              "\n",
              "      <script>\n",
              "        const buttonEl =\n",
              "          document.querySelector('#df-1548a294-9ad8-49a9-ad45-593c6a25ea41 button.colab-df-convert');\n",
              "        buttonEl.style.display =\n",
              "          google.colab.kernel.accessAllowed ? 'block' : 'none';\n",
              "\n",
              "        async function convertToInteractive(key) {\n",
              "          const element = document.querySelector('#df-1548a294-9ad8-49a9-ad45-593c6a25ea41');\n",
              "          const dataTable =\n",
              "            await google.colab.kernel.invokeFunction('convertToInteractive',\n",
              "                                                     [key], {});\n",
              "          if (!dataTable) return;\n",
              "\n",
              "          const docLinkHtml = 'Like what you see? Visit the ' +\n",
              "            '<a target=\"_blank\" href=https://colab.research.google.com/notebooks/data_table.ipynb>data table notebook</a>'\n",
              "            + ' to learn more about interactive tables.';\n",
              "          element.innerHTML = '';\n",
              "          dataTable['output_type'] = 'display_data';\n",
              "          await google.colab.output.renderOutput(dataTable, element);\n",
              "          const docLink = document.createElement('div');\n",
              "          docLink.innerHTML = docLinkHtml;\n",
              "          element.appendChild(docLink);\n",
              "        }\n",
              "      </script>\n",
              "    </div>\n",
              "  </div>\n",
              "  "
            ]
          },
          "metadata": {},
          "execution_count": 54
        }
      ]
    },
    {
      "cell_type": "markdown",
      "source": [
        "## Menghapus stopwords"
      ],
      "metadata": {
        "id": "rvM2HGIteJxs"
      }
    },
    {
      "cell_type": "code",
      "source": [
        "import nltk\n",
        "nltk.download('stopwords')"
      ],
      "metadata": {
        "id": "4twOiBrf35bf",
        "colab": {
          "base_uri": "https://localhost:8080/"
        },
        "outputId": "e88dd227-6f4c-4c75-d026-e90fc531be9e"
      },
      "execution_count": null,
      "outputs": [
        {
          "output_type": "stream",
          "name": "stdout",
          "text": [
            "[nltk_data] Downloading package stopwords to /root/nltk_data...\n",
            "[nltk_data]   Package stopwords is already up-to-date!\n"
          ]
        },
        {
          "output_type": "execute_result",
          "data": {
            "text/plain": [
              "True"
            ]
          },
          "metadata": {},
          "execution_count": 55
        }
      ]
    },
    {
      "cell_type": "code",
      "source": [
        "from nltk.corpus import stopwords"
      ],
      "metadata": {
        "id": "Oa31ixCUeVcF"
      },
      "execution_count": null,
      "outputs": []
    },
    {
      "cell_type": "code",
      "source": [
        "list_stopwords = stopwords.words('indonesian')\n",
        "list_stopwords.extend([\"yg\", \"dg\", \"rt\", \"dgn\", \"ny\", \"d\", 'klo', \n",
        "                       'kalo', 'amp', 'biar', 'bikin', 'bilang', \n",
        "                       'gak', 'ga', 'krn', 'nya', 'nih', 'sih', \n",
        "                       'si', 'tau', 'tdk', 'tuh', 'utk', 'ya', \n",
        "                       'jd', 'jgn', 'sdh', 'aja', 'n', 't', \n",
        "                       'nyg', 'hehe', 'pen', 'u', 'nan', 'loh', 'rt',\n",
        "                       '&amp', 'yah'])\n",
        "\n",
        "txt_stopword = pd.read_csv(\"/content/stopwords.txt\", names= [\"stopwords\"], header = None)\n",
        "list_stopwords.extend(txt_stopword[\"stopwords\"][0].split(' '))\n",
        "list_stopwords = set(list_stopwords)\n",
        "def stopwords_removal(words):\n",
        "    return [word for word in words if word not in list_stopwords]\n",
        "df_train['text_tokens_WSW'] = df_train['text_tokens'].apply(stopwords_removal) "
      ],
      "metadata": {
        "id": "TeEb_E6y6irM"
      },
      "execution_count": null,
      "outputs": []
    },
    {
      "cell_type": "code",
      "source": [
        "df_train.head()"
      ],
      "metadata": {
        "id": "usGQzG2ll1j2",
        "colab": {
          "base_uri": "https://localhost:8080/"
        },
        "outputId": "3af0c63a-f04a-43ff-9072-219894162fdd"
      },
      "execution_count": null,
      "outputs": [
        {
          "output_type": "execute_result",
          "data": {
            "text/plain": [
              "                                                text  \\\n",
              "0  hey coba himbau warganya cek seifikat vaksin d...   \n",
              "1  mumpung netizen progresif dan berwawasan diban...   \n",
              "2  ini setelah vaksin booster jadi batuk mana awe...   \n",
              "3  maju loe bible gak takut gw gw dah vaksin booster   \n",
              "4  maju loe bible gak takut gw gw dah vaksin booster   \n",
              "\n",
              "                                           text_real     label  \\\n",
              "0  Hey @txtdrbogor coba himbau warganya cek serti...    netral   \n",
              "1  RT @Outstandjing: Mumpung netizen progresif da...    netral   \n",
              "2  Ini setelah vaksin booster jadi batukkkk.. man...  negative   \n",
              "3  RT @rockmansick: MAJU LOE BIBLE GAK TAKUT GW, ...  positive   \n",
              "4  MAJU LOE BIBLE GAK TAKUT GW, GW DAH VAKSIN BOO...  positive   \n",
              "\n",
              "                                         text_tokens  \\\n",
              "0  [hey, coba, himbau, warganya, cek, seifikat, v...   \n",
              "1  [mumpung, netizen, progresif, dan, berwawasan,...   \n",
              "2  [ini, setelah, vaksin, booster, jadi, batuk, m...   \n",
              "3  [maju, loe, bible, gak, takut, gw, gw, dah, va...   \n",
              "4  [maju, loe, bible, gak, takut, gw, gw, dah, va...   \n",
              "\n",
              "                                     text_tokens_WSW  \n",
              "0  [coba, himbau, warganya, cek, seifikat, vaksin...  \n",
              "1  [mumpung, netizen, progresif, berwawasan, diba...  \n",
              "2  [vaksin, booster, batuk, awet, sampe, skrng, y...  \n",
              "3              [maju, bible, takut, vaksin, booster]  \n",
              "4              [maju, bible, takut, vaksin, booster]  "
            ],
            "text/html": [
              "\n",
              "  <div id=\"df-88fd824f-01be-46cd-84a1-993f11380683\">\n",
              "    <div class=\"colab-df-container\">\n",
              "      <div>\n",
              "<style scoped>\n",
              "    .dataframe tbody tr th:only-of-type {\n",
              "        vertical-align: middle;\n",
              "    }\n",
              "\n",
              "    .dataframe tbody tr th {\n",
              "        vertical-align: top;\n",
              "    }\n",
              "\n",
              "    .dataframe thead th {\n",
              "        text-align: right;\n",
              "    }\n",
              "</style>\n",
              "<table border=\"1\" class=\"dataframe\">\n",
              "  <thead>\n",
              "    <tr style=\"text-align: right;\">\n",
              "      <th></th>\n",
              "      <th>text</th>\n",
              "      <th>text_real</th>\n",
              "      <th>label</th>\n",
              "      <th>text_tokens</th>\n",
              "      <th>text_tokens_WSW</th>\n",
              "    </tr>\n",
              "  </thead>\n",
              "  <tbody>\n",
              "    <tr>\n",
              "      <th>0</th>\n",
              "      <td>hey coba himbau warganya cek seifikat vaksin d...</td>\n",
              "      <td>Hey @txtdrbogor coba himbau warganya cek serti...</td>\n",
              "      <td>netral</td>\n",
              "      <td>[hey, coba, himbau, warganya, cek, seifikat, v...</td>\n",
              "      <td>[coba, himbau, warganya, cek, seifikat, vaksin...</td>\n",
              "    </tr>\n",
              "    <tr>\n",
              "      <th>1</th>\n",
              "      <td>mumpung netizen progresif dan berwawasan diban...</td>\n",
              "      <td>RT @Outstandjing: Mumpung netizen progresif da...</td>\n",
              "      <td>netral</td>\n",
              "      <td>[mumpung, netizen, progresif, dan, berwawasan,...</td>\n",
              "      <td>[mumpung, netizen, progresif, berwawasan, diba...</td>\n",
              "    </tr>\n",
              "    <tr>\n",
              "      <th>2</th>\n",
              "      <td>ini setelah vaksin booster jadi batuk mana awe...</td>\n",
              "      <td>Ini setelah vaksin booster jadi batukkkk.. man...</td>\n",
              "      <td>negative</td>\n",
              "      <td>[ini, setelah, vaksin, booster, jadi, batuk, m...</td>\n",
              "      <td>[vaksin, booster, batuk, awet, sampe, skrng, y...</td>\n",
              "    </tr>\n",
              "    <tr>\n",
              "      <th>3</th>\n",
              "      <td>maju loe bible gak takut gw gw dah vaksin booster</td>\n",
              "      <td>RT @rockmansick: MAJU LOE BIBLE GAK TAKUT GW, ...</td>\n",
              "      <td>positive</td>\n",
              "      <td>[maju, loe, bible, gak, takut, gw, gw, dah, va...</td>\n",
              "      <td>[maju, bible, takut, vaksin, booster]</td>\n",
              "    </tr>\n",
              "    <tr>\n",
              "      <th>4</th>\n",
              "      <td>maju loe bible gak takut gw gw dah vaksin booster</td>\n",
              "      <td>MAJU LOE BIBLE GAK TAKUT GW, GW DAH VAKSIN BOO...</td>\n",
              "      <td>positive</td>\n",
              "      <td>[maju, loe, bible, gak, takut, gw, gw, dah, va...</td>\n",
              "      <td>[maju, bible, takut, vaksin, booster]</td>\n",
              "    </tr>\n",
              "  </tbody>\n",
              "</table>\n",
              "</div>\n",
              "      <button class=\"colab-df-convert\" onclick=\"convertToInteractive('df-88fd824f-01be-46cd-84a1-993f11380683')\"\n",
              "              title=\"Convert this dataframe to an interactive table.\"\n",
              "              style=\"display:none;\">\n",
              "        \n",
              "  <svg xmlns=\"http://www.w3.org/2000/svg\" height=\"24px\"viewBox=\"0 0 24 24\"\n",
              "       width=\"24px\">\n",
              "    <path d=\"M0 0h24v24H0V0z\" fill=\"none\"/>\n",
              "    <path d=\"M18.56 5.44l.94 2.06.94-2.06 2.06-.94-2.06-.94-.94-2.06-.94 2.06-2.06.94zm-11 1L8.5 8.5l.94-2.06 2.06-.94-2.06-.94L8.5 2.5l-.94 2.06-2.06.94zm10 10l.94 2.06.94-2.06 2.06-.94-2.06-.94-.94-2.06-.94 2.06-2.06.94z\"/><path d=\"M17.41 7.96l-1.37-1.37c-.4-.4-.92-.59-1.43-.59-.52 0-1.04.2-1.43.59L10.3 9.45l-7.72 7.72c-.78.78-.78 2.05 0 2.83L4 21.41c.39.39.9.59 1.41.59.51 0 1.02-.2 1.41-.59l7.78-7.78 2.81-2.81c.8-.78.8-2.07 0-2.86zM5.41 20L4 18.59l7.72-7.72 1.47 1.35L5.41 20z\"/>\n",
              "  </svg>\n",
              "      </button>\n",
              "      \n",
              "  <style>\n",
              "    .colab-df-container {\n",
              "      display:flex;\n",
              "      flex-wrap:wrap;\n",
              "      gap: 12px;\n",
              "    }\n",
              "\n",
              "    .colab-df-convert {\n",
              "      background-color: #E8F0FE;\n",
              "      border: none;\n",
              "      border-radius: 50%;\n",
              "      cursor: pointer;\n",
              "      display: none;\n",
              "      fill: #1967D2;\n",
              "      height: 32px;\n",
              "      padding: 0 0 0 0;\n",
              "      width: 32px;\n",
              "    }\n",
              "\n",
              "    .colab-df-convert:hover {\n",
              "      background-color: #E2EBFA;\n",
              "      box-shadow: 0px 1px 2px rgba(60, 64, 67, 0.3), 0px 1px 3px 1px rgba(60, 64, 67, 0.15);\n",
              "      fill: #174EA6;\n",
              "    }\n",
              "\n",
              "    [theme=dark] .colab-df-convert {\n",
              "      background-color: #3B4455;\n",
              "      fill: #D2E3FC;\n",
              "    }\n",
              "\n",
              "    [theme=dark] .colab-df-convert:hover {\n",
              "      background-color: #434B5C;\n",
              "      box-shadow: 0px 1px 3px 1px rgba(0, 0, 0, 0.15);\n",
              "      filter: drop-shadow(0px 1px 2px rgba(0, 0, 0, 0.3));\n",
              "      fill: #FFFFFF;\n",
              "    }\n",
              "  </style>\n",
              "\n",
              "      <script>\n",
              "        const buttonEl =\n",
              "          document.querySelector('#df-88fd824f-01be-46cd-84a1-993f11380683 button.colab-df-convert');\n",
              "        buttonEl.style.display =\n",
              "          google.colab.kernel.accessAllowed ? 'block' : 'none';\n",
              "\n",
              "        async function convertToInteractive(key) {\n",
              "          const element = document.querySelector('#df-88fd824f-01be-46cd-84a1-993f11380683');\n",
              "          const dataTable =\n",
              "            await google.colab.kernel.invokeFunction('convertToInteractive',\n",
              "                                                     [key], {});\n",
              "          if (!dataTable) return;\n",
              "\n",
              "          const docLinkHtml = 'Like what you see? Visit the ' +\n",
              "            '<a target=\"_blank\" href=https://colab.research.google.com/notebooks/data_table.ipynb>data table notebook</a>'\n",
              "            + ' to learn more about interactive tables.';\n",
              "          element.innerHTML = '';\n",
              "          dataTable['output_type'] = 'display_data';\n",
              "          await google.colab.output.renderOutput(dataTable, element);\n",
              "          const docLink = document.createElement('div');\n",
              "          docLink.innerHTML = docLinkHtml;\n",
              "          element.appendChild(docLink);\n",
              "        }\n",
              "      </script>\n",
              "    </div>\n",
              "  </div>\n",
              "  "
            ]
          },
          "metadata": {},
          "execution_count": 58
        }
      ]
    },
    {
      "cell_type": "markdown",
      "source": [
        "## Distribusi frekuensi NLTK"
      ],
      "metadata": {
        "id": "0DBTbP7lmG3q"
      }
    },
    {
      "cell_type": "code",
      "source": [
        "def freqDist_wrapper(text):\n",
        "    return FreqDist(text)\n",
        "\n",
        "df_train['text_tokens_fdist'] = df_train['text_tokens'].apply(freqDist_wrapper)\n",
        "\n",
        "print('Frequency Tokens : \\n') \n",
        "print(df_train['text_tokens_fdist'].head().apply(lambda x : x.most_common()))"
      ],
      "metadata": {
        "id": "-xMM5oPTl_CT",
        "colab": {
          "base_uri": "https://localhost:8080/"
        },
        "outputId": "95ced5d0-3325-4284-a738-220c7e78fb6e"
      },
      "execution_count": null,
      "outputs": [
        {
          "output_type": "stream",
          "name": "stdout",
          "text": [
            "Frequency Tokens : \n",
            "\n",
            "0    [(seifikat, 2), (vaksin, 2), (hey, 1), (coba, ...\n",
            "1    [(udah, 2), (mumpung, 1), (netizen, 1), (progr...\n",
            "2    [(ini, 1), (setelah, 1), (vaksin, 1), (booster...\n",
            "3    [(gw, 2), (maju, 1), (loe, 1), (bible, 1), (ga...\n",
            "4    [(gw, 2), (maju, 1), (loe, 1), (bible, 1), (ga...\n",
            "Name: text_tokens_fdist, dtype: object\n"
          ]
        }
      ]
    },
    {
      "cell_type": "markdown",
      "source": [
        "## Filtering (penghapusan stopwords) / normalisasi"
      ],
      "metadata": {
        "id": "ZI2RV09MmQpd"
      }
    },
    {
      "cell_type": "code",
      "source": [
        "from nltk.corpus import stopwords\n",
        "list_stopwords = stopwords.words('indonesian')"
      ],
      "metadata": {
        "id": "4LhR1LFHmUEp"
      },
      "execution_count": null,
      "outputs": []
    },
    {
      "cell_type": "markdown",
      "source": [
        "# lanjutan\n"
      ],
      "metadata": {
        "id": "dw9puFOumhHz"
      }
    },
    {
      "cell_type": "code",
      "source": [
        "from Sastrawi.Stemmer.StemmerFactory import StemmerFactory\n",
        "import swifter"
      ],
      "metadata": {
        "id": "fDPBfaLlmn9L"
      },
      "execution_count": null,
      "outputs": []
    },
    {
      "cell_type": "code",
      "source": [
        "df_train.head()"
      ],
      "metadata": {
        "id": "iF6kYID2nPil",
        "colab": {
          "base_uri": "https://localhost:8080/",
          "height": 424
        },
        "outputId": "d7f8a00d-049e-4696-bdd0-43dd3126451c"
      },
      "execution_count": null,
      "outputs": [
        {
          "output_type": "execute_result",
          "data": {
            "text/plain": [
              "                                                text  \\\n",
              "0  hey coba himbau warganya cek seifikat vaksin d...   \n",
              "1  mumpung netizen progresif dan berwawasan diban...   \n",
              "2  ini setelah vaksin booster jadi batuk mana awe...   \n",
              "3  maju loe bible gak takut gw gw dah vaksin booster   \n",
              "4  maju loe bible gak takut gw gw dah vaksin booster   \n",
              "\n",
              "                                           text_real     label  \\\n",
              "0  Hey @txtdrbogor coba himbau warganya cek serti...    netral   \n",
              "1  RT @Outstandjing: Mumpung netizen progresif da...    netral   \n",
              "2  Ini setelah vaksin booster jadi batukkkk.. man...  negative   \n",
              "3  RT @rockmansick: MAJU LOE BIBLE GAK TAKUT GW, ...  positive   \n",
              "4  MAJU LOE BIBLE GAK TAKUT GW, GW DAH VAKSIN BOO...  positive   \n",
              "\n",
              "                                         text_tokens  \\\n",
              "0  [hey, coba, himbau, warganya, cek, seifikat, v...   \n",
              "1  [mumpung, netizen, progresif, dan, berwawasan,...   \n",
              "2  [ini, setelah, vaksin, booster, jadi, batuk, m...   \n",
              "3  [maju, loe, bible, gak, takut, gw, gw, dah, va...   \n",
              "4  [maju, loe, bible, gak, takut, gw, gw, dah, va...   \n",
              "\n",
              "                                     text_tokens_WSW  \\\n",
              "0  [coba, himbau, warganya, cek, seifikat, vaksin...   \n",
              "1  [mumpung, netizen, progresif, berwawasan, diba...   \n",
              "2  [vaksin, booster, batuk, awet, sampe, skrng, y...   \n",
              "3              [maju, bible, takut, vaksin, booster]   \n",
              "4              [maju, bible, takut, vaksin, booster]   \n",
              "\n",
              "                                   text_tokens_fdist  \n",
              "0  {'hey': 1, 'coba': 1, 'himbau': 1, 'warganya':...  \n",
              "1  {'mumpung': 1, 'netizen': 1, 'progresif': 1, '...  \n",
              "2  {'ini': 1, 'setelah': 1, 'vaksin': 1, 'booster...  \n",
              "3  {'maju': 1, 'loe': 1, 'bible': 1, 'gak': 1, 't...  \n",
              "4  {'maju': 1, 'loe': 1, 'bible': 1, 'gak': 1, 't...  "
            ],
            "text/html": [
              "\n",
              "  <div id=\"df-b385fe9e-6741-4631-8f58-0d8c74b738d3\">\n",
              "    <div class=\"colab-df-container\">\n",
              "      <div>\n",
              "<style scoped>\n",
              "    .dataframe tbody tr th:only-of-type {\n",
              "        vertical-align: middle;\n",
              "    }\n",
              "\n",
              "    .dataframe tbody tr th {\n",
              "        vertical-align: top;\n",
              "    }\n",
              "\n",
              "    .dataframe thead th {\n",
              "        text-align: right;\n",
              "    }\n",
              "</style>\n",
              "<table border=\"1\" class=\"dataframe\">\n",
              "  <thead>\n",
              "    <tr style=\"text-align: right;\">\n",
              "      <th></th>\n",
              "      <th>text</th>\n",
              "      <th>text_real</th>\n",
              "      <th>label</th>\n",
              "      <th>text_tokens</th>\n",
              "      <th>text_tokens_WSW</th>\n",
              "      <th>text_tokens_fdist</th>\n",
              "    </tr>\n",
              "  </thead>\n",
              "  <tbody>\n",
              "    <tr>\n",
              "      <th>0</th>\n",
              "      <td>hey coba himbau warganya cek seifikat vaksin d...</td>\n",
              "      <td>Hey @txtdrbogor coba himbau warganya cek serti...</td>\n",
              "      <td>netral</td>\n",
              "      <td>[hey, coba, himbau, warganya, cek, seifikat, v...</td>\n",
              "      <td>[coba, himbau, warganya, cek, seifikat, vaksin...</td>\n",
              "      <td>{'hey': 1, 'coba': 1, 'himbau': 1, 'warganya':...</td>\n",
              "    </tr>\n",
              "    <tr>\n",
              "      <th>1</th>\n",
              "      <td>mumpung netizen progresif dan berwawasan diban...</td>\n",
              "      <td>RT @Outstandjing: Mumpung netizen progresif da...</td>\n",
              "      <td>netral</td>\n",
              "      <td>[mumpung, netizen, progresif, dan, berwawasan,...</td>\n",
              "      <td>[mumpung, netizen, progresif, berwawasan, diba...</td>\n",
              "      <td>{'mumpung': 1, 'netizen': 1, 'progresif': 1, '...</td>\n",
              "    </tr>\n",
              "    <tr>\n",
              "      <th>2</th>\n",
              "      <td>ini setelah vaksin booster jadi batuk mana awe...</td>\n",
              "      <td>Ini setelah vaksin booster jadi batukkkk.. man...</td>\n",
              "      <td>negative</td>\n",
              "      <td>[ini, setelah, vaksin, booster, jadi, batuk, m...</td>\n",
              "      <td>[vaksin, booster, batuk, awet, sampe, skrng, y...</td>\n",
              "      <td>{'ini': 1, 'setelah': 1, 'vaksin': 1, 'booster...</td>\n",
              "    </tr>\n",
              "    <tr>\n",
              "      <th>3</th>\n",
              "      <td>maju loe bible gak takut gw gw dah vaksin booster</td>\n",
              "      <td>RT @rockmansick: MAJU LOE BIBLE GAK TAKUT GW, ...</td>\n",
              "      <td>positive</td>\n",
              "      <td>[maju, loe, bible, gak, takut, gw, gw, dah, va...</td>\n",
              "      <td>[maju, bible, takut, vaksin, booster]</td>\n",
              "      <td>{'maju': 1, 'loe': 1, 'bible': 1, 'gak': 1, 't...</td>\n",
              "    </tr>\n",
              "    <tr>\n",
              "      <th>4</th>\n",
              "      <td>maju loe bible gak takut gw gw dah vaksin booster</td>\n",
              "      <td>MAJU LOE BIBLE GAK TAKUT GW, GW DAH VAKSIN BOO...</td>\n",
              "      <td>positive</td>\n",
              "      <td>[maju, loe, bible, gak, takut, gw, gw, dah, va...</td>\n",
              "      <td>[maju, bible, takut, vaksin, booster]</td>\n",
              "      <td>{'maju': 1, 'loe': 1, 'bible': 1, 'gak': 1, 't...</td>\n",
              "    </tr>\n",
              "  </tbody>\n",
              "</table>\n",
              "</div>\n",
              "      <button class=\"colab-df-convert\" onclick=\"convertToInteractive('df-b385fe9e-6741-4631-8f58-0d8c74b738d3')\"\n",
              "              title=\"Convert this dataframe to an interactive table.\"\n",
              "              style=\"display:none;\">\n",
              "        \n",
              "  <svg xmlns=\"http://www.w3.org/2000/svg\" height=\"24px\"viewBox=\"0 0 24 24\"\n",
              "       width=\"24px\">\n",
              "    <path d=\"M0 0h24v24H0V0z\" fill=\"none\"/>\n",
              "    <path d=\"M18.56 5.44l.94 2.06.94-2.06 2.06-.94-2.06-.94-.94-2.06-.94 2.06-2.06.94zm-11 1L8.5 8.5l.94-2.06 2.06-.94-2.06-.94L8.5 2.5l-.94 2.06-2.06.94zm10 10l.94 2.06.94-2.06 2.06-.94-2.06-.94-.94-2.06-.94 2.06-2.06.94z\"/><path d=\"M17.41 7.96l-1.37-1.37c-.4-.4-.92-.59-1.43-.59-.52 0-1.04.2-1.43.59L10.3 9.45l-7.72 7.72c-.78.78-.78 2.05 0 2.83L4 21.41c.39.39.9.59 1.41.59.51 0 1.02-.2 1.41-.59l7.78-7.78 2.81-2.81c.8-.78.8-2.07 0-2.86zM5.41 20L4 18.59l7.72-7.72 1.47 1.35L5.41 20z\"/>\n",
              "  </svg>\n",
              "      </button>\n",
              "      \n",
              "  <style>\n",
              "    .colab-df-container {\n",
              "      display:flex;\n",
              "      flex-wrap:wrap;\n",
              "      gap: 12px;\n",
              "    }\n",
              "\n",
              "    .colab-df-convert {\n",
              "      background-color: #E8F0FE;\n",
              "      border: none;\n",
              "      border-radius: 50%;\n",
              "      cursor: pointer;\n",
              "      display: none;\n",
              "      fill: #1967D2;\n",
              "      height: 32px;\n",
              "      padding: 0 0 0 0;\n",
              "      width: 32px;\n",
              "    }\n",
              "\n",
              "    .colab-df-convert:hover {\n",
              "      background-color: #E2EBFA;\n",
              "      box-shadow: 0px 1px 2px rgba(60, 64, 67, 0.3), 0px 1px 3px 1px rgba(60, 64, 67, 0.15);\n",
              "      fill: #174EA6;\n",
              "    }\n",
              "\n",
              "    [theme=dark] .colab-df-convert {\n",
              "      background-color: #3B4455;\n",
              "      fill: #D2E3FC;\n",
              "    }\n",
              "\n",
              "    [theme=dark] .colab-df-convert:hover {\n",
              "      background-color: #434B5C;\n",
              "      box-shadow: 0px 1px 3px 1px rgba(0, 0, 0, 0.15);\n",
              "      filter: drop-shadow(0px 1px 2px rgba(0, 0, 0, 0.3));\n",
              "      fill: #FFFFFF;\n",
              "    }\n",
              "  </style>\n",
              "\n",
              "      <script>\n",
              "        const buttonEl =\n",
              "          document.querySelector('#df-b385fe9e-6741-4631-8f58-0d8c74b738d3 button.colab-df-convert');\n",
              "        buttonEl.style.display =\n",
              "          google.colab.kernel.accessAllowed ? 'block' : 'none';\n",
              "\n",
              "        async function convertToInteractive(key) {\n",
              "          const element = document.querySelector('#df-b385fe9e-6741-4631-8f58-0d8c74b738d3');\n",
              "          const dataTable =\n",
              "            await google.colab.kernel.invokeFunction('convertToInteractive',\n",
              "                                                     [key], {});\n",
              "          if (!dataTable) return;\n",
              "\n",
              "          const docLinkHtml = 'Like what you see? Visit the ' +\n",
              "            '<a target=\"_blank\" href=https://colab.research.google.com/notebooks/data_table.ipynb>data table notebook</a>'\n",
              "            + ' to learn more about interactive tables.';\n",
              "          element.innerHTML = '';\n",
              "          dataTable['output_type'] = 'display_data';\n",
              "          await google.colab.output.renderOutput(dataTable, element);\n",
              "          const docLink = document.createElement('div');\n",
              "          docLink.innerHTML = docLinkHtml;\n",
              "          element.appendChild(docLink);\n",
              "        }\n",
              "      </script>\n",
              "    </div>\n",
              "  </div>\n",
              "  "
            ]
          },
          "metadata": {},
          "execution_count": 62
        }
      ]
    },
    {
      "cell_type": "code",
      "source": [
        "df_normalized = pd.DataFrame(df_train['label'])\n",
        "df_normalized['text'] = df_train['text']"
      ],
      "metadata": {
        "id": "Mtd_Bjl6nTop"
      },
      "execution_count": null,
      "outputs": []
    },
    {
      "cell_type": "markdown",
      "source": [
        "## menjadikan kata baku"
      ],
      "metadata": {
        "id": "EPiPhELKpYKy"
      }
    },
    {
      "cell_type": "code",
      "source": [
        "normalizad_word = df_normalized\n",
        "\n",
        "normalizad_word_dict = {}\n",
        "\n",
        "for index, row in normalizad_word.iterrows():\n",
        "    if row[0] not in normalizad_word_dict:\n",
        "        normalizad_word_dict[row[0]] = row[1] \n",
        "\n",
        "def normalized_term(document):\n",
        "    return [normalizad_word_dict[term] if term in normalizad_word_dict else term for term in document]\n",
        "\n",
        "df_train['text_normalized'] = df_train['text_tokens_WSW'].apply(normalized_term)\n",
        "\n",
        "\n",
        "# create stemmer\n",
        "factory = StemmerFactory()\n",
        "stemmer = factory.create_stemmer()\n",
        "\n",
        "# stemmed\n",
        "def stemmed_wrapper(term):\n",
        "    return stemmer.stem(term)\n",
        "\n",
        "term_dict = {}\n",
        "\n",
        "for document in df_train['text_normalized']:\n",
        "    for term in document:\n",
        "        if term not in term_dict:\n",
        "            term_dict[term] = ' '\n",
        "            \n",
        "print(len(term_dict))\n",
        "print(\"------------------------\")\n",
        "\n",
        "for term in term_dict:\n",
        "    term_dict[term] = stemmed_wrapper(term)\n",
        "    print(term,\":\" ,term_dict[term])\n",
        "    \n",
        "print(term_dict)\n",
        "print(\"------------------------\")\n",
        "\n",
        "\n",
        "# apply stemmed term to dataframe\n",
        "def get_stemmed_term(document):\n",
        "    return [term_dict[term] for term in document]\n",
        "\n",
        "df_train['text_tokens_stemmed'] = df_train['text_normalized'].swifter.apply(get_stemmed_term)"
      ],
      "metadata": {
        "id": "1CJVFFramkhF",
        "colab": {
          "base_uri": "https://localhost:8080/",
          "referenced_widgets": [
            "9450768e963a4b4a9c3de451c2b92aa9",
            "83782234fc034fb7be83feb36614327d",
            "4db4e49c0dfc41569d9f7c9720da7d13",
            "189daa4316694931a03ea33b761748a8",
            "30a6839896c244aeb32d8233bf323988",
            "fa72f788b5f24ddf9a35a1a33e22167b",
            "d7b0bf556ee2498c99342140abb72579",
            "567d9e8a2381451a95b4c88330cbba36",
            "82ece69bd30a413b9b4ef68dc9016d5d",
            "77f73559665d459391a18d465122c339",
            "0f044a35593249fcb6dbb5cdf583032e"
          ]
        },
        "outputId": "63bbc171-702c-4883-f71a-545bc692b783"
      },
      "execution_count": null,
      "outputs": [
        {
          "output_type": "stream",
          "name": "stdout",
          "text": [
            "483\n",
            "------------------------\n",
            "coba : coba\n",
            "himbau : himbau\n",
            "warganya : warga\n",
            "cek : cek\n",
            "seifikat : seifikat\n",
            "vaksin : vaksin\n",
            "peduli : peduli\n",
            "lindungi : lindung\n",
            "booster : booster\n",
            "mumpung : mumpung\n",
            "netizen : netizen\n",
            "progresif : progresif\n",
            "berwawasan : wawas\n",
            "dibanding : banding\n",
            "keluarga : keluarga\n",
            "kampung : kampung\n",
            "bahas : bahas\n",
            "1 : 1\n",
            "2 : 2\n",
            "batuk : batuk\n",
            "awet : awet\n",
            "sampe : sampe\n",
            "skrng : skrng\n",
            "yaallah : yaallah\n",
            "cape : cape\n",
            "maju : maju\n",
            "bible : bible\n",
            "takut : takut\n",
            "sarapan : sarap\n",
            "besok : besok\n",
            "makannya : makan\n",
            "dijamin : jamin\n",
            "kemana : mana\n",
            "ajah : ajah\n",
            "bebas : bebas\n",
            "mudahmudahan : mudahmudahan\n",
            "mudik : mudik\n",
            "berangkat : berangkat\n",
            "suntik : suntik\n",
            "terinfeksi : infeksi\n",
            "aktif : aktif\n",
            "berfungsi : fungsi\n",
            "infeksi : infeksi\n",
            "virus : virus\n",
            "covid : covid\n",
            "19 : 19\n",
            "tunggu : tunggu\n",
            "kabar : kabar\n",
            "satgas : satgas\n",
            "kelonggaran : longgar\n",
            "pakai : pakai\n",
            "surat : surat\n",
            "mewajibkan : wajib\n",
            "seolaholah : seolaholah\n",
            "pemer : per\n",
            "kle : kle\n",
            "info : info\n",
            "denpasar : denpasar\n",
            "kuta : kuta\n",
            "ton : ton\n",
            "ajak : ajak\n",
            "jalan2 : jalan2\n",
            "pake : pake\n",
            "kereta : kereta\n",
            "jawa : jawa\n",
            "belom : bom\n",
            "ibunya : ibu\n",
            "disuru : disuru\n",
            "sieneun : sieneun\n",
            "gausah : gausah\n",
            "antigen : antigen\n",
            "pcr : pcr\n",
            "bersihin : bersihin\n",
            "kandang : kandang\n",
            "anabul : anabul\n",
            "tidur : tidur\n",
            "siang : siang\n",
            "gara2 : gara2\n",
            "abis : abis\n",
            "efek : efek\n",
            "ngantuk : ngantuk\n",
            "hype : hype\n",
            "hanabi : hanabi\n",
            "badan : badan\n",
            "panas : panas\n",
            "dingin : dingin\n",
            "gini : gin\n",
            "doang : doang\n",
            "lemes : lemes\n",
            "bye : bye\n",
            "maaf : maaf\n",
            "krl : krl\n",
            "wajib : wajib\n",
            "diliat : liat\n",
            "susah : susah\n",
            "krna : krna\n",
            "lingkungan : lingkung\n",
            "diwajibkan : wajib\n",
            "danke : danke\n",
            "dok : dok\n",
            "tambahannya : tambah\n",
            "fren : fren\n",
            "sm : sm\n",
            "dibawah : bawah\n",
            "18 : 18\n",
            "soale : soale\n",
            "mainland : mainland\n",
            "china : china\n",
            "meledak : ledak\n",
            "baiknya : baik\n",
            "eww : eww\n",
            "laris : laris\n",
            "pospam : pospam\n",
            "lebaran : lebaran\n",
            "kudus : kudus\n",
            "stop : stop\n",
            "memperparah : parah\n",
            "mutasi : mutasi\n",
            "merusak : rusak\n",
            "kesehatan : sehat\n",
            "jangka : jangka\n",
            "panjangnya : panjang\n",
            "menimbulkan : timbul\n",
            "penykit : penykit\n",
            "menular : tular\n",
            "kalah : kalah\n",
            "melawan : lawan\n",
            "ouchh : ouchh\n",
            "ku : ku\n",
            "gampang : gampang\n",
            "flu : flu\n",
            "sebenernya : sebenernya\n",
            "denger : denger\n",
            "influenza : influenza\n",
            "pas : pas\n",
            "bingung : bingung\n",
            "td : td\n",
            "jarak : jarak\n",
            "wkwkwkwk : wkwkwkwk\n",
            "biaya : biaya\n",
            "brp : brp\n",
            "hasil : hasil\n",
            "swab : swab\n",
            "umur : umur\n",
            "18th : 18th\n",
            "september : september\n",
            "udh : udh\n",
            "namaku : nama\n",
            "mamak : mamak\n",
            "kedetek : kedetek\n",
            "nunjukin : nunjukin\n",
            "sbnrnya : sbnrnya\n",
            "beiga : beiga\n",
            "gatau : gatau\n",
            "2x : 2x\n",
            "beli : beli\n",
            "tiket : tiket\n",
            "kosan : kosan\n",
            "kerasa : rasa\n",
            "canda : canda\n",
            "semenjak : semenjak\n",
            "ngerasa : ngerasa\n",
            "sakit : sakit\n",
            "jatuh : jatuh\n",
            "senin : senin\n",
            "libur : libur\n",
            "rabu : rabu\n",
            "kepala : kepala\n",
            "hebat : hebat\n",
            "mual : mual\n",
            "demam : demam\n",
            "kamis : kamis\n",
            "meler : meler\n",
            "bersin : bersin\n",
            "jumat : jumat\n",
            "menggigil : gigil\n",
            "sabtu : sabtu\n",
            "perpanjang : panjang\n",
            "paspor : paspor\n",
            "persiapan : siap\n",
            "ketemu : ketemu\n",
            "ayang : ayang\n",
            "baby : baby\n",
            "uwu : uwu\n",
            "mewakili : wakil\n",
            "emot : emot\n",
            "banget : banget\n",
            "berasa : asa\n",
            "bgtt : bgtt\n",
            "pegelnya : gel\n",
            "pulang : pulang\n",
            "badminton : badminton\n",
            "tangan : tangan\n",
            "kanan : kanan\n",
            "ngilu : ngilu\n",
            "saking : saking\n",
            "gegara : gegara\n",
            "ngirim : ngirim\n",
            "ginian : ginian\n",
            "makasih : makasih\n",
            "ayu : ayu\n",
            "sayangku : sayang\n",
            "habis : habis\n",
            "gratis : gratis\n",
            "syaratnya : syarat\n",
            "era : era\n",
            "pandemi : pandemi\n",
            "gays : gays\n",
            "jing : jing\n",
            "emg : emg\n",
            "gila : gila\n",
            "skill : skill\n",
            "gapake : gapake\n",
            "lupa : lupa\n",
            "prokes : prokes\n",
            "perantauan : rantau\n",
            "ragu : ragu\n",
            "lengkap : lengkap\n",
            "smp : smp\n",
            "flight : flight\n",
            "sgpr : sgpr\n",
            "bapake : bapake\n",
            "gemes : gemes\n",
            "dadakan : dada\n",
            "nyuntik : nyuntik\n",
            "bokap : bokap\n",
            "lol : lol\n",
            "astra : astra\n",
            "tenang : tenang\n",
            "temennya : temennya\n",
            "zei : zei\n",
            "anjeng : anjeng\n",
            "gatakut : gatakut\n",
            "sinovac : sinovac\n",
            "modena : modena\n",
            "bekasi : bekas\n",
            "huhu : huhu\n",
            "1amp2 : 1amp2\n",
            "pusing : pusing\n",
            "tanggal : tanggal\n",
            "april : april\n",
            "kemaren : kemaren\n",
            "seifikatnya : seifikatnya\n",
            "colok : colok\n",
            "idung : idung\n",
            "telat : telat\n",
            "kirain : kirain\n",
            "enam : enam\n",
            "mrna : mrna\n",
            "aware : aware\n",
            "ayo : ayo\n",
            "milih : milih\n",
            "ditolak : tolak\n",
            "berkali : kali\n",
            "moderna : moderna\n",
            "dampaknya : dampak\n",
            "buset : buset\n",
            "392 : 392\n",
            "penerbangan : terbang\n",
            "domestik : domestik\n",
            "halangan : halang\n",
            "peama : peama\n",
            "sby : sby\n",
            "ngilu2 : ngilu2\n",
            "pegel : gel\n",
            "pemerintah : perintah\n",
            "memaksakan : paksa\n",
            "pemudik : mudik\n",
            "menyelamatkan : selamat\n",
            "rakyat : rakyat\n",
            "achmad : achmad\n",
            "skit : skit\n",
            "sakitny : sakitny\n",
            "tkut : tkut\n",
            "njeng : njeng\n",
            "masyarakat : masyarakat\n",
            "otw : otw\n",
            "rantau : rantau\n",
            "protokol : protokol\n",
            "kendor : kendor\n",
            "aman : aman\n",
            "fatwa : fatwa\n",
            "halal : halal\n",
            "mui : mui\n",
            "congkak : congkak\n",
            "ora : ora\n",
            "tumbang : tumbang\n",
            "mari : mari\n",
            "orang2 : orang2\n",
            "ngulang : ngulang\n",
            "travelling : travelling\n",
            "sep : sep\n",
            "ngeyel : ngeyel\n",
            "puji : puji\n",
            "tuhan : tuhan\n",
            "tinggal : tinggal\n",
            "nunggu : nunggu\n",
            "3 : 3\n",
            "dh : dh\n",
            "masker : masker\n",
            "trs : trs\n",
            "radang : radang\n",
            "tenggorokan : tenggorok\n",
            "kemarin : kemarin\n",
            "sumpah : sumpah\n",
            "semalem : semalem\n",
            "sakitnya : sakit\n",
            "pagi : pagi\n",
            "mereda : reda\n",
            "bekas : bekas\n",
            "turun : turun\n",
            "rggh : rggh\n",
            "sembuhnya : sembuh\n",
            "asli : asli\n",
            "niatan : niat\n",
            "pengen : ken\n",
            "iseng : iseng\n",
            "ipad : ipad\n",
            "stasiun : stasiun\n",
            "gas : gas\n",
            "mak : mak\n",
            "paham : paham\n",
            "3x : 3x\n",
            "ngefek : ngefek\n",
            "separah : parah\n",
            "pemulihannya : pulih\n",
            "cepet : cepet\n",
            "minum : minum\n",
            "obat : obat\n",
            "sehari : hari\n",
            "pening : pening\n",
            "pilek : pilek\n",
            "glad : glad\n",
            "already : already\n",
            "fully : fully\n",
            "vaccinated : vaccinated\n",
            "penerapan : terap\n",
            "kunci : kunci\n",
            "terpisahkan : pisah\n",
            "ketat : ketat\n",
            "anjr : anjr\n",
            "simulasi : simulasi\n",
            "mati : mati\n",
            "bneran : bneran\n",
            "menuntaskan : tuntas\n",
            "covid19 : covid19\n",
            "d2 : d2\n",
            "dapet : dapet\n",
            "pfizer : pfizer\n",
            "suntikan : sunti\n",
            "wisnu : wisnu\n",
            "yantie : yantie\n",
            "nakula : nakula\n",
            "den : den\n",
            "disiplin : disiplin\n",
            "keselamatan : selamat\n",
            "muncul : muncul\n",
            "anak2 : anak2\n",
            "anti : anti\n",
            "misterius2 : misterius2\n",
            "isinya : isi\n",
            "lgyg : lgyg\n",
            "adenovirusmmg : adenovirusmmg\n",
            "nyuntikpada : nyuntikpada\n",
            "jeli : jeli\n",
            "teliti : teliti\n",
            "pintar : pintar\n",
            "cuman : cuman\n",
            "nggak : nggak\n",
            "gajian : gaji\n",
            "lakukan : laku\n",
            "solusi : solusi\n",
            "akal : akal\n",
            "suruh : suruh\n",
            "ngeri : ngeri\n",
            "panen : panen\n",
            "penyakit : sakit\n",
            "aneh2 : aneh2\n",
            "rs : rs\n",
            "over : over\n",
            "load : load\n",
            "kepanikan : panik\n",
            "berdoa : doa\n",
            "nahkan : nahkan\n",
            "gue : gue\n",
            "gabisa : gabisa\n",
            "meriang : meriang\n",
            "all : all\n",
            "brand : brand\n",
            "vax : vax\n",
            "kelinci : kelinci\n",
            "perocbaan : perocbaan\n",
            "control : control\n",
            "rapidtestagswabpcr : rapidtestagswabpcr\n",
            "pemaksaan : paksa\n",
            "pengancaman : ancam\n",
            "1000 : 1000\n",
            "new : new\n",
            "beratmenular : beratmenular\n",
            "finish : finish\n",
            "peti : peti\n",
            "dibilang : bilang\n",
            "long : long\n",
            "covidkomirbit : covidkomirbit\n",
            "anjir : anjir\n",
            "hansol : hansol\n",
            "pantes : pantes\n",
            "mleyot : mleyot\n",
            "menerapkan : terap\n",
            "memutuskan : putus\n",
            "penyebaran : sebar\n",
            "divaksin : vaksin\n",
            "penuh : penuh\n",
            "penduduk : duduk\n",
            "mengalami : alami\n",
            "mengendalikan : kendali\n",
            "varian : varian\n",
            "allah : allah\n",
            "kmrn : kmrn\n",
            "nyari : nyari\n",
            "baju : baju\n",
            "itutak : itutak\n",
            "bayar : bayar\n",
            "vaksinnya : vaksin\n",
            "gkish : gkish\n",
            "nyesel : nyesel\n",
            "nyebrang : nyebrang\n",
            "kapal : kapal\n",
            "dosis : dosis\n",
            "ngilangin : ngilangin\n",
            "alergi : alergi\n",
            "kedinginan : dingin\n",
            "berita : berita\n",
            "berai : berai\n",
            "kayanya : kaya\n",
            "masi : mas\n",
            "butuh : butuh\n",
            "gabutuh : gabutuh\n",
            "nichkpn : nichkpn\n",
            "baku : baku\n",
            "hantamnyajgn : hantamnyajgn\n",
            "sok : sok\n",
            "keras : keras\n",
            "medsositu : medsositu\n",
            "sp : sp\n",
            "kancutjokowi : kancutjokowi\n",
            "tololmelarang : tololmelarang\n",
            "mudikyg : mudikyg\n",
            "untung : untung\n",
            "bpk : bpk\n",
            "luebisnis : luebisnis\n",
            "mendengarkan : dengar\n",
            "tante : tante\n",
            "konspirasi : konspirasi\n",
            "wakanda : wakanda\n",
            "gelombang : gelombang\n",
            "omicron : omicron\n",
            "berhasil : hasil\n",
            "dilewati : lewat\n",
            "lancar : lancar\n",
            "persendian : sendi\n",
            "delta : delta\n",
            "juli2021 : juli2021\n",
            "ketiga : tiga\n",
            "ikuti : ikut\n",
            "3pekan : 3pekan\n",
            "semoga : moga\n",
            "sehat : sehat\n",
            "teman2 : teman2\n",
            "tetep : tetep\n",
            "jaga2 : jaga2\n",
            "kerumunan : kerumun\n",
            "berlebih : lebih\n",
            "untungnya : untung\n",
            "kebantu : bantu\n",
            "dikit : dikit\n",
            "nyaman : nyaman\n",
            "perjalanan : jalan\n",
            "dibandingkan : banding\n",
            "tes : tes\n",
            "usap : usap\n",
            "pengumuman : umum\n",
            "pelonggaran : longgar\n",
            "{'coba': 'coba', 'himbau': 'himbau', 'warganya': 'warga', 'cek': 'cek', 'seifikat': 'seifikat', 'vaksin': 'vaksin', 'peduli': 'peduli', 'lindungi': 'lindung', 'booster': 'booster', 'mumpung': 'mumpung', 'netizen': 'netizen', 'progresif': 'progresif', 'berwawasan': 'wawas', 'dibanding': 'banding', 'keluarga': 'keluarga', 'kampung': 'kampung', 'bahas': 'bahas', '1': '1', '2': '2', 'batuk': 'batuk', 'awet': 'awet', 'sampe': 'sampe', 'skrng': 'skrng', 'yaallah': 'yaallah', 'cape': 'cape', 'maju': 'maju', 'bible': 'bible', 'takut': 'takut', 'sarapan': 'sarap', 'besok': 'besok', 'makannya': 'makan', 'dijamin': 'jamin', 'kemana': 'mana', 'ajah': 'ajah', 'bebas': 'bebas', 'mudahmudahan': 'mudahmudahan', 'mudik': 'mudik', 'berangkat': 'berangkat', 'suntik': 'suntik', 'terinfeksi': 'infeksi', 'aktif': 'aktif', 'berfungsi': 'fungsi', 'infeksi': 'infeksi', 'virus': 'virus', 'covid': 'covid', '19': '19', 'tunggu': 'tunggu', 'kabar': 'kabar', 'satgas': 'satgas', 'kelonggaran': 'longgar', 'pakai': 'pakai', 'surat': 'surat', 'mewajibkan': 'wajib', 'seolaholah': 'seolaholah', 'pemer': 'per', 'kle': 'kle', 'info': 'info', 'denpasar': 'denpasar', 'kuta': 'kuta', 'ton': 'ton', 'ajak': 'ajak', 'jalan2': 'jalan2', 'pake': 'pake', 'kereta': 'kereta', 'jawa': 'jawa', 'belom': 'bom', 'ibunya': 'ibu', 'disuru': 'disuru', 'sieneun': 'sieneun', 'gausah': 'gausah', 'antigen': 'antigen', 'pcr': 'pcr', 'bersihin': 'bersihin', 'kandang': 'kandang', 'anabul': 'anabul', 'tidur': 'tidur', 'siang': 'siang', 'gara2': 'gara2', 'abis': 'abis', 'efek': 'efek', 'ngantuk': 'ngantuk', 'hype': 'hype', 'hanabi': 'hanabi', 'badan': 'badan', 'panas': 'panas', 'dingin': 'dingin', 'gini': 'gin', 'doang': 'doang', 'lemes': 'lemes', 'bye': 'bye', 'maaf': 'maaf', 'krl': 'krl', 'wajib': 'wajib', 'diliat': 'liat', 'susah': 'susah', 'krna': 'krna', 'lingkungan': 'lingkung', 'diwajibkan': 'wajib', 'danke': 'danke', 'dok': 'dok', 'tambahannya': 'tambah', 'fren': 'fren', 'sm': 'sm', 'dibawah': 'bawah', '18': '18', 'soale': 'soale', 'mainland': 'mainland', 'china': 'china', 'meledak': 'ledak', 'baiknya': 'baik', 'eww': 'eww', 'laris': 'laris', 'pospam': 'pospam', 'lebaran': 'lebaran', 'kudus': 'kudus', 'stop': 'stop', 'memperparah': 'parah', 'mutasi': 'mutasi', 'merusak': 'rusak', 'kesehatan': 'sehat', 'jangka': 'jangka', 'panjangnya': 'panjang', 'menimbulkan': 'timbul', 'penykit': 'penykit', 'menular': 'tular', 'kalah': 'kalah', 'melawan': 'lawan', 'ouchh': 'ouchh', 'ku': 'ku', 'gampang': 'gampang', 'flu': 'flu', 'sebenernya': 'sebenernya', 'denger': 'denger', 'influenza': 'influenza', 'pas': 'pas', 'bingung': 'bingung', 'td': 'td', 'jarak': 'jarak', 'wkwkwkwk': 'wkwkwkwk', 'biaya': 'biaya', 'brp': 'brp', 'hasil': 'hasil', 'swab': 'swab', 'umur': 'umur', '18th': '18th', 'september': 'september', 'udh': 'udh', 'namaku': 'nama', 'mamak': 'mamak', 'kedetek': 'kedetek', 'nunjukin': 'nunjukin', 'sbnrnya': 'sbnrnya', 'beiga': 'beiga', 'gatau': 'gatau', '2x': '2x', 'beli': 'beli', 'tiket': 'tiket', 'kosan': 'kosan', 'kerasa': 'rasa', 'canda': 'canda', 'semenjak': 'semenjak', 'ngerasa': 'ngerasa', 'sakit': 'sakit', 'jatuh': 'jatuh', 'senin': 'senin', 'libur': 'libur', 'rabu': 'rabu', 'kepala': 'kepala', 'hebat': 'hebat', 'mual': 'mual', 'demam': 'demam', 'kamis': 'kamis', 'meler': 'meler', 'bersin': 'bersin', 'jumat': 'jumat', 'menggigil': 'gigil', 'sabtu': 'sabtu', 'perpanjang': 'panjang', 'paspor': 'paspor', 'persiapan': 'siap', 'ketemu': 'ketemu', 'ayang': 'ayang', 'baby': 'baby', 'uwu': 'uwu', 'mewakili': 'wakil', 'emot': 'emot', 'banget': 'banget', 'berasa': 'asa', 'bgtt': 'bgtt', 'pegelnya': 'gel', 'pulang': 'pulang', 'badminton': 'badminton', 'tangan': 'tangan', 'kanan': 'kanan', 'ngilu': 'ngilu', 'saking': 'saking', 'gegara': 'gegara', 'ngirim': 'ngirim', 'ginian': 'ginian', 'makasih': 'makasih', 'ayu': 'ayu', 'sayangku': 'sayang', 'habis': 'habis', 'gratis': 'gratis', 'syaratnya': 'syarat', 'era': 'era', 'pandemi': 'pandemi', 'gays': 'gays', 'jing': 'jing', 'emg': 'emg', 'gila': 'gila', 'skill': 'skill', 'gapake': 'gapake', 'lupa': 'lupa', 'prokes': 'prokes', 'perantauan': 'rantau', 'ragu': 'ragu', 'lengkap': 'lengkap', 'smp': 'smp', 'flight': 'flight', 'sgpr': 'sgpr', 'bapake': 'bapake', 'gemes': 'gemes', 'dadakan': 'dada', 'nyuntik': 'nyuntik', 'bokap': 'bokap', 'lol': 'lol', 'astra': 'astra', 'tenang': 'tenang', 'temennya': 'temennya', 'zei': 'zei', 'anjeng': 'anjeng', 'gatakut': 'gatakut', 'sinovac': 'sinovac', 'modena': 'modena', 'bekasi': 'bekas', 'huhu': 'huhu', '1amp2': '1amp2', 'pusing': 'pusing', 'tanggal': 'tanggal', 'april': 'april', 'kemaren': 'kemaren', 'seifikatnya': 'seifikatnya', 'colok': 'colok', 'idung': 'idung', 'telat': 'telat', 'kirain': 'kirain', 'enam': 'enam', 'mrna': 'mrna', 'aware': 'aware', 'ayo': 'ayo', 'milih': 'milih', 'ditolak': 'tolak', 'berkali': 'kali', 'moderna': 'moderna', 'dampaknya': 'dampak', 'buset': 'buset', '392': '392', 'penerbangan': 'terbang', 'domestik': 'domestik', 'halangan': 'halang', 'peama': 'peama', 'sby': 'sby', 'ngilu2': 'ngilu2', 'pegel': 'gel', 'pemerintah': 'perintah', 'memaksakan': 'paksa', 'pemudik': 'mudik', 'menyelamatkan': 'selamat', 'rakyat': 'rakyat', 'achmad': 'achmad', 'skit': 'skit', 'sakitny': 'sakitny', 'tkut': 'tkut', 'njeng': 'njeng', 'masyarakat': 'masyarakat', 'otw': 'otw', 'rantau': 'rantau', 'protokol': 'protokol', 'kendor': 'kendor', 'aman': 'aman', 'fatwa': 'fatwa', 'halal': 'halal', 'mui': 'mui', 'congkak': 'congkak', 'ora': 'ora', 'tumbang': 'tumbang', 'mari': 'mari', 'orang2': 'orang2', 'ngulang': 'ngulang', 'travelling': 'travelling', 'sep': 'sep', 'ngeyel': 'ngeyel', 'puji': 'puji', 'tuhan': 'tuhan', 'tinggal': 'tinggal', 'nunggu': 'nunggu', '3': '3', 'dh': 'dh', 'masker': 'masker', 'trs': 'trs', 'radang': 'radang', 'tenggorokan': 'tenggorok', 'kemarin': 'kemarin', 'sumpah': 'sumpah', 'semalem': 'semalem', 'sakitnya': 'sakit', 'pagi': 'pagi', 'mereda': 'reda', 'bekas': 'bekas', 'turun': 'turun', 'rggh': 'rggh', 'sembuhnya': 'sembuh', 'asli': 'asli', 'niatan': 'niat', 'pengen': 'ken', 'iseng': 'iseng', 'ipad': 'ipad', 'stasiun': 'stasiun', 'gas': 'gas', 'mak': 'mak', 'paham': 'paham', '3x': '3x', 'ngefek': 'ngefek', 'separah': 'parah', 'pemulihannya': 'pulih', 'cepet': 'cepet', 'minum': 'minum', 'obat': 'obat', 'sehari': 'hari', 'pening': 'pening', 'pilek': 'pilek', 'glad': 'glad', 'already': 'already', 'fully': 'fully', 'vaccinated': 'vaccinated', 'penerapan': 'terap', 'kunci': 'kunci', 'terpisahkan': 'pisah', 'ketat': 'ketat', 'anjr': 'anjr', 'simulasi': 'simulasi', 'mati': 'mati', 'bneran': 'bneran', 'menuntaskan': 'tuntas', 'covid19': 'covid19', 'd2': 'd2', 'dapet': 'dapet', 'pfizer': 'pfizer', 'suntikan': 'sunti', 'wisnu': 'wisnu', 'yantie': 'yantie', 'nakula': 'nakula', 'den': 'den', 'disiplin': 'disiplin', 'keselamatan': 'selamat', 'muncul': 'muncul', 'anak2': 'anak2', 'anti': 'anti', 'misterius2': 'misterius2', 'isinya': 'isi', 'lgyg': 'lgyg', 'adenovirusmmg': 'adenovirusmmg', 'nyuntikpada': 'nyuntikpada', 'jeli': 'jeli', 'teliti': 'teliti', 'pintar': 'pintar', 'cuman': 'cuman', 'nggak': 'nggak', 'gajian': 'gaji', 'lakukan': 'laku', 'solusi': 'solusi', 'akal': 'akal', 'suruh': 'suruh', 'ngeri': 'ngeri', 'panen': 'panen', 'penyakit': 'sakit', 'aneh2': 'aneh2', 'rs': 'rs', 'over': 'over', 'load': 'load', 'kepanikan': 'panik', 'berdoa': 'doa', 'nahkan': 'nahkan', 'gue': 'gue', 'gabisa': 'gabisa', 'meriang': 'meriang', 'all': 'all', 'brand': 'brand', 'vax': 'vax', 'kelinci': 'kelinci', 'perocbaan': 'perocbaan', 'control': 'control', 'rapidtestagswabpcr': 'rapidtestagswabpcr', 'pemaksaan': 'paksa', 'pengancaman': 'ancam', '1000': '1000', 'new': 'new', 'beratmenular': 'beratmenular', 'finish': 'finish', 'peti': 'peti', 'dibilang': 'bilang', 'long': 'long', 'covidkomirbit': 'covidkomirbit', 'anjir': 'anjir', 'hansol': 'hansol', 'pantes': 'pantes', 'mleyot': 'mleyot', 'menerapkan': 'terap', 'memutuskan': 'putus', 'penyebaran': 'sebar', 'divaksin': 'vaksin', 'penuh': 'penuh', 'penduduk': 'duduk', 'mengalami': 'alami', 'mengendalikan': 'kendali', 'varian': 'varian', 'allah': 'allah', 'kmrn': 'kmrn', 'nyari': 'nyari', 'baju': 'baju', 'itutak': 'itutak', 'bayar': 'bayar', 'vaksinnya': 'vaksin', 'gkish': 'gkish', 'nyesel': 'nyesel', 'nyebrang': 'nyebrang', 'kapal': 'kapal', 'dosis': 'dosis', 'ngilangin': 'ngilangin', 'alergi': 'alergi', 'kedinginan': 'dingin', 'berita': 'berita', 'berai': 'berai', 'kayanya': 'kaya', 'masi': 'mas', 'butuh': 'butuh', 'gabutuh': 'gabutuh', 'nichkpn': 'nichkpn', 'baku': 'baku', 'hantamnyajgn': 'hantamnyajgn', 'sok': 'sok', 'keras': 'keras', 'medsositu': 'medsositu', 'sp': 'sp', 'kancutjokowi': 'kancutjokowi', 'tololmelarang': 'tololmelarang', 'mudikyg': 'mudikyg', 'untung': 'untung', 'bpk': 'bpk', 'luebisnis': 'luebisnis', 'mendengarkan': 'dengar', 'tante': 'tante', 'konspirasi': 'konspirasi', 'wakanda': 'wakanda', 'gelombang': 'gelombang', 'omicron': 'omicron', 'berhasil': 'hasil', 'dilewati': 'lewat', 'lancar': 'lancar', 'persendian': 'sendi', 'delta': 'delta', 'juli2021': 'juli2021', 'ketiga': 'tiga', 'ikuti': 'ikut', '3pekan': '3pekan', 'semoga': 'moga', 'sehat': 'sehat', 'teman2': 'teman2', 'tetep': 'tetep', 'jaga2': 'jaga2', 'kerumunan': 'kerumun', 'berlebih': 'lebih', 'untungnya': 'untung', 'kebantu': 'bantu', 'dikit': 'dikit', 'nyaman': 'nyaman', 'perjalanan': 'jalan', 'dibandingkan': 'banding', 'tes': 'tes', 'usap': 'usap', 'pengumuman': 'umum', 'pelonggaran': 'longgar'}\n",
            "------------------------\n"
          ]
        },
        {
          "output_type": "display_data",
          "data": {
            "text/plain": [
              "Pandas Apply:   0%|          | 0/165 [00:00<?, ?it/s]"
            ],
            "application/vnd.jupyter.widget-view+json": {
              "version_major": 2,
              "version_minor": 0,
              "model_id": "9450768e963a4b4a9c3de451c2b92aa9"
            }
          },
          "metadata": {}
        }
      ]
    },
    {
      "cell_type": "code",
      "source": [
        "df_train.head()"
      ],
      "metadata": {
        "id": "uwPr0Yk_peFZ",
        "colab": {
          "base_uri": "https://localhost:8080/"
        },
        "outputId": "ba876957-d64b-46ff-ba03-af7e2ba1ff8c"
      },
      "execution_count": null,
      "outputs": [
        {
          "output_type": "execute_result",
          "data": {
            "text/plain": [
              "                                                text  \\\n",
              "0  hey coba himbau warganya cek seifikat vaksin d...   \n",
              "1  mumpung netizen progresif dan berwawasan diban...   \n",
              "2  ini setelah vaksin booster jadi batuk mana awe...   \n",
              "3  maju loe bible gak takut gw gw dah vaksin booster   \n",
              "4  maju loe bible gak takut gw gw dah vaksin booster   \n",
              "\n",
              "                                           text_real     label  \\\n",
              "0  Hey @txtdrbogor coba himbau warganya cek serti...    netral   \n",
              "1  RT @Outstandjing: Mumpung netizen progresif da...    netral   \n",
              "2  Ini setelah vaksin booster jadi batukkkk.. man...  negative   \n",
              "3  RT @rockmansick: MAJU LOE BIBLE GAK TAKUT GW, ...  positive   \n",
              "4  MAJU LOE BIBLE GAK TAKUT GW, GW DAH VAKSIN BOO...  positive   \n",
              "\n",
              "                                         text_tokens  \\\n",
              "0  [hey, coba, himbau, warganya, cek, seifikat, v...   \n",
              "1  [mumpung, netizen, progresif, dan, berwawasan,...   \n",
              "2  [ini, setelah, vaksin, booster, jadi, batuk, m...   \n",
              "3  [maju, loe, bible, gak, takut, gw, gw, dah, va...   \n",
              "4  [maju, loe, bible, gak, takut, gw, gw, dah, va...   \n",
              "\n",
              "                                     text_tokens_WSW  \\\n",
              "0  [coba, himbau, warganya, cek, seifikat, vaksin...   \n",
              "1  [mumpung, netizen, progresif, berwawasan, diba...   \n",
              "2  [vaksin, booster, batuk, awet, sampe, skrng, y...   \n",
              "3              [maju, bible, takut, vaksin, booster]   \n",
              "4              [maju, bible, takut, vaksin, booster]   \n",
              "\n",
              "                                   text_tokens_fdist  \\\n",
              "0  {'hey': 1, 'coba': 1, 'himbau': 1, 'warganya':...   \n",
              "1  {'mumpung': 1, 'netizen': 1, 'progresif': 1, '...   \n",
              "2  {'ini': 1, 'setelah': 1, 'vaksin': 1, 'booster...   \n",
              "3  {'maju': 1, 'loe': 1, 'bible': 1, 'gak': 1, 't...   \n",
              "4  {'maju': 1, 'loe': 1, 'bible': 1, 'gak': 1, 't...   \n",
              "\n",
              "                                     text_normalized  \\\n",
              "0  [coba, himbau, warganya, cek, seifikat, vaksin...   \n",
              "1  [mumpung, netizen, progresif, berwawasan, diba...   \n",
              "2  [vaksin, booster, batuk, awet, sampe, skrng, y...   \n",
              "3              [maju, bible, takut, vaksin, booster]   \n",
              "4              [maju, bible, takut, vaksin, booster]   \n",
              "\n",
              "                                 text_tokens_stemmed  \n",
              "0  [coba, himbau, warga, cek, seifikat, vaksin, p...  \n",
              "1  [mumpung, netizen, progresif, wawas, banding, ...  \n",
              "2  [vaksin, booster, batuk, awet, sampe, skrng, y...  \n",
              "3              [maju, bible, takut, vaksin, booster]  \n",
              "4              [maju, bible, takut, vaksin, booster]  "
            ],
            "text/html": [
              "\n",
              "  <div id=\"df-9b9f4542-8fce-4204-bfd3-d31e94ac3953\">\n",
              "    <div class=\"colab-df-container\">\n",
              "      <div>\n",
              "<style scoped>\n",
              "    .dataframe tbody tr th:only-of-type {\n",
              "        vertical-align: middle;\n",
              "    }\n",
              "\n",
              "    .dataframe tbody tr th {\n",
              "        vertical-align: top;\n",
              "    }\n",
              "\n",
              "    .dataframe thead th {\n",
              "        text-align: right;\n",
              "    }\n",
              "</style>\n",
              "<table border=\"1\" class=\"dataframe\">\n",
              "  <thead>\n",
              "    <tr style=\"text-align: right;\">\n",
              "      <th></th>\n",
              "      <th>text</th>\n",
              "      <th>text_real</th>\n",
              "      <th>label</th>\n",
              "      <th>text_tokens</th>\n",
              "      <th>text_tokens_WSW</th>\n",
              "      <th>text_tokens_fdist</th>\n",
              "      <th>text_normalized</th>\n",
              "      <th>text_tokens_stemmed</th>\n",
              "    </tr>\n",
              "  </thead>\n",
              "  <tbody>\n",
              "    <tr>\n",
              "      <th>0</th>\n",
              "      <td>hey coba himbau warganya cek seifikat vaksin d...</td>\n",
              "      <td>Hey @txtdrbogor coba himbau warganya cek serti...</td>\n",
              "      <td>netral</td>\n",
              "      <td>[hey, coba, himbau, warganya, cek, seifikat, v...</td>\n",
              "      <td>[coba, himbau, warganya, cek, seifikat, vaksin...</td>\n",
              "      <td>{'hey': 1, 'coba': 1, 'himbau': 1, 'warganya':...</td>\n",
              "      <td>[coba, himbau, warganya, cek, seifikat, vaksin...</td>\n",
              "      <td>[coba, himbau, warga, cek, seifikat, vaksin, p...</td>\n",
              "    </tr>\n",
              "    <tr>\n",
              "      <th>1</th>\n",
              "      <td>mumpung netizen progresif dan berwawasan diban...</td>\n",
              "      <td>RT @Outstandjing: Mumpung netizen progresif da...</td>\n",
              "      <td>netral</td>\n",
              "      <td>[mumpung, netizen, progresif, dan, berwawasan,...</td>\n",
              "      <td>[mumpung, netizen, progresif, berwawasan, diba...</td>\n",
              "      <td>{'mumpung': 1, 'netizen': 1, 'progresif': 1, '...</td>\n",
              "      <td>[mumpung, netizen, progresif, berwawasan, diba...</td>\n",
              "      <td>[mumpung, netizen, progresif, wawas, banding, ...</td>\n",
              "    </tr>\n",
              "    <tr>\n",
              "      <th>2</th>\n",
              "      <td>ini setelah vaksin booster jadi batuk mana awe...</td>\n",
              "      <td>Ini setelah vaksin booster jadi batukkkk.. man...</td>\n",
              "      <td>negative</td>\n",
              "      <td>[ini, setelah, vaksin, booster, jadi, batuk, m...</td>\n",
              "      <td>[vaksin, booster, batuk, awet, sampe, skrng, y...</td>\n",
              "      <td>{'ini': 1, 'setelah': 1, 'vaksin': 1, 'booster...</td>\n",
              "      <td>[vaksin, booster, batuk, awet, sampe, skrng, y...</td>\n",
              "      <td>[vaksin, booster, batuk, awet, sampe, skrng, y...</td>\n",
              "    </tr>\n",
              "    <tr>\n",
              "      <th>3</th>\n",
              "      <td>maju loe bible gak takut gw gw dah vaksin booster</td>\n",
              "      <td>RT @rockmansick: MAJU LOE BIBLE GAK TAKUT GW, ...</td>\n",
              "      <td>positive</td>\n",
              "      <td>[maju, loe, bible, gak, takut, gw, gw, dah, va...</td>\n",
              "      <td>[maju, bible, takut, vaksin, booster]</td>\n",
              "      <td>{'maju': 1, 'loe': 1, 'bible': 1, 'gak': 1, 't...</td>\n",
              "      <td>[maju, bible, takut, vaksin, booster]</td>\n",
              "      <td>[maju, bible, takut, vaksin, booster]</td>\n",
              "    </tr>\n",
              "    <tr>\n",
              "      <th>4</th>\n",
              "      <td>maju loe bible gak takut gw gw dah vaksin booster</td>\n",
              "      <td>MAJU LOE BIBLE GAK TAKUT GW, GW DAH VAKSIN BOO...</td>\n",
              "      <td>positive</td>\n",
              "      <td>[maju, loe, bible, gak, takut, gw, gw, dah, va...</td>\n",
              "      <td>[maju, bible, takut, vaksin, booster]</td>\n",
              "      <td>{'maju': 1, 'loe': 1, 'bible': 1, 'gak': 1, 't...</td>\n",
              "      <td>[maju, bible, takut, vaksin, booster]</td>\n",
              "      <td>[maju, bible, takut, vaksin, booster]</td>\n",
              "    </tr>\n",
              "  </tbody>\n",
              "</table>\n",
              "</div>\n",
              "      <button class=\"colab-df-convert\" onclick=\"convertToInteractive('df-9b9f4542-8fce-4204-bfd3-d31e94ac3953')\"\n",
              "              title=\"Convert this dataframe to an interactive table.\"\n",
              "              style=\"display:none;\">\n",
              "        \n",
              "  <svg xmlns=\"http://www.w3.org/2000/svg\" height=\"24px\"viewBox=\"0 0 24 24\"\n",
              "       width=\"24px\">\n",
              "    <path d=\"M0 0h24v24H0V0z\" fill=\"none\"/>\n",
              "    <path d=\"M18.56 5.44l.94 2.06.94-2.06 2.06-.94-2.06-.94-.94-2.06-.94 2.06-2.06.94zm-11 1L8.5 8.5l.94-2.06 2.06-.94-2.06-.94L8.5 2.5l-.94 2.06-2.06.94zm10 10l.94 2.06.94-2.06 2.06-.94-2.06-.94-.94-2.06-.94 2.06-2.06.94z\"/><path d=\"M17.41 7.96l-1.37-1.37c-.4-.4-.92-.59-1.43-.59-.52 0-1.04.2-1.43.59L10.3 9.45l-7.72 7.72c-.78.78-.78 2.05 0 2.83L4 21.41c.39.39.9.59 1.41.59.51 0 1.02-.2 1.41-.59l7.78-7.78 2.81-2.81c.8-.78.8-2.07 0-2.86zM5.41 20L4 18.59l7.72-7.72 1.47 1.35L5.41 20z\"/>\n",
              "  </svg>\n",
              "      </button>\n",
              "      \n",
              "  <style>\n",
              "    .colab-df-container {\n",
              "      display:flex;\n",
              "      flex-wrap:wrap;\n",
              "      gap: 12px;\n",
              "    }\n",
              "\n",
              "    .colab-df-convert {\n",
              "      background-color: #E8F0FE;\n",
              "      border: none;\n",
              "      border-radius: 50%;\n",
              "      cursor: pointer;\n",
              "      display: none;\n",
              "      fill: #1967D2;\n",
              "      height: 32px;\n",
              "      padding: 0 0 0 0;\n",
              "      width: 32px;\n",
              "    }\n",
              "\n",
              "    .colab-df-convert:hover {\n",
              "      background-color: #E2EBFA;\n",
              "      box-shadow: 0px 1px 2px rgba(60, 64, 67, 0.3), 0px 1px 3px 1px rgba(60, 64, 67, 0.15);\n",
              "      fill: #174EA6;\n",
              "    }\n",
              "\n",
              "    [theme=dark] .colab-df-convert {\n",
              "      background-color: #3B4455;\n",
              "      fill: #D2E3FC;\n",
              "    }\n",
              "\n",
              "    [theme=dark] .colab-df-convert:hover {\n",
              "      background-color: #434B5C;\n",
              "      box-shadow: 0px 1px 3px 1px rgba(0, 0, 0, 0.15);\n",
              "      filter: drop-shadow(0px 1px 2px rgba(0, 0, 0, 0.3));\n",
              "      fill: #FFFFFF;\n",
              "    }\n",
              "  </style>\n",
              "\n",
              "      <script>\n",
              "        const buttonEl =\n",
              "          document.querySelector('#df-9b9f4542-8fce-4204-bfd3-d31e94ac3953 button.colab-df-convert');\n",
              "        buttonEl.style.display =\n",
              "          google.colab.kernel.accessAllowed ? 'block' : 'none';\n",
              "\n",
              "        async function convertToInteractive(key) {\n",
              "          const element = document.querySelector('#df-9b9f4542-8fce-4204-bfd3-d31e94ac3953');\n",
              "          const dataTable =\n",
              "            await google.colab.kernel.invokeFunction('convertToInteractive',\n",
              "                                                     [key], {});\n",
              "          if (!dataTable) return;\n",
              "\n",
              "          const docLinkHtml = 'Like what you see? Visit the ' +\n",
              "            '<a target=\"_blank\" href=https://colab.research.google.com/notebooks/data_table.ipynb>data table notebook</a>'\n",
              "            + ' to learn more about interactive tables.';\n",
              "          element.innerHTML = '';\n",
              "          dataTable['output_type'] = 'display_data';\n",
              "          await google.colab.output.renderOutput(dataTable, element);\n",
              "          const docLink = document.createElement('div');\n",
              "          docLink.innerHTML = docLinkHtml;\n",
              "          element.appendChild(docLink);\n",
              "        }\n",
              "      </script>\n",
              "    </div>\n",
              "  </div>\n",
              "  "
            ]
          },
          "metadata": {},
          "execution_count": 65
        }
      ]
    },
    {
      "cell_type": "markdown",
      "source": [
        "## Menampilkan kembali gabungan data"
      ],
      "metadata": {
        "id": "M3lApxUkxSZH"
      }
    },
    {
      "cell_type": "code",
      "source": [
        "def merge_again(text):\n",
        "    return ' '.join(text)"
      ],
      "metadata": {
        "id": "nqaO8cTvxSF-"
      },
      "execution_count": null,
      "outputs": []
    },
    {
      "cell_type": "code",
      "source": [
        "df_train['done_text'] = df_train['text_tokens_stemmed'].apply(merge_again)"
      ],
      "metadata": {
        "id": "RHNp_hk14U8U"
      },
      "execution_count": null,
      "outputs": []
    },
    {
      "cell_type": "code",
      "source": [
        "df_train.head()"
      ],
      "metadata": {
        "id": "b8zj3n_54eMu",
        "colab": {
          "base_uri": "https://localhost:8080/",
          "height": 687
        },
        "outputId": "24882c0a-8547-4a30-9fc8-0b074bae8242"
      },
      "execution_count": null,
      "outputs": [
        {
          "output_type": "execute_result",
          "data": {
            "text/plain": [
              "                                                text  \\\n",
              "0  hey coba himbau warganya cek seifikat vaksin d...   \n",
              "1  mumpung netizen progresif dan berwawasan diban...   \n",
              "2  ini setelah vaksin booster jadi batuk mana awe...   \n",
              "3  maju loe bible gak takut gw gw dah vaksin booster   \n",
              "4  maju loe bible gak takut gw gw dah vaksin booster   \n",
              "\n",
              "                                           text_real     label  \\\n",
              "0  Hey @txtdrbogor coba himbau warganya cek serti...    netral   \n",
              "1  RT @Outstandjing: Mumpung netizen progresif da...    netral   \n",
              "2  Ini setelah vaksin booster jadi batukkkk.. man...  negative   \n",
              "3  RT @rockmansick: MAJU LOE BIBLE GAK TAKUT GW, ...  positive   \n",
              "4  MAJU LOE BIBLE GAK TAKUT GW, GW DAH VAKSIN BOO...  positive   \n",
              "\n",
              "                                         text_tokens  \\\n",
              "0  [hey, coba, himbau, warganya, cek, seifikat, v...   \n",
              "1  [mumpung, netizen, progresif, dan, berwawasan,...   \n",
              "2  [ini, setelah, vaksin, booster, jadi, batuk, m...   \n",
              "3  [maju, loe, bible, gak, takut, gw, gw, dah, va...   \n",
              "4  [maju, loe, bible, gak, takut, gw, gw, dah, va...   \n",
              "\n",
              "                                     text_tokens_WSW  \\\n",
              "0  [coba, himbau, warganya, cek, seifikat, vaksin...   \n",
              "1  [mumpung, netizen, progresif, berwawasan, diba...   \n",
              "2  [vaksin, booster, batuk, awet, sampe, skrng, y...   \n",
              "3              [maju, bible, takut, vaksin, booster]   \n",
              "4              [maju, bible, takut, vaksin, booster]   \n",
              "\n",
              "                                   text_tokens_fdist  \\\n",
              "0  {'hey': 1, 'coba': 1, 'himbau': 1, 'warganya':...   \n",
              "1  {'mumpung': 1, 'netizen': 1, 'progresif': 1, '...   \n",
              "2  {'ini': 1, 'setelah': 1, 'vaksin': 1, 'booster...   \n",
              "3  {'maju': 1, 'loe': 1, 'bible': 1, 'gak': 1, 't...   \n",
              "4  {'maju': 1, 'loe': 1, 'bible': 1, 'gak': 1, 't...   \n",
              "\n",
              "                                     text_normalized  \\\n",
              "0  [coba, himbau, warganya, cek, seifikat, vaksin...   \n",
              "1  [mumpung, netizen, progresif, berwawasan, diba...   \n",
              "2  [vaksin, booster, batuk, awet, sampe, skrng, y...   \n",
              "3              [maju, bible, takut, vaksin, booster]   \n",
              "4              [maju, bible, takut, vaksin, booster]   \n",
              "\n",
              "                                 text_tokens_stemmed  \\\n",
              "0  [coba, himbau, warga, cek, seifikat, vaksin, p...   \n",
              "1  [mumpung, netizen, progresif, wawas, banding, ...   \n",
              "2  [vaksin, booster, batuk, awet, sampe, skrng, y...   \n",
              "3              [maju, bible, takut, vaksin, booster]   \n",
              "4              [maju, bible, takut, vaksin, booster]   \n",
              "\n",
              "                                           done_text  \n",
              "0  coba himbau warga cek seifikat vaksin peduli l...  \n",
              "1  mumpung netizen progresif wawas banding keluar...  \n",
              "2  vaksin booster batuk awet sampe skrng yaallah ...  \n",
              "3                    maju bible takut vaksin booster  \n",
              "4                    maju bible takut vaksin booster  "
            ],
            "text/html": [
              "\n",
              "  <div id=\"df-9ca87fc8-4f30-4c43-81f8-b5c9b7ecb17f\">\n",
              "    <div class=\"colab-df-container\">\n",
              "      <div>\n",
              "<style scoped>\n",
              "    .dataframe tbody tr th:only-of-type {\n",
              "        vertical-align: middle;\n",
              "    }\n",
              "\n",
              "    .dataframe tbody tr th {\n",
              "        vertical-align: top;\n",
              "    }\n",
              "\n",
              "    .dataframe thead th {\n",
              "        text-align: right;\n",
              "    }\n",
              "</style>\n",
              "<table border=\"1\" class=\"dataframe\">\n",
              "  <thead>\n",
              "    <tr style=\"text-align: right;\">\n",
              "      <th></th>\n",
              "      <th>text</th>\n",
              "      <th>text_real</th>\n",
              "      <th>label</th>\n",
              "      <th>text_tokens</th>\n",
              "      <th>text_tokens_WSW</th>\n",
              "      <th>text_tokens_fdist</th>\n",
              "      <th>text_normalized</th>\n",
              "      <th>text_tokens_stemmed</th>\n",
              "      <th>done_text</th>\n",
              "    </tr>\n",
              "  </thead>\n",
              "  <tbody>\n",
              "    <tr>\n",
              "      <th>0</th>\n",
              "      <td>hey coba himbau warganya cek seifikat vaksin d...</td>\n",
              "      <td>Hey @txtdrbogor coba himbau warganya cek serti...</td>\n",
              "      <td>netral</td>\n",
              "      <td>[hey, coba, himbau, warganya, cek, seifikat, v...</td>\n",
              "      <td>[coba, himbau, warganya, cek, seifikat, vaksin...</td>\n",
              "      <td>{'hey': 1, 'coba': 1, 'himbau': 1, 'warganya':...</td>\n",
              "      <td>[coba, himbau, warganya, cek, seifikat, vaksin...</td>\n",
              "      <td>[coba, himbau, warga, cek, seifikat, vaksin, p...</td>\n",
              "      <td>coba himbau warga cek seifikat vaksin peduli l...</td>\n",
              "    </tr>\n",
              "    <tr>\n",
              "      <th>1</th>\n",
              "      <td>mumpung netizen progresif dan berwawasan diban...</td>\n",
              "      <td>RT @Outstandjing: Mumpung netizen progresif da...</td>\n",
              "      <td>netral</td>\n",
              "      <td>[mumpung, netizen, progresif, dan, berwawasan,...</td>\n",
              "      <td>[mumpung, netizen, progresif, berwawasan, diba...</td>\n",
              "      <td>{'mumpung': 1, 'netizen': 1, 'progresif': 1, '...</td>\n",
              "      <td>[mumpung, netizen, progresif, berwawasan, diba...</td>\n",
              "      <td>[mumpung, netizen, progresif, wawas, banding, ...</td>\n",
              "      <td>mumpung netizen progresif wawas banding keluar...</td>\n",
              "    </tr>\n",
              "    <tr>\n",
              "      <th>2</th>\n",
              "      <td>ini setelah vaksin booster jadi batuk mana awe...</td>\n",
              "      <td>Ini setelah vaksin booster jadi batukkkk.. man...</td>\n",
              "      <td>negative</td>\n",
              "      <td>[ini, setelah, vaksin, booster, jadi, batuk, m...</td>\n",
              "      <td>[vaksin, booster, batuk, awet, sampe, skrng, y...</td>\n",
              "      <td>{'ini': 1, 'setelah': 1, 'vaksin': 1, 'booster...</td>\n",
              "      <td>[vaksin, booster, batuk, awet, sampe, skrng, y...</td>\n",
              "      <td>[vaksin, booster, batuk, awet, sampe, skrng, y...</td>\n",
              "      <td>vaksin booster batuk awet sampe skrng yaallah ...</td>\n",
              "    </tr>\n",
              "    <tr>\n",
              "      <th>3</th>\n",
              "      <td>maju loe bible gak takut gw gw dah vaksin booster</td>\n",
              "      <td>RT @rockmansick: MAJU LOE BIBLE GAK TAKUT GW, ...</td>\n",
              "      <td>positive</td>\n",
              "      <td>[maju, loe, bible, gak, takut, gw, gw, dah, va...</td>\n",
              "      <td>[maju, bible, takut, vaksin, booster]</td>\n",
              "      <td>{'maju': 1, 'loe': 1, 'bible': 1, 'gak': 1, 't...</td>\n",
              "      <td>[maju, bible, takut, vaksin, booster]</td>\n",
              "      <td>[maju, bible, takut, vaksin, booster]</td>\n",
              "      <td>maju bible takut vaksin booster</td>\n",
              "    </tr>\n",
              "    <tr>\n",
              "      <th>4</th>\n",
              "      <td>maju loe bible gak takut gw gw dah vaksin booster</td>\n",
              "      <td>MAJU LOE BIBLE GAK TAKUT GW, GW DAH VAKSIN BOO...</td>\n",
              "      <td>positive</td>\n",
              "      <td>[maju, loe, bible, gak, takut, gw, gw, dah, va...</td>\n",
              "      <td>[maju, bible, takut, vaksin, booster]</td>\n",
              "      <td>{'maju': 1, 'loe': 1, 'bible': 1, 'gak': 1, 't...</td>\n",
              "      <td>[maju, bible, takut, vaksin, booster]</td>\n",
              "      <td>[maju, bible, takut, vaksin, booster]</td>\n",
              "      <td>maju bible takut vaksin booster</td>\n",
              "    </tr>\n",
              "  </tbody>\n",
              "</table>\n",
              "</div>\n",
              "      <button class=\"colab-df-convert\" onclick=\"convertToInteractive('df-9ca87fc8-4f30-4c43-81f8-b5c9b7ecb17f')\"\n",
              "              title=\"Convert this dataframe to an interactive table.\"\n",
              "              style=\"display:none;\">\n",
              "        \n",
              "  <svg xmlns=\"http://www.w3.org/2000/svg\" height=\"24px\"viewBox=\"0 0 24 24\"\n",
              "       width=\"24px\">\n",
              "    <path d=\"M0 0h24v24H0V0z\" fill=\"none\"/>\n",
              "    <path d=\"M18.56 5.44l.94 2.06.94-2.06 2.06-.94-2.06-.94-.94-2.06-.94 2.06-2.06.94zm-11 1L8.5 8.5l.94-2.06 2.06-.94-2.06-.94L8.5 2.5l-.94 2.06-2.06.94zm10 10l.94 2.06.94-2.06 2.06-.94-2.06-.94-.94-2.06-.94 2.06-2.06.94z\"/><path d=\"M17.41 7.96l-1.37-1.37c-.4-.4-.92-.59-1.43-.59-.52 0-1.04.2-1.43.59L10.3 9.45l-7.72 7.72c-.78.78-.78 2.05 0 2.83L4 21.41c.39.39.9.59 1.41.59.51 0 1.02-.2 1.41-.59l7.78-7.78 2.81-2.81c.8-.78.8-2.07 0-2.86zM5.41 20L4 18.59l7.72-7.72 1.47 1.35L5.41 20z\"/>\n",
              "  </svg>\n",
              "      </button>\n",
              "      \n",
              "  <style>\n",
              "    .colab-df-container {\n",
              "      display:flex;\n",
              "      flex-wrap:wrap;\n",
              "      gap: 12px;\n",
              "    }\n",
              "\n",
              "    .colab-df-convert {\n",
              "      background-color: #E8F0FE;\n",
              "      border: none;\n",
              "      border-radius: 50%;\n",
              "      cursor: pointer;\n",
              "      display: none;\n",
              "      fill: #1967D2;\n",
              "      height: 32px;\n",
              "      padding: 0 0 0 0;\n",
              "      width: 32px;\n",
              "    }\n",
              "\n",
              "    .colab-df-convert:hover {\n",
              "      background-color: #E2EBFA;\n",
              "      box-shadow: 0px 1px 2px rgba(60, 64, 67, 0.3), 0px 1px 3px 1px rgba(60, 64, 67, 0.15);\n",
              "      fill: #174EA6;\n",
              "    }\n",
              "\n",
              "    [theme=dark] .colab-df-convert {\n",
              "      background-color: #3B4455;\n",
              "      fill: #D2E3FC;\n",
              "    }\n",
              "\n",
              "    [theme=dark] .colab-df-convert:hover {\n",
              "      background-color: #434B5C;\n",
              "      box-shadow: 0px 1px 3px 1px rgba(0, 0, 0, 0.15);\n",
              "      filter: drop-shadow(0px 1px 2px rgba(0, 0, 0, 0.3));\n",
              "      fill: #FFFFFF;\n",
              "    }\n",
              "  </style>\n",
              "\n",
              "      <script>\n",
              "        const buttonEl =\n",
              "          document.querySelector('#df-9ca87fc8-4f30-4c43-81f8-b5c9b7ecb17f button.colab-df-convert');\n",
              "        buttonEl.style.display =\n",
              "          google.colab.kernel.accessAllowed ? 'block' : 'none';\n",
              "\n",
              "        async function convertToInteractive(key) {\n",
              "          const element = document.querySelector('#df-9ca87fc8-4f30-4c43-81f8-b5c9b7ecb17f');\n",
              "          const dataTable =\n",
              "            await google.colab.kernel.invokeFunction('convertToInteractive',\n",
              "                                                     [key], {});\n",
              "          if (!dataTable) return;\n",
              "\n",
              "          const docLinkHtml = 'Like what you see? Visit the ' +\n",
              "            '<a target=\"_blank\" href=https://colab.research.google.com/notebooks/data_table.ipynb>data table notebook</a>'\n",
              "            + ' to learn more about interactive tables.';\n",
              "          element.innerHTML = '';\n",
              "          dataTable['output_type'] = 'display_data';\n",
              "          await google.colab.output.renderOutput(dataTable, element);\n",
              "          const docLink = document.createElement('div');\n",
              "          docLink.innerHTML = docLinkHtml;\n",
              "          element.appendChild(docLink);\n",
              "        }\n",
              "      </script>\n",
              "    </div>\n",
              "  </div>\n",
              "  "
            ]
          },
          "metadata": {},
          "execution_count": 68
        }
      ]
    },
    {
      "cell_type": "markdown",
      "source": [
        "# Modeling\n"
      ],
      "metadata": {
        "id": "WrPbQ_J34soe"
      }
    },
    {
      "cell_type": "code",
      "source": [
        "from sklearn.ensemble import RandomForestClassifier\n",
        "from sklearn.tree import DecisionTreeClassifier\n",
        "from sklearn.naive_bayes import GaussianNB\n",
        "from sklearn.svm import SVC\n",
        "from sklearn.neighbors import KNeighborsClassifier\n",
        "from sklearn.model_selection import cross_val_predict\n",
        "from sklearn.metrics import confusion_matrix\n",
        "from sklearn.metrics import classification_report\n",
        "from sklearn.feature_extraction.text import TfidfVectorizer\n",
        "from sklearn.feature_extraction.text import CountVectorizer\n",
        "\n",
        "clf =  RandomForestClassifier(random_state=0, max_features ='sqrt',max_depth = 100)\n",
        "knn = KNeighborsClassifier(n_neighbors=7)\n",
        "nb = GaussianNB()\n",
        "dt = DecisionTreeClassifier(max_features ='sqrt',max_depth = 100)\n",
        "svm = SVC(degree=3)"
      ],
      "metadata": {
        "id": "-qS8ECL44tjL"
      },
      "execution_count": null,
      "outputs": []
    },
    {
      "cell_type": "code",
      "source": [
        "import warnings\n",
        "warnings.filterwarnings(\"ignore\", category=DeprecationWarning) "
      ],
      "metadata": {
        "id": "SbI_v6qX4vzj"
      },
      "execution_count": null,
      "outputs": []
    },
    {
      "cell_type": "code",
      "source": [
        "tfid = TfidfVectorizer(\n",
        "    min_df = 3,\n",
        "    max_df = 0.10,\n",
        "    ngram_range = (1,2)\n",
        ")"
      ],
      "metadata": {
        "id": "T4MNObja4wco"
      },
      "execution_count": null,
      "outputs": []
    },
    {
      "cell_type": "code",
      "source": [
        "count_vect = CountVectorizer(\n",
        "    min_df = 3,\n",
        "    max_df = 0.10,\n",
        "    ngram_range = (1,2)\n",
        ")"
      ],
      "metadata": {
        "id": "rPf6vZBZ41Zj"
      },
      "execution_count": null,
      "outputs": []
    },
    {
      "cell_type": "code",
      "source": [
        "tfid_result = tfid.fit_transform(df_train[\"done_text\"]).toarray()\n",
        "tfid_df = pd.DataFrame(tfid_result, columns = tfid.get_feature_names())\n",
        "tfid_df.columns = [\"word_\" + str(x) for x in tfid_df.columns]\n",
        "tfid_df.index = df_train.index\n",
        "# new_data = pd.concat([, tfid_df], axis=1)"
      ],
      "metadata": {
        "id": "YBBlfkeO42Ju"
      },
      "execution_count": null,
      "outputs": []
    },
    {
      "cell_type": "code",
      "source": [
        "cvzr_result = count_vect.fit_transform(df_train[\"done_text\"]).toarray()\n",
        "cvzr_df = pd.DataFrame(cvzr_result, columns = count_vect.get_feature_names())\n",
        "cvzr_df.columns = [\"word_\" + str(x) for x in cvzr_df.columns]\n",
        "cvzr_df.index = df_train.index\n",
        "# new_data = pd.concat([, tfid_df], axis=1)"
      ],
      "metadata": {
        "id": "AQZl5QYB431p"
      },
      "execution_count": null,
      "outputs": []
    },
    {
      "cell_type": "code",
      "source": [
        "cvzr_df.columns"
      ],
      "metadata": {
        "id": "bZTrqosU5JVl",
        "colab": {
          "base_uri": "https://localhost:8080/"
        },
        "outputId": "3672053d-ce30-4e40-9045-8784ac871daa"
      },
      "execution_count": null,
      "outputs": [
        {
          "output_type": "execute_result",
          "data": {
            "text/plain": [
              "Index(['word_18', 'word_2x', 'word_abis', 'word_abis vaksin', 'word_asa',\n",
              "       'word_astra', 'word_ayo', 'word_ayo vaksin', 'word_badan',\n",
              "       'word_banget', 'word_bekas', 'word_besok', 'word_booster gratis',\n",
              "       'word_booster pake', 'word_booster prokes', 'word_booster seolaholah',\n",
              "       'word_booster susah', 'word_booster vaksin', 'word_covid', 'word_demam',\n",
              "       'word_efek', 'word_efek vaksin', 'word_flight', 'word_gatakut',\n",
              "       'word_gel', 'word_gin', 'word_gratis', 'word_info', 'word_info vaksin',\n",
              "       'word_jarak', 'word_kemaren', 'word_lemes', 'word_longgar',\n",
              "       'word_longgar pakai', 'word_lupa', 'word_lupa prokes', 'word_maju',\n",
              "       'word_moderna', 'word_pakai', 'word_pakai surat', 'word_pake',\n",
              "       'word_pake astra', 'word_paksa', 'word_pandemi', 'word_pas',\n",
              "       'word_peama', 'word_prokes mudik', 'word_prokes vaksin', 'word_ragu',\n",
              "       'word_ragu vaksin', 'word_rantau', 'word_rasa', 'word_sakit',\n",
              "       'word_sampe', 'word_sehat', 'word_selamat', 'word_seolaholah',\n",
              "       'word_sinovac', 'word_sm', 'word_surat', 'word_surat wajib',\n",
              "       'word_susah', 'word_udh', 'word_udh vaksin', 'word_vaksin vaksin',\n",
              "       'word_virus', 'word_wajib', 'word_wajib vaksin', 'word_yaallah'],\n",
              "      dtype='object')"
            ]
          },
          "metadata": {},
          "execution_count": 184
        }
      ]
    },
    {
      "cell_type": "markdown",
      "source": [
        "## Menampilkan Hasil classification"
      ],
      "metadata": {
        "id": "9y0M8Z855Nu1"
      }
    },
    {
      "cell_type": "code",
      "source": [
        "y = df_train.label"
      ],
      "metadata": {
        "id": "-20fPrXq5NbY"
      },
      "execution_count": null,
      "outputs": []
    },
    {
      "cell_type": "code",
      "source": [
        "X = cvzr_df.to_numpy()\n",
        "y = df_train.label\n",
        "y_pred = cross_val_predict(clf, X, y, cv=5)\n",
        "conf_mat = confusion_matrix(y_pred, y)"
      ],
      "metadata": {
        "id": "oemlCwI_5RIf"
      },
      "execution_count": null,
      "outputs": []
    },
    {
      "cell_type": "code",
      "source": [
        "print(conf_mat)\n",
        "print(classification_report(y, y_pred, digits = 4))"
      ],
      "metadata": {
        "id": "Ub2bRIcT5U1a",
        "colab": {
          "base_uri": "https://localhost:8080/"
        },
        "outputId": "8e29b19b-0001-402d-fec0-6fc950f84ac6"
      },
      "execution_count": null,
      "outputs": [
        {
          "output_type": "stream",
          "name": "stdout",
          "text": [
            "[[20  4  3]\n",
            " [ 7 31 11]\n",
            " [ 6  0 22]]\n",
            "              precision    recall  f1-score   support\n",
            "\n",
            "    negative     0.7407    0.6061    0.6667        33\n",
            "      netral     0.6327    0.8857    0.7381        35\n",
            "    positive     0.7857    0.6111    0.6875        36\n",
            "\n",
            "    accuracy                         0.7019       104\n",
            "   macro avg     0.7197    0.7010    0.6974       104\n",
            "weighted avg     0.7199    0.7019    0.6979       104\n",
            "\n"
          ]
        }
      ]
    },
    {
      "cell_type": "code",
      "source": [
        "# sns.heatmap(classification_report(y, y_pred, digits = 4), annot =True)"
      ],
      "metadata": {
        "id": "Xv_03vs47SVx"
      },
      "execution_count": null,
      "outputs": []
    },
    {
      "cell_type": "markdown",
      "source": [
        "## Menampilkan hasil knn"
      ],
      "metadata": {
        "id": "I-ptboxI5dD5"
      }
    },
    {
      "cell_type": "code",
      "source": [
        "print('KNN')\n",
        "X = cvzr_df.to_numpy()\n",
        "y = df_train.label\n",
        "y_pred = cross_val_predict(knn, X, y, cv=5)\n",
        "conf_mat = confusion_matrix(y_pred, y)\n",
        "print(conf_mat)\n",
        "print(classification_report(y, y_pred, digits = 4))"
      ],
      "metadata": {
        "id": "USRE5TGw5bwx",
        "colab": {
          "base_uri": "https://localhost:8080/"
        },
        "outputId": "67dd1cb4-429c-493b-c557-efe48126cc9b"
      },
      "execution_count": null,
      "outputs": [
        {
          "output_type": "stream",
          "name": "stdout",
          "text": [
            "KNN\n",
            "[[ 5  0  0]\n",
            " [27 35 29]\n",
            " [ 1  0  7]]\n",
            "              precision    recall  f1-score   support\n",
            "\n",
            "    negative     1.0000    0.1515    0.2632        33\n",
            "      netral     0.3846    1.0000    0.5556        35\n",
            "    positive     0.8750    0.1944    0.3182        36\n",
            "\n",
            "    accuracy                         0.4519       104\n",
            "   macro avg     0.7532    0.4487    0.3790       104\n",
            "weighted avg     0.7496    0.4519    0.3806       104\n",
            "\n"
          ]
        }
      ]
    },
    {
      "cell_type": "code",
      "source": [
        "X"
      ],
      "metadata": {
        "colab": {
          "base_uri": "https://localhost:8080/"
        },
        "id": "0W8AfahQFmIE",
        "outputId": "6e13730f-f95e-42ae-e28d-bb835091f2de"
      },
      "execution_count": null,
      "outputs": [
        {
          "output_type": "execute_result",
          "data": {
            "text/plain": [
              "array([[0, 0, 0, ..., 0, 0, 0],\n",
              "       [0, 0, 0, ..., 0, 0, 0],\n",
              "       [0, 0, 0, ..., 0, 0, 1],\n",
              "       ...,\n",
              "       [0, 0, 0, ..., 0, 0, 0],\n",
              "       [0, 0, 0, ..., 0, 0, 0],\n",
              "       [0, 0, 0, ..., 0, 0, 0]])"
            ]
          },
          "metadata": {},
          "execution_count": 190
        }
      ]
    },
    {
      "cell_type": "code",
      "source": [
        "# sns.heatmap(classification_report(y, y_pred, digits = 4), annot =True)"
      ],
      "metadata": {
        "id": "E42p32bj7KHW"
      },
      "execution_count": null,
      "outputs": []
    },
    {
      "cell_type": "markdown",
      "source": [
        "## Menampilkan hasil Decision Tree"
      ],
      "metadata": {
        "id": "9P75L_DL5kD_"
      }
    },
    {
      "cell_type": "code",
      "source": [
        "print('Decision Tree')\n",
        "X = cvzr_df.to_numpy()\n",
        "y = df_train.label\n",
        "y_pred = cross_val_predict(dt, X, y, cv=5)\n",
        "conf_mat = confusion_matrix(y_pred, y)\n",
        "print(conf_mat)\n",
        "print(classification_report(y, y_pred, digits = 4))"
      ],
      "metadata": {
        "id": "GaO_erDT5kfj",
        "colab": {
          "base_uri": "https://localhost:8080/"
        },
        "outputId": "d78f9113-7a2f-4ec8-d5fd-87b864385c84"
      },
      "execution_count": null,
      "outputs": [
        {
          "output_type": "stream",
          "name": "stdout",
          "text": [
            "Decision Tree\n",
            "[[21  6  3]\n",
            " [ 4 29 12]\n",
            " [ 8  0 21]]\n",
            "              precision    recall  f1-score   support\n",
            "\n",
            "    negative     0.7000    0.6364    0.6667        33\n",
            "      netral     0.6444    0.8286    0.7250        35\n",
            "    positive     0.7241    0.5833    0.6462        36\n",
            "\n",
            "    accuracy                         0.6827       104\n",
            "   macro avg     0.6895    0.6828    0.6793       104\n",
            "weighted avg     0.6897    0.6827    0.6792       104\n",
            "\n"
          ]
        }
      ]
    },
    {
      "cell_type": "code",
      "source": [
        "# sns.heatmap(classification_report(y, y_pred, digits = 4), annot =True)"
      ],
      "metadata": {
        "id": "ld6CCEHp7TOC"
      },
      "execution_count": null,
      "outputs": []
    },
    {
      "cell_type": "markdown",
      "source": [
        "# SVM\n"
      ],
      "metadata": {
        "id": "Q2HI6W1U517M"
      }
    },
    {
      "cell_type": "code",
      "source": [
        "df_train.info()"
      ],
      "metadata": {
        "colab": {
          "base_uri": "https://localhost:8080/"
        },
        "id": "54eG4CZNCLYl",
        "outputId": "d1b6daac-0857-45ff-d715-6b3761caaa9f"
      },
      "execution_count": null,
      "outputs": [
        {
          "output_type": "stream",
          "name": "stdout",
          "text": [
            "<class 'pandas.core.frame.DataFrame'>\n",
            "Int64Index: 104 entries, 0 to 103\n",
            "Data columns (total 9 columns):\n",
            " #   Column               Non-Null Count  Dtype \n",
            "---  ------               --------------  ----- \n",
            " 0   text                 104 non-null    object\n",
            " 1   text_real            104 non-null    object\n",
            " 2   label                104 non-null    object\n",
            " 3   text_tokens          104 non-null    object\n",
            " 4   text_tokens_WSW      104 non-null    object\n",
            " 5   text_tokens_fdist    104 non-null    object\n",
            " 6   text_normalized      104 non-null    object\n",
            " 7   text_tokens_stemmed  104 non-null    object\n",
            " 8   done_text            104 non-null    object\n",
            "dtypes: object(9)\n",
            "memory usage: 12.2+ KB\n"
          ]
        }
      ]
    },
    {
      "cell_type": "code",
      "source": [
        "# def convert(label):\n",
        "#   if label == 'negative':\n",
        "#     return 0\n",
        "#   elif label == \"netral\":\n",
        "#     return 1\n",
        "#   else:\n",
        "#     return 2"
      ],
      "metadata": {
        "id": "7ab0-N4yDFhv"
      },
      "execution_count": null,
      "outputs": []
    },
    {
      "cell_type": "code",
      "source": [
        "# df_train['label'] = df_train['label'].apply(convert)"
      ],
      "metadata": {
        "id": "sO0EPLntDSVu"
      },
      "execution_count": null,
      "outputs": []
    },
    {
      "cell_type": "markdown",
      "source": [
        "# vactorization"
      ],
      "metadata": {
        "id": "5suk4FkbJmC_"
      }
    },
    {
      "cell_type": "code",
      "source": [
        "df_train.head()"
      ],
      "metadata": {
        "colab": {
          "base_uri": "https://localhost:8080/",
          "height": 687
        },
        "id": "ME6jkC8FJ6p_",
        "outputId": "a1c79a87-6594-4061-f903-7fea2c4febfd"
      },
      "execution_count": null,
      "outputs": [
        {
          "output_type": "execute_result",
          "data": {
            "text/plain": [
              "                                                text  \\\n",
              "0  hey coba himbau warganya cek seifikat vaksin d...   \n",
              "1  mumpung netizen progresif dan berwawasan diban...   \n",
              "2  ini setelah vaksin booster jadi batuk mana awe...   \n",
              "3  maju loe bible gak takut gw gw dah vaksin booster   \n",
              "4  maju loe bible gak takut gw gw dah vaksin booster   \n",
              "\n",
              "                                           text_real     label  \\\n",
              "0  Hey @txtdrbogor coba himbau warganya cek serti...    netral   \n",
              "1  RT @Outstandjing: Mumpung netizen progresif da...    netral   \n",
              "2  Ini setelah vaksin booster jadi batukkkk.. man...  negative   \n",
              "3  RT @rockmansick: MAJU LOE BIBLE GAK TAKUT GW, ...  positive   \n",
              "4  MAJU LOE BIBLE GAK TAKUT GW, GW DAH VAKSIN BOO...  positive   \n",
              "\n",
              "                                         text_tokens  \\\n",
              "0  [hey, coba, himbau, warganya, cek, seifikat, v...   \n",
              "1  [mumpung, netizen, progresif, dan, berwawasan,...   \n",
              "2  [ini, setelah, vaksin, booster, jadi, batuk, m...   \n",
              "3  [maju, loe, bible, gak, takut, gw, gw, dah, va...   \n",
              "4  [maju, loe, bible, gak, takut, gw, gw, dah, va...   \n",
              "\n",
              "                                     text_tokens_WSW  \\\n",
              "0  [coba, himbau, warganya, cek, seifikat, vaksin...   \n",
              "1  [mumpung, netizen, progresif, berwawasan, diba...   \n",
              "2  [vaksin, booster, batuk, awet, sampe, skrng, y...   \n",
              "3              [maju, bible, takut, vaksin, booster]   \n",
              "4              [maju, bible, takut, vaksin, booster]   \n",
              "\n",
              "                                   text_tokens_fdist  \\\n",
              "0  {'hey': 1, 'coba': 1, 'himbau': 1, 'warganya':...   \n",
              "1  {'mumpung': 1, 'netizen': 1, 'progresif': 1, '...   \n",
              "2  {'ini': 1, 'setelah': 1, 'vaksin': 1, 'booster...   \n",
              "3  {'maju': 1, 'loe': 1, 'bible': 1, 'gak': 1, 't...   \n",
              "4  {'maju': 1, 'loe': 1, 'bible': 1, 'gak': 1, 't...   \n",
              "\n",
              "                                     text_normalized  \\\n",
              "0  [coba, himbau, warganya, cek, seifikat, vaksin...   \n",
              "1  [mumpung, netizen, progresif, berwawasan, diba...   \n",
              "2  [vaksin, booster, batuk, awet, sampe, skrng, y...   \n",
              "3              [maju, bible, takut, vaksin, booster]   \n",
              "4              [maju, bible, takut, vaksin, booster]   \n",
              "\n",
              "                                 text_tokens_stemmed  \\\n",
              "0  [coba, himbau, warga, cek, seifikat, vaksin, p...   \n",
              "1  [mumpung, netizen, progresif, wawas, banding, ...   \n",
              "2  [vaksin, booster, batuk, awet, sampe, skrng, y...   \n",
              "3              [maju, bible, takut, vaksin, booster]   \n",
              "4              [maju, bible, takut, vaksin, booster]   \n",
              "\n",
              "                                           done_text  \n",
              "0  coba himbau warga cek seifikat vaksin peduli l...  \n",
              "1  mumpung netizen progresif wawas banding keluar...  \n",
              "2  vaksin booster batuk awet sampe skrng yaallah ...  \n",
              "3                    maju bible takut vaksin booster  \n",
              "4                    maju bible takut vaksin booster  "
            ],
            "text/html": [
              "\n",
              "  <div id=\"df-575ec986-dcb2-4626-87b5-244b7b188eb5\">\n",
              "    <div class=\"colab-df-container\">\n",
              "      <div>\n",
              "<style scoped>\n",
              "    .dataframe tbody tr th:only-of-type {\n",
              "        vertical-align: middle;\n",
              "    }\n",
              "\n",
              "    .dataframe tbody tr th {\n",
              "        vertical-align: top;\n",
              "    }\n",
              "\n",
              "    .dataframe thead th {\n",
              "        text-align: right;\n",
              "    }\n",
              "</style>\n",
              "<table border=\"1\" class=\"dataframe\">\n",
              "  <thead>\n",
              "    <tr style=\"text-align: right;\">\n",
              "      <th></th>\n",
              "      <th>text</th>\n",
              "      <th>text_real</th>\n",
              "      <th>label</th>\n",
              "      <th>text_tokens</th>\n",
              "      <th>text_tokens_WSW</th>\n",
              "      <th>text_tokens_fdist</th>\n",
              "      <th>text_normalized</th>\n",
              "      <th>text_tokens_stemmed</th>\n",
              "      <th>done_text</th>\n",
              "    </tr>\n",
              "  </thead>\n",
              "  <tbody>\n",
              "    <tr>\n",
              "      <th>0</th>\n",
              "      <td>hey coba himbau warganya cek seifikat vaksin d...</td>\n",
              "      <td>Hey @txtdrbogor coba himbau warganya cek serti...</td>\n",
              "      <td>netral</td>\n",
              "      <td>[hey, coba, himbau, warganya, cek, seifikat, v...</td>\n",
              "      <td>[coba, himbau, warganya, cek, seifikat, vaksin...</td>\n",
              "      <td>{'hey': 1, 'coba': 1, 'himbau': 1, 'warganya':...</td>\n",
              "      <td>[coba, himbau, warganya, cek, seifikat, vaksin...</td>\n",
              "      <td>[coba, himbau, warga, cek, seifikat, vaksin, p...</td>\n",
              "      <td>coba himbau warga cek seifikat vaksin peduli l...</td>\n",
              "    </tr>\n",
              "    <tr>\n",
              "      <th>1</th>\n",
              "      <td>mumpung netizen progresif dan berwawasan diban...</td>\n",
              "      <td>RT @Outstandjing: Mumpung netizen progresif da...</td>\n",
              "      <td>netral</td>\n",
              "      <td>[mumpung, netizen, progresif, dan, berwawasan,...</td>\n",
              "      <td>[mumpung, netizen, progresif, berwawasan, diba...</td>\n",
              "      <td>{'mumpung': 1, 'netizen': 1, 'progresif': 1, '...</td>\n",
              "      <td>[mumpung, netizen, progresif, berwawasan, diba...</td>\n",
              "      <td>[mumpung, netizen, progresif, wawas, banding, ...</td>\n",
              "      <td>mumpung netizen progresif wawas banding keluar...</td>\n",
              "    </tr>\n",
              "    <tr>\n",
              "      <th>2</th>\n",
              "      <td>ini setelah vaksin booster jadi batuk mana awe...</td>\n",
              "      <td>Ini setelah vaksin booster jadi batukkkk.. man...</td>\n",
              "      <td>negative</td>\n",
              "      <td>[ini, setelah, vaksin, booster, jadi, batuk, m...</td>\n",
              "      <td>[vaksin, booster, batuk, awet, sampe, skrng, y...</td>\n",
              "      <td>{'ini': 1, 'setelah': 1, 'vaksin': 1, 'booster...</td>\n",
              "      <td>[vaksin, booster, batuk, awet, sampe, skrng, y...</td>\n",
              "      <td>[vaksin, booster, batuk, awet, sampe, skrng, y...</td>\n",
              "      <td>vaksin booster batuk awet sampe skrng yaallah ...</td>\n",
              "    </tr>\n",
              "    <tr>\n",
              "      <th>3</th>\n",
              "      <td>maju loe bible gak takut gw gw dah vaksin booster</td>\n",
              "      <td>RT @rockmansick: MAJU LOE BIBLE GAK TAKUT GW, ...</td>\n",
              "      <td>positive</td>\n",
              "      <td>[maju, loe, bible, gak, takut, gw, gw, dah, va...</td>\n",
              "      <td>[maju, bible, takut, vaksin, booster]</td>\n",
              "      <td>{'maju': 1, 'loe': 1, 'bible': 1, 'gak': 1, 't...</td>\n",
              "      <td>[maju, bible, takut, vaksin, booster]</td>\n",
              "      <td>[maju, bible, takut, vaksin, booster]</td>\n",
              "      <td>maju bible takut vaksin booster</td>\n",
              "    </tr>\n",
              "    <tr>\n",
              "      <th>4</th>\n",
              "      <td>maju loe bible gak takut gw gw dah vaksin booster</td>\n",
              "      <td>MAJU LOE BIBLE GAK TAKUT GW, GW DAH VAKSIN BOO...</td>\n",
              "      <td>positive</td>\n",
              "      <td>[maju, loe, bible, gak, takut, gw, gw, dah, va...</td>\n",
              "      <td>[maju, bible, takut, vaksin, booster]</td>\n",
              "      <td>{'maju': 1, 'loe': 1, 'bible': 1, 'gak': 1, 't...</td>\n",
              "      <td>[maju, bible, takut, vaksin, booster]</td>\n",
              "      <td>[maju, bible, takut, vaksin, booster]</td>\n",
              "      <td>maju bible takut vaksin booster</td>\n",
              "    </tr>\n",
              "  </tbody>\n",
              "</table>\n",
              "</div>\n",
              "      <button class=\"colab-df-convert\" onclick=\"convertToInteractive('df-575ec986-dcb2-4626-87b5-244b7b188eb5')\"\n",
              "              title=\"Convert this dataframe to an interactive table.\"\n",
              "              style=\"display:none;\">\n",
              "        \n",
              "  <svg xmlns=\"http://www.w3.org/2000/svg\" height=\"24px\"viewBox=\"0 0 24 24\"\n",
              "       width=\"24px\">\n",
              "    <path d=\"M0 0h24v24H0V0z\" fill=\"none\"/>\n",
              "    <path d=\"M18.56 5.44l.94 2.06.94-2.06 2.06-.94-2.06-.94-.94-2.06-.94 2.06-2.06.94zm-11 1L8.5 8.5l.94-2.06 2.06-.94-2.06-.94L8.5 2.5l-.94 2.06-2.06.94zm10 10l.94 2.06.94-2.06 2.06-.94-2.06-.94-.94-2.06-.94 2.06-2.06.94z\"/><path d=\"M17.41 7.96l-1.37-1.37c-.4-.4-.92-.59-1.43-.59-.52 0-1.04.2-1.43.59L10.3 9.45l-7.72 7.72c-.78.78-.78 2.05 0 2.83L4 21.41c.39.39.9.59 1.41.59.51 0 1.02-.2 1.41-.59l7.78-7.78 2.81-2.81c.8-.78.8-2.07 0-2.86zM5.41 20L4 18.59l7.72-7.72 1.47 1.35L5.41 20z\"/>\n",
              "  </svg>\n",
              "      </button>\n",
              "      \n",
              "  <style>\n",
              "    .colab-df-container {\n",
              "      display:flex;\n",
              "      flex-wrap:wrap;\n",
              "      gap: 12px;\n",
              "    }\n",
              "\n",
              "    .colab-df-convert {\n",
              "      background-color: #E8F0FE;\n",
              "      border: none;\n",
              "      border-radius: 50%;\n",
              "      cursor: pointer;\n",
              "      display: none;\n",
              "      fill: #1967D2;\n",
              "      height: 32px;\n",
              "      padding: 0 0 0 0;\n",
              "      width: 32px;\n",
              "    }\n",
              "\n",
              "    .colab-df-convert:hover {\n",
              "      background-color: #E2EBFA;\n",
              "      box-shadow: 0px 1px 2px rgba(60, 64, 67, 0.3), 0px 1px 3px 1px rgba(60, 64, 67, 0.15);\n",
              "      fill: #174EA6;\n",
              "    }\n",
              "\n",
              "    [theme=dark] .colab-df-convert {\n",
              "      background-color: #3B4455;\n",
              "      fill: #D2E3FC;\n",
              "    }\n",
              "\n",
              "    [theme=dark] .colab-df-convert:hover {\n",
              "      background-color: #434B5C;\n",
              "      box-shadow: 0px 1px 3px 1px rgba(0, 0, 0, 0.15);\n",
              "      filter: drop-shadow(0px 1px 2px rgba(0, 0, 0, 0.3));\n",
              "      fill: #FFFFFF;\n",
              "    }\n",
              "  </style>\n",
              "\n",
              "      <script>\n",
              "        const buttonEl =\n",
              "          document.querySelector('#df-575ec986-dcb2-4626-87b5-244b7b188eb5 button.colab-df-convert');\n",
              "        buttonEl.style.display =\n",
              "          google.colab.kernel.accessAllowed ? 'block' : 'none';\n",
              "\n",
              "        async function convertToInteractive(key) {\n",
              "          const element = document.querySelector('#df-575ec986-dcb2-4626-87b5-244b7b188eb5');\n",
              "          const dataTable =\n",
              "            await google.colab.kernel.invokeFunction('convertToInteractive',\n",
              "                                                     [key], {});\n",
              "          if (!dataTable) return;\n",
              "\n",
              "          const docLinkHtml = 'Like what you see? Visit the ' +\n",
              "            '<a target=\"_blank\" href=https://colab.research.google.com/notebooks/data_table.ipynb>data table notebook</a>'\n",
              "            + ' to learn more about interactive tables.';\n",
              "          element.innerHTML = '';\n",
              "          dataTable['output_type'] = 'display_data';\n",
              "          await google.colab.output.renderOutput(dataTable, element);\n",
              "          const docLink = document.createElement('div');\n",
              "          docLink.innerHTML = docLinkHtml;\n",
              "          element.appendChild(docLink);\n",
              "        }\n",
              "      </script>\n",
              "    </div>\n",
              "  </div>\n",
              "  "
            ]
          },
          "metadata": {},
          "execution_count": 69
        }
      ]
    },
    {
      "cell_type": "code",
      "source": [
        "from sklearn.feature_extraction.text import CountVectorizer"
      ],
      "metadata": {
        "id": "SezWkcPUJd9z"
      },
      "execution_count": null,
      "outputs": []
    },
    {
      "cell_type": "code",
      "source": [
        "from sklearn.model_selection import train_test_split\n",
        "# extract the labels from the train data\n",
        "y = df_train.label.values\n",
        "# use 70% for the training and 30% for the test\n",
        "x_train, x_test, y_train, y_test = train_test_split(df_train.done_text.values, y,\n",
        "stratify=y,\n",
        "random_state=1,\n",
        "test_size=0.5, shuffle=True)"
      ],
      "metadata": {
        "id": "5e-LRS93Km3p"
      },
      "execution_count": null,
      "outputs": []
    },
    {
      "cell_type": "code",
      "source": [
        "from sklearn.feature_extraction.text import CountVectorizer\n",
        "# initializing the countvectorizer\n",
        "vectorizer = CountVectorizer()\n",
        "# tokenize and make the document into a matrix\n",
        "document_term_matrix = vectorizer.fit_transform(df_train['done_text'])\n",
        "# check the result\n",
        "df_baru = pd.DataFrame(document_term_matrix.toarray(), columns = vectorizer.get_feature_names())"
      ],
      "metadata": {
        "id": "ELRbkcnjKx_m"
      },
      "execution_count": null,
      "outputs": []
    },
    {
      "cell_type": "code",
      "source": [
        "stopwords_indo = txt_stopword.stopwords.to_list()"
      ],
      "metadata": {
        "id": "ZKK-_k-YNdUC"
      },
      "execution_count": null,
      "outputs": []
    },
    {
      "cell_type": "code",
      "source": [
        "from sklearn.feature_extraction.text import CountVectorizer\n",
        "# vectorize tweets for model building\n",
        "vectorizer = CountVectorizer(binary=True, stop_words=stopwords_indo)\n",
        "# learn a vocabulary dictionary of all tokens in the raw documents\n",
        "vectorizer.fit(list(x_train) + list(x_test))\n",
        "# transform documents to document-term matrix\n",
        "x_train_vec = vectorizer.transform(x_train)\n",
        "x_test_vec = vectorizer.transform(x_test)"
      ],
      "metadata": {
        "colab": {
          "base_uri": "https://localhost:8080/"
        },
        "id": "00MVOk62LFWq",
        "outputId": "e1ed5c80-13f5-478b-d2b0-a00b565e789e"
      },
      "execution_count": null,
      "outputs": [
        {
          "output_type": "stream",
          "name": "stderr",
          "text": [
            "/usr/local/lib/python3.7/dist-packages/sklearn/feature_extraction/text.py:401: UserWarning: Your stop_words may be inconsistent with your preprocessing. Tokenizing the stop words generated tokens ['aa', 'aaa', 'aaaahhhh', 'aaaakkkhhhhhh', 'aaah', 'aah', 'aahh', 'aahhh', 'aajh', 'aang', 'ab', 'aba', 'abc', 'abd', 'acan', 'ada', 'adalah', 'adanya', 'adapun', 'ade', 'adoh', 'aduch', 'aduhh', 'ae', 'aeeee', 'aernye', 'aga', 'again', 'agak', 'agaknya', 'agar', 'agree', 'ah', 'ahaaaaa', 'ahahahah', 'ahelah', 'ahh', 'ahhahshahahsha', 'ahhay', 'ahhh', 'ahhhh', 'ahhhhh', 'ahool', 'ai', 'aig', 'aih', 'aiiihhh', 'ailapyupul', 'aing', 'aj', 'aja', 'ajaa', 'ajaaah', 'ajaah', 'ajasi', 'ajib', 'ajj', 'ajjaaa', 'aka', 'akan', 'akankah', 'akankh', 'akh', 'akhir', 'akhiri', 'akhirnya', 'akhirx', 'akse', 'aku', 'akubingin', 'akulah', 'akutuh', 'al', 'alah', 'alangkah', 'alhamdulillah', 'alla', 'alu', 'always', 'am', 'ama', 'amat', 'amatlah', 'amp', 'ampe', 'an', 'anca', 'and', 'anda', 'andalah', 'angg', 'ani', 'anta', 'antar', 'antara', 'antaranya', 'apa', 'apaa', 'apaaaaa', 'apaaaannnn', 'apaan', 'apaansi', 'apaapa', 'apabedanya', 'apabila', 'apabilah', 'apabl', 'apain', 'apaka', 'apakah', 'apakh', 'apalagi', 'apalg', 'apalgi', 'apas', 'apasih', 'apatah', 'aph', 'apkah', 'aplagi', 'aplg', 'arb', 'are', 'arti', 'artinya', 'as', 'asa', 'asal', 'asalkan', 'asee', 'aseeekkk', 'aseekk', 'aseekkk', 'asek', 'ashes', 'asiiik', 'asiiikkk', 'asik', 'asn', 'asseeekkkk', 'assuuu', 'astaga', 'astagaaaaa', 'astagaaaahhh', 'astagfirullah', 'astaghf', 'astaghfirullah', 'astaghfrullah', 'astagpirullohalazmin', 'asu', 'asuuu', 'asyiapp', 'asyiiiiik', 'asyik', 'at', 'atas', 'atau', 'ataukah', 'ataupun', 'ato', 'atr', 'atuh', 'aud', 'audzubillah', 'awal', 'awalnya', 'awokaowkaowk', 'awokawokawok', 'aww', 'awwww', 'ay', 'ayoo', 'ayyy', 'ba', 'baaeerrree', 'backstreet', 'bag', 'bagai', 'bagaikan', 'bagaimana', 'bagaimanakah', 'bagaimanapun', 'bagainamakah', 'bageb', 'bagemana', 'bagi', 'bagiamana', 'bagian', 'bah', 'bahahaha', 'bahahak', 'bahkan', 'bahwa', 'bahwasannya', 'bahwasanya', 'bai', 'baik', 'baiklah', 'baiknya', 'bain', 'bakal', 'bakalan', 'balik', 'bant', 'banyak', 'bap', 'bapak', 'bar', 'bara', 'baru', 'bas', 'bat', 'bawah', 'be', 'beberapa', 'beer', 'beg', 'begi', 'begini', 'beginian', 'beginikah', 'beginilah', 'begitu', 'begitukah', 'begitulah', 'begitupun', 'beh', 'beib', 'bekerja', 'belakang', 'belakangan', 'belum', 'belumlah', 'ben', 'bena', 'benar', 'benarkah', 'benarlah', 'ber', 'berada', 'berakhir', 'berakhirlah', 'berakhirnya', 'berapa', 'berapakah', 'berapalah', 'berapapun', 'berarti', 'berawal', 'berbagai', 'berdatangan', 'beri', 'berikan', 'berikut', 'berikutnya', 'berjumlah', 'berkali', 'berkata', 'berkehendak', 'berkeinginan', 'berkenaan', 'berlainan', 'berlalu', 'berlangsung', 'berlebihan', 'bermacam', 'bermaksud', 'bermula', 'bers', 'bersama', 'bersiap', 'bertanya', 'berturut', 'bertutur', 'berujar', 'berupa', 'besar', 'betul', 'betulkah', 'bg', 'bgaimana', 'bgini', 'bgmn', 'bgt', 'bi', 'biarpun', 'biasa', 'biasanya', 'bila', 'bilakah', 'bisa', 'bisakah', 'bisn', 'biup', 'biyar', 'bk', 'bkal', 'bkn', 'bla', 'blenggg', 'blm', 'blo', 'blom', 'bnyk', 'bo', 'bol', 'boleh', 'bolehkah', 'bolehlah', 'boys', 'braderrr', 'bro', 'broo', 'bs', 'btw', 'buat', 'bukan', 'bukankah', 'bukanlah', 'bukannya', 'bukanya', 'bulan', 'bun', 'bung', 'bur', 'but', 'bwa', 'bwt', 'by', 'byk', 'ca', 'cai', 'cam', 'can', 'cara', 'caranya', 'care', 'cc', 'ci', 'cie', 'ciiee', 'cik', 'ckakak', 'ckckck', 'cm', 'co', 'cok', 'cokkk', 'come', 'common', 'con', 'couldn', 'cour', 'coy', 'coz', 'cu', 'cuih', 'cuihhhh', 'cuk', 'cukup', 'cukupkah', 'cukuplah', 'cuma', 'cuy', 'da', 'dab', 'dah', 'dahh', 'dahhh', 'dahulu', 'dalam', 'dan', 'dapat', 'dar', 'dari', 'daripada', 'datang', 'db', 'de', 'death', 'dech', 'deee', 'deh', 'dehh', 'dekat', 'demi', 'demikian', 'demikianlah', 'deng', 'dengan', 'depan', 'dg', 'dgn', 'di', 'dia', 'diakhiri', 'diakhirinya', 'dialah', 'diantara', 'diantaranya', 'dianya', 'diar', 'diberi', 'diberikan', 'diberikannya', 'dibia', 'dibuat', 'dibuatnya', 'did', 'didapat', 'didatangkan', 'digunakan', 'diibaratkan', 'diibaratkannya', 'diingat', 'diingatkan', 'diinginkan', 'dijawab', 'dijelaskan', 'dijelaskannya', 'dikarenakan', 'dikatakan', 'dikatakannya', 'dikerjakan', 'diketahui', 'diketahuinya', 'dikira', 'dil', 'dila', 'dilakukan', 'dilalui', 'dilihat', 'dimaksud', 'dimaksudkan', 'dimaksudkannya', 'dimaksudnya', 'diminta', 'dimintai', 'dimisalkan', 'dimulai', 'dimulailah', 'dimulainya', 'dimungkinkan', 'dini', 'dink', 'dipastikan', 'diperbuat', 'diperbuatnya', 'dipergunakan', 'diperkirakan', 'diperlihatkan', 'diperlukan', 'diperlukannya', 'dipersoalkan', 'dipertanyakan', 'dipunyai', 'diri', 'dirinya', 'disampaikan', 'disebut', 'disebutkan', 'disebutkannya', 'disini', 'disinilah', 'ditambahkan', 'ditandaskan', 'ditanya', 'ditanyai', 'ditanyakan', 'ditegaskan', 'ditujukan', 'ditunjuk', 'ditunjuki', 'ditunjukkan', 'ditunjukkannya', 'ditunjuknya', 'dituturkan', 'dituturkannya', 'diucapkan', 'diucapkannya', 'diungkapkan', 'djangan', 'dll', 'dlm', 'dlu', 'dmn', 'dn', 'dng', 'do', 'doing', 'don', 'dong', 'donk', 'dp', 'dpt', 'dr', 'drpd', 'dst', 'dtg', 'du', 'dua', 'duh', 'duhh', 'dulu', 'dust', 'dwatkn', 'dy', 'ea', 'eaaaa', 'ealah', 'ee', 'eeeh', 'eeh', 'eh', 'ehe', 'ehh', 'ehhh', 'ehhhh', 'eih', 'eihh', 'eiy', 'ela', 'elah', 'emng', 'empat', 'en', 'enak', 'eng', 'enggak', 'enggaknya', 'entah', 'entahlah', 'eo', 'er', 'et', 'euy', 'eye', 'fa', 'fii', 'fir', 'fl', 'flood', 'follow', 'following', 'for', 'free', 'from', 'fya', 'fyi', 'gaes', 'gaess', 'gaesss', 'gangs', 'gar', 'gass', 'gate', 'ge', 'gedhe', 'gem', 'ggh', 'ggu', 'gi', 'gig', 'gih', 'gimana', 'gin', 'gitu', 'gitulah', 'gk', 'gmn', 'gn', 'go', 'going', 'gom', 'good', 'gpp', 'gsk', 'gt', 'gud', 'gug', 'gun', 'guna', 'gunakan', 'guys', 'guyss', 'gw', 'ha', 'haaa', 'haahaaa', 'hadap', 'hadech', 'hadeeeeeh', 'hadeeeeehhh', 'hadeeehhh', 'hadeehhh', 'hadeeuh', 'hadeh', 'hadeuh', 'haduh', 'hah', 'haha', 'hai', 'haiii', 'hal', 'halah', 'hallo', 'halo', 'hampir', 'hanya', 'hanyalah', 'hari', 'harus', 'haruslah', 'harusnya', 'hayo', 'he', 'heeeeellloooo', 'hehe', 'hehehe', 'heleh', 'hello', 'helo', 'hend', 'hendak', 'hendaklah', 'hendaknya', 'here', 'hey', 'hhh', 'hih', 'hiikksss', 'hilihhh', 'hingga', 'his', 'hk', 'hmm', 'hmmm', 'hmmmmm', 'hmmmmmm', 'hny', 'ho', 'horeee', 'hr', 'hsil', 'hsl', 'ht', 'huaaahaaaaa', 'huh', 'huhuhu', 'ia', 'ialah', 'ibarat', 'ibaratkan', 'ibaratnya', 'ibu', 'ieu', 'if', 'ih', 'ihh', 'ii', 'iki', 'ikut', 'ilah', 'imb', 'imf', 'in', 'ind', 'ing', 'ingat', 'ingin', 'inginkah', 'inginkan', 'ini', 'inikah', 'inilah', 'is', 'iss', 'it', 'itu', 'itukah', 'itulah', 'iya', 'iyaa', 'iyaaa', 'ja', 'jab', 'jadi', 'jadilah', 'jadinya', 'jagan', 'jah', 'jan', 'jangan', 'jangankan', 'janganlah', 'jangn', 'january', 'jat', 'jauh', 'jauuh', 'jawab', 'jawaban', 'jawabnya', 'jd', 'jdi', 'jdkn', 'jee', 'jelas', 'jelaskan', 'jelaslah', 'jelasnya', 'jengn', 'jg', 'jgan', 'jgn', 'jhiee', 'ji', 'jiaah', 'jiah', 'jika', 'jikalau', 'jin', 'jl', 'jleb', 'jln', 'jngn', 'jo', 'jomp', 'joosss', 'joss', 'josss', 'ju', 'juaraaa', 'juga', 'jugaa', 'jumlah', 'jumlahnya', 'justru', 'ka', 'kadar', 'kagak', 'kah', 'kak', 'kal', 'kala', 'kalau', 'kalaulah', 'kalaupun', 'kali', 'kalian', 'kalo', 'kam', 'kami', 'kamilah', 'kamu', 'kamulah', 'kan', 'kannnn', 'kantri', 'kapan', 'kapankah', 'kapanpun', 'karena', 'karenanya', 'karepmu', 'kasihh', 'kasus', 'kata', 'katakan', 'katakanlah', 'katanya', 'kayak', 'ke', 'keadaan', 'kebetulan', 'kecil', 'kedua', 'keduanya', 'keinginan', 'kek', 'kelamaan', 'keleus', 'kelihatan', 'kelihatannya', 'kelima', 'keluar', 'kem', 'kembali', 'kemudian', 'kemungkinan', 'kemungkinannya', 'ken', 'kena', 'kenapa', 'kepa', 'kepada', 'kepadanya', 'ker', 'keri', 'kerja', 'kerna', 'kes', 'kesampaian', 'keseluruhan', 'keseluruhannya', 'keterlaluan', 'ketika', 'keunn', 'khan', 'khusus', 'khususnya', 'ki', 'kini', 'kinilah', 'kira', 'kiranya', 'kita', 'kitalah', 'kkk', 'kl', 'klo', 'klop', 'klu', 'klw', 'km', 'kn', 'koe', 'koit', 'kok', 'kom', 'kor', 'kpd', 'kpn', 'kr', 'krn', 'ksh', 'ksi', 'ksp', 'kua', 'kual', 'kudu', 'kuk', 'kurang', 'kurangnya', 'kwak', 'kwk', 'kwkwk', 'ky', 'la', 'laah', 'laahh', 'laelah', 'lagi', 'lagian', 'lah', 'lahh', 'lahhh', 'lai', 'lain', 'lainnya', 'lak', 'laku', 'lalu', 'lama', 'lamanya', 'langsung', 'lanjut', 'lanjutnya', 'lat', 'lbh', 'lc', 'ld', 'le', 'leb', 'lebih', 'lewat', 'lg', 'lha', 'lho', 'lihat', 'like', 'lima', 'liyat', 'lo', 'loe', 'loh', 'lohh', 'lohhhh', 'look', 'loooh', 'lu', 'luar', 'lum', 'lur', 'lwt', 'ma', 'maaaaad', 'macam', 'mah', 'mahl', 'mai', 'maka', 'makanya', 'makin', 'maksud', 'malah', 'malahan', 'mam', 'mampu', 'mampukah', 'man', 'mana', 'manakala', 'manalagi', 'mang', 'mantaaapp', 'march', 'mas', 'masa', 'masalah', 'masalahnya', 'masih', 'masihkah', 'masing', 'masuk', 'mata', 'mau', 'maupun', 'maww', 'may', 'mb', 'mba', 'mbh', 'mbok', 'md', 'me', 'meh', 'mel', 'melainkan', 'melakukan', 'melalui', 'melihat', 'melihatnya', 'mem', 'memang', 'memastikan', 'memba', 'memberi', 'memberikan', 'membuat', 'memerlukan', 'memihak', 'meminta', 'memintakan', 'memisalkan', 'memperba', 'memperbuat', 'mempergunakan', 'memperkirakan', 'memperlihatkan', 'mempersiapkan', 'mempersoalkan', 'mempertanyakan', 'mempunyai', 'memulai', 'memungkinkan', 'men', 'menaiki', 'menambahkan', 'menandaskan', 'menanti', 'menantikan', 'menanya', 'menanyai', 'menanyakan', 'mend', 'mendapat', 'mendapatkan', 'mendatang', 'mendatangi', 'mendatangkan', 'menegaskan', 'meng', 'mengakhiri', 'mengapa', 'mengatakan', 'mengatakannya', 'mengenai', 'mengerjakan', 'mengetahui', 'mengg', 'menggunakan', 'menghendaki', 'mengibaratkan', 'mengibaratkannya', 'mengingat', 'mengingatkan', 'menginginkan', 'mengira', 'mengucapkan', 'mengucapkannya', 'mengungkapkan', 'menjadi', 'menjawab', 'menjelaskan', 'menuju', 'menunjuk', 'menunjuki', 'menunjukkan', 'menunjuknya', 'menurut', 'menuturkan', 'menyampaikan', 'menyangkut', 'menyatakan', 'menyebutkan', 'menyeluruh', 'menyer', 'menyiapkan', 'mer', 'merasa', 'mere', 'mereka', 'merekalah', 'merupakan', 'mes', 'meski', 'meskipun', 'met', 'meyakini', 'meyakinkan', 'mg', 'mgg', 'mi', 'min', 'minta', 'mirip', 'misal', 'misalkan', 'misalnya', 'mistakes', 'mks', 'mksh', 'mlm', 'mm', 'mo', 'moga', 'moh', 'mohon', 'mon', 'more', 'mp', 'mpe', 'mpod', 'mr', 'mrk', 'ms', 'msh', 'mul', 'mula', 'mulai', 'mulailah', 'mulanya', 'mun', 'mungkin', 'mungkinkah', 'mw', 'mwnyedihkan', 'my', 'na', 'nah', 'nahh', 'naik', 'namun', 'nan', 'nang', 'nanti', 'nantinya', 'ncuup', 'ndase', 'nder', 'ndezz', 'ndroo', 'ndy', 'ne', 'neeh', 'neg', 'neh', 'nek', 'neng', 'ng', 'ngak', 'nge', 'ngk', 'ngo', 'ngoahahahahahaaa', 'nguyu', 'ni', 'nie', 'nih', 'nii', 'nis', 'nk', 'no', 'noh', 'np', 'ntah', 'ntap', 'ntar', 'ntr', 'ntu', 'ntuh', 'ntup', 'nuh', 'ny', 'nya', 'nyaaa', 'nyang', 'nyaris', 'nyata', 'nyatanya', 'nympek', 'nyok', 'oalah', 'oei', 'of', 'oh', 'oi', 'oiya', 'ojo', 'ok', 'ol', 'olah', 'oleh', 'olehnya', 'om', 'omg', 'on', 'oo', 'ooo', 'ooohhh', 'or', 'orang', 'org', 'ot', 'owalah', 'pada', 'padahal', 'padanya', 'pak', 'paling', 'panjang', 'pantas', 'para', 'pasi', 'pasti', 'pastilah', 'pd', 'pe', 'pea', 'peeeeetttt', 'peel', 'peesai', 'pek', 'peke', 'pem', 'pen', 'penc', 'penting', 'pentingnya', 'peny', 'per', 'percuma', 'peri', 'perlu', 'perlukah', 'perlunya', 'pernah', 'persoalan', 'pertama', 'pertanyaan', 'pertanyakan', 'pi', 'pic', 'piee', 'pihak', 'pihaknya', 'pin', 'ping', 'pis', 'piye', 'piyek', 'piyu', 'pl', 'please', 'po', 'pohonnnn', 'poi', 'pol', 'pp', 'pr', 'practice', 'pre', 'preesss', 'pret', 'prop', 'prrreeetttthh', 'pt', 'pukul', 'pula', 'pun', 'punya', 'qckog', 'ra', 'rang', 'rasa', 'rasanya', 'rb', 're', 'reply', 'ret', 'rit', 'rj', 'road', 'ros', 'rrrrrr', 'rt', 'rupa', 'rupanya', 'sa', 'saa', 'saat', 'saatnya', 'sada', 'saja', 'sajalah', 'sak', 'sal', 'salam', 'saling', 'sam', 'sama', 'sambil', 'samlekum', 'sampai', 'sampaikan', 'sana', 'sang', 'sangat', 'sangatlah', 'sangkut', 'sar', 'satu', 'say', 'saya', 'sayalah', 'sayrap', 'sbg', 'sbgai', 'sblm', 'sbuah', 'sdh', 'se', 'sebab', 'sebabnya', 'sebagai', 'sebagaimana', 'sebagainya', 'sebagian', 'sebaik', 'sebaiknya', 'sebaliknya', 'sebanyak', 'sebegini', 'sebegitu', 'sebelum', 'sebelumnya', 'sebenarnya', 'seberapa', 'sebesar', 'sebetulnya', 'sebisanya', 'sebuah', 'sebut', 'sebutlah', 'sebutnya', 'sec', 'secara', 'secukupnya', 'sedang', 'sedangkan', 'sedemikian', 'sedikit', 'sedikitnya', 'seenaknya', 'segala', 'segalanya', 'segera', 'seh', 'seharusnya', 'sehingga', 'seingat', 'sejak', 'sejauh', 'sejenak', 'sejumlah', 'sek', 'sekadar', 'sekadarnya', 'sekali', 'sekalian', 'sekaligus', 'sekalipun', 'sekarang', 'sekaranglah', 'sekecil', 'seketika', 'sekiranya', 'sekitar', 'sekitarnya', 'sekrg', 'sekurang', 'sekurangnya', 'sela', 'selain', 'selaku', 'selalu', 'selama', 'selamanya', 'selanjutnya', 'seluruh', 'seluruhnya', 'sem', 'semacam', 'semakin', 'semampu', 'semampunya', 'semasa', 'semasih', 'semata', 'semaunya', 'sementara', 'semisal', 'semisalnya', 'sempat', 'semua', 'semuanya', 'semula', 'sendiri', 'sendirian', 'sendirinya', 'seng', 'seolah', 'seorang', 'sepanjang', 'sepantasnya', 'sepantasnyalah', 'seperlunya', 'seperti', 'sepertinya', 'sepihak', 'ser', 'sering', 'seringnya', 'serta', 'serupa', 'sesaat', 'sesama', 'sesampai', 'sesegera', 'sesekali', 'seseorang', 'sesuatu', 'sesuatunya', 'sesudah', 'sesudahnya', 'setelah', 'setempat', 'setengah', 'seterusnya', 'setiap', 'setiba', 'setibanya', 'setidak', 'setidaknya', 'setinggi', 'seusai', 'sewaktu', 'sh', 'share', 'si', 'siap', 'siapa', 'siapakah', 'siapapun', 'sib', 'sibuj', 'sich', 'siep', 'sig', 'sih', 'sihhh', 'siiiiiiiih', 'siip', 'sik', 'silakan', 'sin', 'sini', 'sinilah', 'sj', 'skrg', 'slrh', 'smple', 'smuwa', 'so', 'soal', 'soalnya', 'sook', 'sory', 'sosi', 'spt', 'spy', 'spya', 'ss', 'sssst', 'ssst', 'stand', 'su', 'suatu', 'sud', 'sudah', 'sudahkah', 'sudahlah', 'suggest', 'sul', 'supaya', 'sy', 'syi', 'syyo', 'ta', 'tadi', 'tadinya', 'tah', 'tahu', 'tak', 'tama', 'tambah', 'tambahnya', 'tampak', 'tampaknya', 'tan', 'tandas', 'tandasnya', 'tang', 'tanpa', 'tanya', 'tanyakan', 'tanyanya', 'tapi', 'tar', 'tdak', 'tdk', 'te', 'tegas', 'tegasnya', 'teh', 'tek', 'tela', 'telah', 'tempat', 'ten', 'tentang', 'tentu', 'tentulah', 'tentunya', 'tep', 'tepat', 'ter', 'terakhir', 'terasa', 'terb', 'terbanyak', 'terdahulu', 'terdapat', 'terdiri', 'terhadap', 'terhadapnya', 'teringat', 'terjadi', 'terjadilah', 'terjadinya', 'terkira', 'terl', 'terlalu', 'terlebih', 'terlihat', 'termasuk', 'ternyata', 'tersampaikan', 'tersebut', 'tersebutlah', 'tertentu', 'tertuju', 'terus', 'terutama', 'tetap', 'tetapi', 'tgjwb', 'th', 'that', 'thd', 'the', 'theatre', 'they', 'third', 'tho', 'thread', 'ti', 'tiap', 'tiba', 'tidak', 'tidakkah', 'tidaklah', 'tidaknya', 'tiga', 'tik', 'ting', 'tir', 'tl', 'to', 'toeeettt', 'toet', 'toh', 'tok', 'tong', 'tour', 'tp', 'tr', 'tragedy', 'tri', 'trus', 'ts', 'tsb', 'tsbt', 'tt', 'ttg', 'tu', 'tuh', 'tuip', 'tuit', 'tuju', 'tuk', 'tunjuk', 'tur', 'turut', 'tutur', 'tuturnya', 'tuu', 'tw', 'twe', 'twit', 'ucap', 'ucapnya', 'udah', 'udahan', 'udahlah', 'uea', 'uhmmm', 'uhuii', 'uhuyyy', 'uittt', 'ujar', 'ujarnya', 'umumnya', 'un', 'ungkap', 'ungkapnya', 'untuk', 'update', 'uppppsss', 'ups', 'usah', 'usai', 'utk', 'var', 'vi', 'vs', 'vuk', 'wa', 'waaahh', 'waahh', 'wadoooohhh', 'waduh', 'waduhhh', 'waduuuhhhh', 'wah', 'wahai', 'wahaye', 'wahhh', 'waktunya', 'wal', 'wala', 'walau', 'walaupun', 'we', 'wen', 'wh', 'what', 'where', 'why', 'wi', 'wid', 'wih', 'wihhhhh', 'will', 'wis', 'wj', 'wk', 'wkwaww', 'wkwk', 'wkwkw', 'wkwkwk', 'woi', 'woii', 'wonderfull', 'wong', 'wooiii', 'wooiiii', 'woooooi', 'woooy', 'woooyyyyy', 'wooyy', 'world', 'wouy', 'wow', 'woy', 'woyy', 'woyyy', 'woyyyyy', 'woyyyyyy', 'wuiih', 'wuiiih', 'wuuuu', 'ww', 'wyg', 'xi', 'xs', 'ya', 'yaa', 'yaaa', 'yaah', 'yaelah', 'yah', 'yaitu', 'yakali', 'yakin', 'yakni', 'yan', 'yang', 'yar', 'yee', 'yeee', 'yes', 'yess', 'yg', 'yng', 'yo', 'yoiii', 'yokk', 'you', 'ypk', 'yth', 'yu', 'yuk', 'yukk', 'yup', 'yups', 'yupsss', 'yv', 'za', 'zzz', 'zzzzzz'] not in stop_words.\n",
            "  % sorted(inconsistent)\n"
          ]
        }
      ]
    },
    {
      "cell_type": "code",
      "source": [
        "from sklearn import svm\n",
        "# classify using support vector classifier\n",
        "svm = svm.SVC(kernel = 'linear', probability=True)\n",
        "# fit the SVC model based on the given training data\n",
        "prob = svm.fit(x_train_vec, y_train).predict_proba(x_test_vec)\n",
        "# perform classification and prediction on samples in x_test\n",
        "y_pred_svm = svm.predict(x_test_vec)"
      ],
      "metadata": {
        "id": "-KqGzNXNLnja"
      },
      "execution_count": null,
      "outputs": []
    },
    {
      "cell_type": "code",
      "source": [
        "conf_mat = confusion_matrix(y_test, y_pred_svm)\n",
        "print(conf_mat)\n",
        "print(classification_report(y_test, y_pred_svm, digits = 4))"
      ],
      "metadata": {
        "colab": {
          "base_uri": "https://localhost:8080/"
        },
        "id": "Tmu3D0hmOUQ9",
        "outputId": "ccfc4e28-0a25-4e4b-b214-fc67205af4c2"
      },
      "execution_count": null,
      "outputs": [
        {
          "output_type": "stream",
          "name": "stdout",
          "text": [
            "[[ 8  9  1]\n",
            " [ 0 17  4]\n",
            " [ 0 10 34]]\n",
            "              precision    recall  f1-score   support\n",
            "\n",
            "    negative     1.0000    0.4444    0.6154        18\n",
            "      netral     0.4722    0.8095    0.5965        21\n",
            "    positive     0.8718    0.7727    0.8193        44\n",
            "\n",
            "    accuracy                         0.7108        83\n",
            "   macro avg     0.7813    0.6756    0.6771        83\n",
            "weighted avg     0.7985    0.7108    0.7187        83\n",
            "\n"
          ]
        }
      ]
    },
    {
      "cell_type": "code",
      "source": [
        "from sklearn.metrics import accuracy_score\n",
        "print(\"Accuracy score for SVC is: \", accuracy_score(y_test, y_pred_svm) * 100, '%')"
      ],
      "metadata": {
        "colab": {
          "base_uri": "https://localhost:8080/"
        },
        "id": "dBRHKi_JLrQI",
        "outputId": "16404d60-0a7a-4ad2-a4f5-78c49e0c4d99"
      },
      "execution_count": null,
      "outputs": [
        {
          "output_type": "stream",
          "name": "stdout",
          "text": [
            "Accuracy score for SVC is:  71.08433734939759 %\n"
          ]
        }
      ]
    },
    {
      "cell_type": "code",
      "source": [
        "sns.heatmap(conf_mat, annot=True)"
      ],
      "metadata": {
        "id": "pCMUkWrfPx8q"
      },
      "execution_count": null,
      "outputs": []
    },
    {
      "cell_type": "code",
      "source": [
        "test = vectorizer.transform(['belum vaksin booster dia'])\n",
        "svm.predict(test)"
      ],
      "metadata": {
        "colab": {
          "base_uri": "https://localhost:8080/"
        },
        "id": "uZVLFRhPQx7I",
        "outputId": "71ce1fc4-45f8-4499-e571-c4b530d7383e"
      },
      "execution_count": null,
      "outputs": [
        {
          "output_type": "execute_result",
          "data": {
            "text/plain": [
              "array(['netral'], dtype=object)"
            ]
          },
          "metadata": {},
          "execution_count": 95
        }
      ]
    },
    {
      "cell_type": "code",
      "source": [
        "test = vectorizer.transform(['vaksin booster jangan lupa'])\n",
        "svm.predict(test)"
      ],
      "metadata": {
        "colab": {
          "base_uri": "https://localhost:8080/"
        },
        "id": "zFjdL7nMlQwu",
        "outputId": "d5946e2a-8168-4b76-d63b-10e9001ea515"
      },
      "execution_count": null,
      "outputs": [
        {
          "output_type": "execute_result",
          "data": {
            "text/plain": [
              "array(['positive'], dtype=object)"
            ]
          },
          "metadata": {},
          "execution_count": 98
        }
      ]
    },
    {
      "cell_type": "code",
      "source": [
        "test = vectorizer.transform(['ga ada efek samping ya sayang ya btw vaksin booster nya itu pzifer'])\n",
        "svm.predict(test)"
      ],
      "metadata": {
        "colab": {
          "base_uri": "https://localhost:8080/"
        },
        "id": "qhTO68u_qiz5",
        "outputId": "48e68863-7b84-4336-f2fb-666535cd2265"
      },
      "execution_count": null,
      "outputs": [
        {
          "output_type": "execute_result",
          "data": {
            "text/plain": [
              "array(['netral'], dtype=object)"
            ]
          },
          "metadata": {},
          "execution_count": 99
        }
      ]
    },
    {
      "cell_type": "code",
      "source": [
        "test = vectorizer.transform(['nih yaa booster dan prokes adalah dua kunci tak terpisahkan sebab faktanya potensi kenaikan kasus masih tetap ada jika vaksin booster tidak dibarengi dengan disiplin protokol kesehatan'])\n",
        "svm.predict(test)"
      ],
      "metadata": {
        "colab": {
          "base_uri": "https://localhost:8080/"
        },
        "id": "mueW3R-VqxLC",
        "outputId": "9e87941c-0021-4931-93bb-fd52a2faa60b"
      },
      "execution_count": null,
      "outputs": [
        {
          "output_type": "execute_result",
          "data": {
            "text/plain": [
              "array(['positive'], dtype=object)"
            ]
          },
          "metadata": {},
          "execution_count": 102
        }
      ]
    },
    {
      "cell_type": "code",
      "source": [
        "test = vectorizer.transform(['bersihin kandang anabul vaksin booster tidur siang gara2 abis vaksin efek ngantuk hype hanabi badan panas dingin gini doang cape lemes jadi satu bye mau tidur lagi'])\n",
        "svm.predict(test)"
      ],
      "metadata": {
        "colab": {
          "base_uri": "https://localhost:8080/"
        },
        "id": "wuz-L9fBrB70",
        "outputId": "236a608f-63c2-41ce-bbb3-278159ebeb88"
      },
      "execution_count": null,
      "outputs": [
        {
          "output_type": "execute_result",
          "data": {
            "text/plain": [
              "array(['negative'], dtype=object)"
            ]
          },
          "metadata": {},
          "execution_count": 111
        }
      ]
    }
  ]
}